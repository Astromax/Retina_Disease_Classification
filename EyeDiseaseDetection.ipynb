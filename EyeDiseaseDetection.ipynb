{
  "nbformat": 4,
  "nbformat_minor": 0,
  "metadata": {
    "colab": {
      "name": "EyeDiseaseDetection.ipynb",
      "provenance": [],
      "collapsed_sections": [],
      "authorship_tag": "ABX9TyOp6oEZbpZeGBxRr6BKvE5g",
      "include_colab_link": true
    },
    "kernelspec": {
      "name": "python3",
      "display_name": "Python 3"
    },
    "language_info": {
      "name": "python"
    },
    "accelerator": "GPU"
  },
  "cells": [
    {
      "cell_type": "markdown",
      "metadata": {
        "id": "view-in-github",
        "colab_type": "text"
      },
      "source": [
        "<a href=\"https://colab.research.google.com/github/Astromax/Retina_Disease_Classification/blob/main/EyeDiseaseDetection.ipynb\" target=\"_parent\"><img src=\"https://colab.research.google.com/assets/colab-badge.svg\" alt=\"Open In Colab\"/></a>"
      ]
    },
    {
      "cell_type": "markdown",
      "metadata": {
        "id": "zpAakRV1_Rmr"
      },
      "source": [
        "The purpose of this is to determine whether or not a retina is healthy, and, if not, which of six different diseases it has. The data for this comes from a Kaggle competition, https://www.kaggle.com/c/vietai-advance-course-retinal-disease-detection/overview.\n",
        " There are 3,435 training images, with the following label breakdown: opacity - 0, diabetic retinopathy - 1, glaucoma - 2, macular edema - 3, macular degeneration - 4, retinal vascular occlusion - 5, and normal - 6.\n",
        "An important note: unlike an ordinary classification problem, in this case a retina may be afflicted with more than one ailment.  Because of this, the activation function for the final layer is sigmoid, instead of the usual softmax, effectively providing a probability for each label independent of the others.\n",
        "\n",
        "The data has been uploaded to my Google Drive for easy access & processing, if anyone reading this wants to replicate it just change the target directories."
      ]
    },
    {
      "cell_type": "code",
      "metadata": {
        "colab": {
          "base_uri": "https://localhost:8080/"
        },
        "id": "0mkBK6Qt_Ntr",
        "outputId": "5520a902-ce31-482d-cb78-f7100656ca35"
      },
      "source": [
        "#First let's mount the Drive so we can access the data...\n",
        "from google.colab import drive\n",
        "drive.mount('/content/drive')"
      ],
      "execution_count": 1,
      "outputs": [
        {
          "output_type": "stream",
          "text": [
            "Mounted at /content/drive\n"
          ],
          "name": "stdout"
        }
      ]
    },
    {
      "cell_type": "code",
      "metadata": {
        "id": "COzRUZA0_mcA"
      },
      "source": [
        "import os\n",
        "os.chdir('/content/drive/MyDrive/EyeDiseaseDetection/')"
      ],
      "execution_count": 2,
      "outputs": []
    },
    {
      "cell_type": "code",
      "metadata": {
        "id": "dYSa5OXB_ppC"
      },
      "source": [
        "from resnet_module_helpers_tf import *\n",
        "\n",
        "# Display\n",
        "from IPython.display import Image, display\n",
        "import matplotlib.cm as cm\n",
        "import matplotlib.pyplot as plt\n",
        "import numpy as np\n",
        "import pandas as pd\n",
        "from PIL import Image, ImageDraw\n",
        "from plotly.subplots import make_subplots\n",
        "import seaborn as sns\n",
        "from sklearn.metrics import multilabel_confusion_matrix as MLCM\n",
        "from sklearn.model_selection import train_test_split\n",
        "import tensorflow as tf\n",
        "\n",
        "from keras.activations import relu\n",
        "from keras.optimizers import Adam\n",
        "from keras.optimizers.schedules import ExponentialDecay\n",
        "from keras.preprocessing import image\n",
        "from keras.preprocessing.image import ImageDataGenerator\n",
        "from keras.models import Sequential\n",
        "from keras.layers import Conv2D, Flatten, MaxPool2D, Dense, Dropout, Input, BatchNormalization, Activation\n",
        "from keras.layers.experimental.preprocessing import RandomCrop, RandomFlip, RandomRotation\n",
        "from tqdm import tqdm\n",
        "\n",
        "physical_devices = tf.config.experimental.list_physical_devices('GPU')\n",
        "tf.config.experimental.set_memory_growth(physical_devices[0], True)"
      ],
      "execution_count": 3,
      "outputs": []
    },
    {
      "cell_type": "code",
      "metadata": {
        "id": "NqjiKRuyAbWp"
      },
      "source": [
        "#Establish location of data\n",
        "data_dir = './Data/Data/train'\n",
        "image_dir = data_dir+'/train'"
      ],
      "execution_count": 4,
      "outputs": []
    },
    {
      "cell_type": "code",
      "metadata": {
        "colab": {
          "base_uri": "https://localhost:8080/"
        },
        "id": "wbTml54JAjYT",
        "outputId": "2294b62a-e5be-48ca-d662-6cbee036041f"
      },
      "source": [
        "filenames = os.listdir(image_dir)\n",
        "print('Number of files: ', len(filenames))"
      ],
      "execution_count": 5,
      "outputs": [
        {
          "output_type": "stream",
          "text": [
            "Number of files:  3435\n"
          ],
          "name": "stdout"
        }
      ]
    },
    {
      "cell_type": "markdown",
      "metadata": {
        "id": "TAzb5p3LCuCX"
      },
      "source": [
        "Before doing the heavy-duty analysis, let's first make sure there are no anomalies.  A retina can have multiple diseases simultaneously, which means this is not a simple image classification problem.  However, there is also a seventh label, 'Normal', corresponding to a healthy retina.  If a retina has a disease it is, by definition, unhealthy, therefore any images with a one in the 'Normal' column *and any other* is an anomaly, which should be excluded from the analysis.  Similarly, an image with all zeros, corresponding to either a mislabel or a retina with a disease not in this set, is not useful for this analysis."
      ]
    },
    {
      "cell_type": "code",
      "metadata": {
        "colab": {
          "base_uri": "https://localhost:8080/"
        },
        "id": "PiK_WmkdBsAo",
        "outputId": "94f018df-1df7-4a14-9de7-242f2882f54f"
      },
      "source": [
        "#Let's check for anomalies and see how many of each disease type there are....\n",
        "labels_df = pd.read_csv(data_dir+'/train.csv')\n",
        "print('Number of all-zero anomalies: ', labels_df[(labels_df['opacity'] == 0) & (labels_df['diabetic retinopathy']==0)\n",
        "& (labels_df['glaucoma'] == 0) & (labels_df['macular edema'] == 0) & (labels_df['macular degeneration'] == 0) \n",
        "& (labels_df['retinal vascular occlusion'] == 0) & (labels_df['normal'] == 0)].count())\n",
        "\n",
        "print('Number of inconsistencies: ', labels_df[((labels_df['opacity'] == 1) | (labels_df['diabetic retinopathy']==1)\n",
        "| (labels_df['glaucoma'] == 1) | (labels_df['macular edema'] == 1) | (labels_df['macular degeneration'] == 1) \n",
        "| (labels_df['retinal vascular occlusion'] == 1)) & (labels_df['normal'] == 1)].count())\n",
        "\n",
        "print('Opacity count: ')\n",
        "print(labels_df['opacity'].value_counts())\n",
        "print('Diabetic Retinopathy count: ')\n",
        "print(labels_df['diabetic retinopathy'].value_counts())\n",
        "print('Glaucoma count: ')\n",
        "print(labels_df['glaucoma'].value_counts())\n",
        "print('Macular Edema count:')\n",
        "print(labels_df['macular edema'].value_counts())\n",
        "print('Macular Degeneration count:')\n",
        "print(labels_df['macular degeneration'].value_counts())\n",
        "print('Retinal Vascular Occlusion count: ')\n",
        "print(labels_df['retinal vascular occlusion'].value_counts())\n",
        "print('Normal count: ')\n",
        "print(labels_df['normal'].value_counts())"
      ],
      "execution_count": 6,
      "outputs": [
        {
          "output_type": "stream",
          "text": [
            "Number of all-zero anomalies:  filename                      0\n",
            "opacity                       0\n",
            "diabetic retinopathy          0\n",
            "glaucoma                      0\n",
            "macular edema                 0\n",
            "macular degeneration          0\n",
            "retinal vascular occlusion    0\n",
            "normal                        0\n",
            "dtype: int64\n",
            "Number of inconsistencies:  filename                      0\n",
            "opacity                       0\n",
            "diabetic retinopathy          0\n",
            "glaucoma                      0\n",
            "macular edema                 0\n",
            "macular degeneration          0\n",
            "retinal vascular occlusion    0\n",
            "normal                        0\n",
            "dtype: int64\n",
            "Opacity count: \n",
            "0    1902\n",
            "1    1533\n",
            "Name: opacity, dtype: int64\n",
            "Diabetic Retinopathy count: \n",
            "0    2680\n",
            "1     755\n",
            "Name: diabetic retinopathy, dtype: int64\n",
            "Glaucoma count: \n",
            "0    2838\n",
            "1     597\n",
            "Name: glaucoma, dtype: int64\n",
            "Macular Edema count:\n",
            "0    2919\n",
            "1     516\n",
            "Name: macular edema, dtype: int64\n",
            "Macular Degeneration count:\n",
            "0    2861\n",
            "1     574\n",
            "Name: macular degeneration, dtype: int64\n",
            "Retinal Vascular Occlusion count: \n",
            "0    2995\n",
            "1     440\n",
            "Name: retinal vascular occlusion, dtype: int64\n",
            "Normal count: \n",
            "0    2910\n",
            "1     525\n",
            "Name: normal, dtype: int64\n"
          ],
          "name": "stdout"
        }
      ]
    },
    {
      "cell_type": "markdown",
      "metadata": {
        "id": "NsqGS4XzDtZY"
      },
      "source": [
        "**TO DO**: Some EDA to see what kinds of correlations there are between the different diseases."
      ]
    },
    {
      "cell_type": "code",
      "metadata": {
        "colab": {
          "base_uri": "https://localhost:8080/",
          "height": 405
        },
        "id": "oWK1JNuoQSfB",
        "outputId": "0198d7c6-a1c7-4c29-f50e-933cb6abfde2"
      },
      "source": [
        "#Let's get the correlations between all pairs of columns and plot them as a heatmap\n",
        "sns.heatmap(labels_df.corr(), annot=True, fmt='0.2g', cmap='coolwarm')"
      ],
      "execution_count": 7,
      "outputs": [
        {
          "output_type": "execute_result",
          "data": {
            "text/plain": [
              "<matplotlib.axes._subplots.AxesSubplot at 0x7f2d064f8ed0>"
            ]
          },
          "metadata": {
            "tags": []
          },
          "execution_count": 7
        },
        {
          "output_type": "display_data",
          "data": {
            "image/png": "[encoded data removed]",
            "text/plain": [
              "<Figure size 432x288 with 2 Axes>"
            ]
          },
          "metadata": {
            "tags": [],
            "needs_background": "light"
          }
        }
      ]
    },
    {
      "cell_type": "markdown",
      "metadata": {
        "id": "ttXJIqZhQPz4"
      },
      "source": [
        "We see there is some correlation between diabetic retinopathy and macular edema, and a more mild correlation between macular edema and retinal vascular occlusion.  Normality is anti-correlated with all other labels, which is to be expected, although the magnitude is not as great as I would have expected.  Diabetic retinopathy is anti-correlated with glaucoma and macular degeneration.  More domain knowledge is necessary to interpret these (anti)correlations, but they are interesting nonetheless."
      ]
    },
    {
      "cell_type": "markdown",
      "metadata": {
        "id": "XAvddh6AO91w"
      },
      "source": [
        "To streamline the process of entering in the labels for training, we first create a new column consolidating the entries in the seven main columns into a column of 7-tuples.  This is the \"y\" that the model is learning from and trying to predict."
      ]
    },
    {
      "cell_type": "code",
      "metadata": {
        "id": "zaJHzjxkD3jQ"
      },
      "source": [
        "#Convert the individual label values to int type, add in a multi-hot vector label\n",
        "MH = list(zip(labels_df['opacity'], labels_df['diabetic retinopathy'], labels_df['glaucoma'], labels_df['macular edema'],\n",
        "                                  labels_df['macular degeneration'], labels_df['retinal vascular occlusion'], labels_df['normal']))\n",
        "labels_df['Multi_Hot'] = MH"
      ],
      "execution_count": 9,
      "outputs": []
    },
    {
      "cell_type": "code",
      "metadata": {
        "colab": {
          "base_uri": "https://localhost:8080/"
        },
        "id": "m_kqvkRyD9TQ",
        "outputId": "686cf340-6393-4e07-d5de-4a36bff51f3e"
      },
      "source": [
        "y = labels_df['Multi_Hot']\n",
        "y = np.array([y.iloc[i] for i in range(len(y))])\n",
        "print('Length of y: ', len(y))"
      ],
      "execution_count": 10,
      "outputs": [
        {
          "output_type": "stream",
          "text": [
            "Length of y:  3435\n"
          ],
          "name": "stdout"
        }
      ]
    },
    {
      "cell_type": "markdown",
      "metadata": {
        "id": "5RdPGKwOP3iI"
      },
      "source": [
        "Here we load in the full set of images.  tqdm produces the progress bar and is not strictly necessary, but with this many images it can be nice to know how much longer to expect.  Google Colab has quite a bit of variability, in some experiments it loaded the full dataset in under 10 minutes, while other times it took more than half an hour."
      ]
    },
    {
      "cell_type": "code",
      "metadata": {
        "id": "4wAhZNd4EQSn",
        "colab": {
          "base_uri": "https://localhost:8080/"
        },
        "outputId": "c8573009-9633-4597-f2dc-f9b274fea656"
      },
      "source": [
        "train_images = []\n",
        "for i in tqdm(range(labels_df.shape[0])):\n",
        "    img = image.load_img(image_dir+'/'+ labels_df['filename'][i], target_size=(224,224,3), grayscale=False)\n",
        "    img = image.img_to_array(img)\n",
        "    img = img/255\n",
        "    train_images.append(img)\n",
        "\n",
        "X = np.array(train_images)\n"
      ],
      "execution_count": 11,
      "outputs": [
        {
          "output_type": "stream",
          "text": [
            "100%|██████████| 3435/3435 [12:13<00:00,  4.68it/s]\n"
          ],
          "name": "stderr"
        }
      ]
    },
    {
      "cell_type": "code",
      "metadata": {
        "id": "Tu3ZUSXEERui",
        "colab": {
          "base_uri": "https://localhost:8080/"
        },
        "outputId": "534e9e29-a278-4142-e9fa-65b7133c4783"
      },
      "source": [
        "#Perform the train_test split.  Fix random_state for reproducibility\n",
        "X_train, X_test, y_train, y_test = train_test_split(X, y, random_state=37, test_size=0.3)\n",
        "print('Length of X_train: ', len(X_train))\n",
        "print('Length of X_test: ', len(X_test))"
      ],
      "execution_count": 12,
      "outputs": [
        {
          "output_type": "stream",
          "text": [
            "Length of X_train:  2404\n",
            "Length of X_test:  1031\n"
          ],
          "name": "stdout"
        }
      ]
    },
    {
      "cell_type": "code",
      "metadata": {
        "id": "YGU53ndUEYZa"
      },
      "source": [
        "#Specifying the batch_size hyperparameter.\n",
        "#I have heard it claimed that batch_size larger than 32 does not improve performance (see https://arxiv.org/pdf/1804.07612.pdf),\n",
        "#so I'm going to hold batch_size to 16 here just to be safe. \n",
        "train_batch_size = 16"
      ],
      "execution_count": 13,
      "outputs": []
    },
    {
      "cell_type": "markdown",
      "metadata": {
        "id": "8-zanrNQEocI"
      },
      "source": [
        "We will want to augment the training set. For these images, vertical & horizontal flips as well as random rotations are valid transformations. Manipulating the colors is probably not a valid transformation as that might plausibly change the actual meaning, although I could be mistaken in this.\n",
        "The Keras ImageDataGenerator also has shear & shift parameters, which should be valid augmentations for this sort of data as long as the parameters aren't too large."
      ]
    },
    {
      "cell_type": "code",
      "metadata": {
        "id": "NlHNjiG0EqsE"
      },
      "source": [
        "#Hyperparameters: rotation_angle, width/height_shift_range, shear\n",
        "\n",
        "# Create a Data Generator\n",
        "data_gen_args = dict( \n",
        "    rotation_range=45,\n",
        "    width_shift_range=0.05,\n",
        "    height_shift_range=0.05,\n",
        "    zoom_range=0.2,\n",
        "    channel_shift_range=0.05,\n",
        "    horizontal_flip=True,\n",
        "    vertical_flip=True,\n",
        "    fill_mode='constant',\n",
        "    data_format=\"channels_last\",\n",
        ")\n",
        "image_datagen = ImageDataGenerator(**data_gen_args)\n",
        "\n",
        "image_datagen.fit(X_train)"
      ],
      "execution_count": 14,
      "outputs": []
    },
    {
      "cell_type": "code",
      "metadata": {
        "id": "5Zl6vftbEwYD"
      },
      "source": [
        "train_generator = image_datagen.flow(X_train, y_train, batch_size=train_batch_size)\n",
        "val_generator = image_datagen.flow(X_test, y_test, batch_size=train_batch_size)"
      ],
      "execution_count": 15,
      "outputs": []
    },
    {
      "cell_type": "markdown",
      "metadata": {
        "id": "cU51mLy_E3H9"
      },
      "source": [
        "ResNets are the name of the game for this project, so let's start by defining an n-convolutional-layer resnet component. The original ResNet set n=2, but I've decided to experiment with adding more layers to each component.\n",
        "Acknowledgement: this code is based on the example code found here https://d2l.ai/chapter_convolutional-modern/resnet.html"
      ]
    },
    {
      "cell_type": "markdown",
      "metadata": {
        "id": "2KvcMKo3FHv2"
      },
      "source": [
        "This is where the resnet module helpers come in: GeneralResnetBlock is defined in that function, it determines the complexity of the individual resnet blocks.  For the first model, we are using four 3-layer core modules, with a GoogLeNet head and tail bracketing the resnet blocks."
      ]
    },
    {
      "cell_type": "code",
      "metadata": {
        "id": "v1okLsW0E9md"
      },
      "source": [
        "def model_one():\n",
        "    return Sequential([\n",
        "           Conv2D(64, kernel_size=7, strides=2, padding='same'),\n",
        "           BatchNormalization(),\n",
        "           tf.keras.layers.Activation('relu'),\n",
        "           tf.keras.layers.MaxPool2D(pool_size=3, strides=2, padding='same'),      \n",
        "           GeneralResnetBlock(3, 64, 2, first_block=True),\n",
        "           GeneralResnetBlock(3, 128, 2),\n",
        "           GeneralResnetBlock(3, 256, 2),\n",
        "           GeneralResnetBlock(3, 512, 2),\n",
        "           tf.keras.layers.GlobalAvgPool2D(),\n",
        "           tf.keras.layers.Dense(7, activation='sigmoid')\n",
        "    ])"
      ],
      "execution_count": 16,
      "outputs": []
    },
    {
      "cell_type": "code",
      "metadata": {
        "id": "xEHODsfyG9H0",
        "colab": {
          "base_uri": "https://localhost:8080/"
        },
        "outputId": "20811f8b-f2fa-44a5-c1c4-cff8276762d9"
      },
      "source": [
        "#Let's see how this affects the shape of an input\n",
        "R = tf.random.uniform(shape=(16, 224, 224, 3))\n",
        "for layer in model_one().layers:\n",
        "    R = layer(R)\n",
        "    print(layer.__class__.__name__, 'output shape:\\t', R.shape)"
      ],
      "execution_count": 17,
      "outputs": [
        {
          "output_type": "stream",
          "text": [
            "Conv2D output shape:\t (16, 112, 112, 64)\n",
            "BatchNormalization output shape:\t (16, 112, 112, 64)\n",
            "ModuleWrapper output shape:\t (16, 112, 112, 64)\n",
            "ModuleWrapper output shape:\t (16, 56, 56, 64)\n",
            "ModuleWrapper output shape:\t (16, 56, 56, 64)\n",
            "ModuleWrapper output shape:\t (16, 28, 28, 128)\n",
            "ModuleWrapper output shape:\t (16, 14, 14, 256)\n",
            "ModuleWrapper output shape:\t (16, 7, 7, 512)\n",
            "ModuleWrapper output shape:\t (16, 512)\n",
            "ModuleWrapper output shape:\t (16, 7)\n"
          ],
          "name": "stdout"
        }
      ]
    },
    {
      "cell_type": "markdown",
      "metadata": {
        "id": "j5I0GBdsHMD-"
      },
      "source": [
        "We need to specify which loss function to use and which optimizer to use.  This is a multi-label classification problem, which means softmax is NOT the appropriate choice, instead each individual output node has a logistic loss associated with it, so the output of a particular node corresponds to the probability of that trait (ex. glaucoma) being present in the image.  There is one catch: one of the categories is \"Normal\", which by definition is mutually exclusive with the combined set of the other six categories. Ideally there would be a way to enforce unitarity, that is, Prob(Normal) + Prob(Not Normal) = 1, but it is not clear at this point how to do so."
      ]
    },
    {
      "cell_type": "markdown",
      "metadata": {
        "id": "rK14R5sQHckF"
      },
      "source": [
        "It is generally known that learning rate decay improves performance, the basic logic being that the model is unlikely to start near the global optimum so large steps are taken initially, then as it approaches the optimum step size reduces so as to not overshoot.  Many different schemes for learning rate decay have been proposed, for this project we are using the simple Exponential Decay, which Keras has as a built-in.  There are three hyperparameters associated with this scheduler: initial_learning_rate, decay_steps, and decay_rate.  The initial_learning_rate is self-explanatory and is also the one which is most variable in different experiments, the value of 3e-4 being on the smaller side relative to what I have seen others use.  Given more time I would test out other settings, probably going larger first (ex. ilr = 0.01).  The decay_steps and decay_rate parameters are set to what I believe are their commonly-used values, I would only manipulate these after other avenues of optimization have been exhausted."
      ]
    },
    {
      "cell_type": "code",
      "metadata": {
        "id": "i8-EzfzVHQcV"
      },
      "source": [
        "#Scheduler for the learning rate decay.  \n",
        "#Hyperparameters: initial_learning_rate, decay_steps, decay_rate\n",
        "irl = 3e-4\n",
        "dsteps = 10000\n",
        "drate = 0.9\n",
        "lr_scheduler = ExponentialDecay(\n",
        "    initial_learning_rate=irl,\n",
        "    decay_steps=dsteps,\n",
        "    decay_rate=drate)"
      ],
      "execution_count": 18,
      "outputs": []
    },
    {
      "cell_type": "code",
      "metadata": {
        "id": "Tx0LeuSpHnrX"
      },
      "source": [
        "#Set the number of training epochs\n",
        "EPOCHS = 100"
      ],
      "execution_count": 19,
      "outputs": []
    },
    {
      "cell_type": "code",
      "metadata": {
        "id": "TazOilMrH11n"
      },
      "source": [
        "Model_One = model_one()\n",
        "Model_One.compile(optimizer=Adam(learning_rate=lr_scheduler, epsilon=1e-8),\n",
        "                   loss='binary_crossentropy',\n",
        "                   metrics=[tf.keras.metrics.Recall(), 'binary_accuracy'])\n"
      ],
      "execution_count": 20,
      "outputs": []
    },
    {
      "cell_type": "code",
      "metadata": {
        "id": "xWb_uE0OH-nY",
        "colab": {
          "base_uri": "https://localhost:8080/"
        },
        "outputId": "0df85833-4f7f-4a0a-ef99-b2968f642c9c"
      },
      "source": [
        "M1_history = Model_One.fit(train_generator,\n",
        "                           validation_data = (X_test, y_test),\n",
        "                           epochs=EPOCHS)"
      ],
      "execution_count": 21,
      "outputs": [
        {
          "output_type": "stream",
          "text": [
            "Epoch 1/100\n",
            "151/151 [==============================] - 50s 194ms/step - loss: 0.5052 - recall: 0.3204 - binary_accuracy: 0.7929 - val_loss: 0.6695 - val_recall: 0.2768 - val_binary_accuracy: 0.7819\n",
            "Epoch 2/100\n",
            "151/151 [==============================] - 26s 173ms/step - loss: 0.4323 - recall: 0.2825 - binary_accuracy: 0.8224 - val_loss: 0.6262 - val_recall: 0.2877 - val_binary_accuracy: 0.7692\n",
            "Epoch 3/100\n",
            "151/151 [==============================] - 26s 175ms/step - loss: 0.4253 - recall: 0.2925 - binary_accuracy: 0.8199 - val_loss: 0.5549 - val_recall: 0.2964 - val_binary_accuracy: 0.7868\n",
            "Epoch 4/100\n",
            "151/151 [==============================] - 26s 175ms/step - loss: 0.4156 - recall: 0.2980 - binary_accuracy: 0.8279 - val_loss: 0.5721 - val_recall: 0.3062 - val_binary_accuracy: 0.7545\n",
            "Epoch 5/100\n",
            "151/151 [==============================] - 26s 174ms/step - loss: 0.4076 - recall: 0.3122 - binary_accuracy: 0.8313 - val_loss: 0.4526 - val_recall: 0.3138 - val_binary_accuracy: 0.8024\n",
            "Epoch 6/100\n",
            "151/151 [==============================] - 27s 175ms/step - loss: 0.3994 - recall: 0.3134 - binary_accuracy: 0.8317 - val_loss: 0.5086 - val_recall: 0.3175 - val_binary_accuracy: 0.7971\n",
            "Epoch 7/100\n",
            "151/151 [==============================] - 26s 175ms/step - loss: 0.3969 - recall: 0.3196 - binary_accuracy: 0.8298 - val_loss: 0.4797 - val_recall: 0.3202 - val_binary_accuracy: 0.7960\n",
            "Epoch 8/100\n",
            "151/151 [==============================] - 26s 175ms/step - loss: 0.3840 - recall: 0.3206 - binary_accuracy: 0.8376 - val_loss: 0.5361 - val_recall: 0.3204 - val_binary_accuracy: 0.7679\n",
            "Epoch 9/100\n",
            "151/151 [==============================] - 26s 173ms/step - loss: 0.3857 - recall: 0.3198 - binary_accuracy: 0.8385 - val_loss: 0.5135 - val_recall: 0.3235 - val_binary_accuracy: 0.7927\n",
            "Epoch 10/100\n",
            "151/151 [==============================] - 26s 175ms/step - loss: 0.3851 - recall: 0.3250 - binary_accuracy: 0.8372 - val_loss: 0.5442 - val_recall: 0.3245 - val_binary_accuracy: 0.7837\n",
            "Epoch 11/100\n",
            "151/151 [==============================] - 26s 173ms/step - loss: 0.3789 - recall: 0.3236 - binary_accuracy: 0.8408 - val_loss: 0.4212 - val_recall: 0.3252 - val_binary_accuracy: 0.8290\n",
            "Epoch 12/100\n",
            "151/151 [==============================] - 26s 173ms/step - loss: 0.3791 - recall: 0.3255 - binary_accuracy: 0.8400 - val_loss: 0.4878 - val_recall: 0.3265 - val_binary_accuracy: 0.7970\n",
            "Epoch 13/100\n",
            "151/151 [==============================] - 26s 174ms/step - loss: 0.3714 - recall: 0.3263 - binary_accuracy: 0.8448 - val_loss: 0.6924 - val_recall: 0.3268 - val_binary_accuracy: 0.7593\n",
            "Epoch 14/100\n",
            "151/151 [==============================] - 26s 173ms/step - loss: 0.3734 - recall: 0.3259 - binary_accuracy: 0.8434 - val_loss: 0.4321 - val_recall: 0.3298 - val_binary_accuracy: 0.8314\n",
            "Epoch 15/100\n",
            "151/151 [==============================] - 26s 174ms/step - loss: 0.3739 - recall: 0.3313 - binary_accuracy: 0.8372 - val_loss: 0.4305 - val_recall: 0.3334 - val_binary_accuracy: 0.8260\n",
            "Epoch 16/100\n",
            "151/151 [==============================] - 26s 174ms/step - loss: 0.3644 - recall: 0.3340 - binary_accuracy: 0.8470 - val_loss: 0.4260 - val_recall: 0.3362 - val_binary_accuracy: 0.8218\n",
            "Epoch 17/100\n",
            "151/151 [==============================] - 26s 173ms/step - loss: 0.3666 - recall: 0.3370 - binary_accuracy: 0.8421 - val_loss: 0.5145 - val_recall: 0.3382 - val_binary_accuracy: 0.7833\n",
            "Epoch 18/100\n",
            "151/151 [==============================] - 26s 173ms/step - loss: 0.3589 - recall: 0.3380 - binary_accuracy: 0.8470 - val_loss: 0.3868 - val_recall: 0.3418 - val_binary_accuracy: 0.8405\n",
            "Epoch 19/100\n",
            "151/151 [==============================] - 26s 174ms/step - loss: 0.3511 - recall: 0.3441 - binary_accuracy: 0.8538 - val_loss: 0.4746 - val_recall: 0.3448 - val_binary_accuracy: 0.8066\n",
            "Epoch 20/100\n",
            "151/151 [==============================] - 26s 173ms/step - loss: 0.3463 - recall: 0.3438 - binary_accuracy: 0.8516 - val_loss: 0.4830 - val_recall: 0.3449 - val_binary_accuracy: 0.7983\n",
            "Epoch 21/100\n",
            "151/151 [==============================] - 26s 173ms/step - loss: 0.3370 - recall: 0.3452 - binary_accuracy: 0.8567 - val_loss: 0.4060 - val_recall: 0.3478 - val_binary_accuracy: 0.8242\n",
            "Epoch 22/100\n",
            "151/151 [==============================] - 26s 174ms/step - loss: 0.3556 - recall: 0.3482 - binary_accuracy: 0.8451 - val_loss: 0.5100 - val_recall: 0.3492 - val_binary_accuracy: 0.7834\n",
            "Epoch 23/100\n",
            "151/151 [==============================] - 26s 173ms/step - loss: 0.3452 - recall: 0.3489 - binary_accuracy: 0.8537 - val_loss: 0.4769 - val_recall: 0.3499 - val_binary_accuracy: 0.8088\n",
            "Epoch 24/100\n",
            "151/151 [==============================] - 26s 173ms/step - loss: 0.3444 - recall: 0.3494 - binary_accuracy: 0.8545 - val_loss: 0.4155 - val_recall: 0.3525 - val_binary_accuracy: 0.8506\n",
            "Epoch 25/100\n",
            "151/151 [==============================] - 26s 173ms/step - loss: 0.3334 - recall: 0.3537 - binary_accuracy: 0.8592 - val_loss: 0.9258 - val_recall: 0.3552 - val_binary_accuracy: 0.7495\n",
            "Epoch 26/100\n",
            "151/151 [==============================] - 26s 174ms/step - loss: 0.3417 - recall: 0.3554 - binary_accuracy: 0.8530 - val_loss: 0.3833 - val_recall: 0.3578 - val_binary_accuracy: 0.8427\n",
            "Epoch 27/100\n",
            "151/151 [==============================] - 26s 173ms/step - loss: 0.3298 - recall: 0.3587 - binary_accuracy: 0.8594 - val_loss: 0.4048 - val_recall: 0.3613 - val_binary_accuracy: 0.8312\n",
            "Epoch 28/100\n",
            "151/151 [==============================] - 27s 180ms/step - loss: 0.3333 - recall: 0.3620 - binary_accuracy: 0.8585 - val_loss: 0.5524 - val_recall: 0.3634 - val_binary_accuracy: 0.7787\n",
            "Epoch 29/100\n",
            "151/151 [==============================] - 26s 173ms/step - loss: 0.3281 - recall: 0.3636 - binary_accuracy: 0.8625 - val_loss: 0.3832 - val_recall: 0.3664 - val_binary_accuracy: 0.8434\n",
            "Epoch 30/100\n",
            "151/151 [==============================] - 26s 173ms/step - loss: 0.3267 - recall: 0.3676 - binary_accuracy: 0.8610 - val_loss: 0.5516 - val_recall: 0.3695 - val_binary_accuracy: 0.7794\n",
            "Epoch 31/100\n",
            "151/151 [==============================] - 26s 174ms/step - loss: 0.3242 - recall: 0.3697 - binary_accuracy: 0.8619 - val_loss: 0.3790 - val_recall: 0.3723 - val_binary_accuracy: 0.8455\n",
            "Epoch 32/100\n",
            "151/151 [==============================] - 27s 179ms/step - loss: 0.3134 - recall: 0.3736 - binary_accuracy: 0.8659 - val_loss: 0.3375 - val_recall: 0.3761 - val_binary_accuracy: 0.8574\n",
            "Epoch 33/100\n",
            "151/151 [==============================] - 27s 176ms/step - loss: 0.3123 - recall: 0.3772 - binary_accuracy: 0.8657 - val_loss: 0.3632 - val_recall: 0.3797 - val_binary_accuracy: 0.8501\n",
            "Epoch 34/100\n",
            "151/151 [==============================] - 28s 188ms/step - loss: 0.3148 - recall: 0.3809 - binary_accuracy: 0.8658 - val_loss: 0.3853 - val_recall: 0.3837 - val_binary_accuracy: 0.8371\n",
            "Epoch 35/100\n",
            "151/151 [==============================] - 26s 174ms/step - loss: 0.3177 - recall: 0.3850 - binary_accuracy: 0.8630 - val_loss: 0.3535 - val_recall: 0.3873 - val_binary_accuracy: 0.8553\n",
            "Epoch 36/100\n",
            "151/151 [==============================] - 26s 173ms/step - loss: 0.3140 - recall: 0.3884 - binary_accuracy: 0.8622 - val_loss: 0.3796 - val_recall: 0.3905 - val_binary_accuracy: 0.8494\n",
            "Epoch 37/100\n",
            "151/151 [==============================] - 26s 175ms/step - loss: 0.3060 - recall: 0.3914 - binary_accuracy: 0.8694 - val_loss: 0.3885 - val_recall: 0.3941 - val_binary_accuracy: 0.8418\n",
            "Epoch 38/100\n",
            "151/151 [==============================] - 26s 173ms/step - loss: 0.3060 - recall: 0.3953 - binary_accuracy: 0.8712 - val_loss: 0.4748 - val_recall: 0.3966 - val_binary_accuracy: 0.8147\n",
            "Epoch 39/100\n",
            "151/151 [==============================] - 27s 181ms/step - loss: 0.3031 - recall: 0.3968 - binary_accuracy: 0.8762 - val_loss: 0.3721 - val_recall: 0.3991 - val_binary_accuracy: 0.8522\n",
            "Epoch 40/100\n",
            "151/151 [==============================] - 27s 181ms/step - loss: 0.3108 - recall: 0.4000 - binary_accuracy: 0.8645 - val_loss: 0.6258 - val_recall: 0.4014 - val_binary_accuracy: 0.7790\n",
            "Epoch 41/100\n",
            "151/151 [==============================] - 26s 174ms/step - loss: 0.3210 - recall: 0.4014 - binary_accuracy: 0.8651 - val_loss: 0.3666 - val_recall: 0.4035 - val_binary_accuracy: 0.8480\n",
            "Epoch 42/100\n",
            "151/151 [==============================] - 26s 175ms/step - loss: 0.2952 - recall: 0.4047 - binary_accuracy: 0.8777 - val_loss: 0.4118 - val_recall: 0.4063 - val_binary_accuracy: 0.8292\n",
            "Epoch 43/100\n",
            "151/151 [==============================] - 27s 175ms/step - loss: 0.2971 - recall: 0.4066 - binary_accuracy: 0.8725 - val_loss: 0.3744 - val_recall: 0.4085 - val_binary_accuracy: 0.8462\n",
            "Epoch 44/100\n",
            "151/151 [==============================] - 26s 174ms/step - loss: 0.2922 - recall: 0.4091 - binary_accuracy: 0.8786 - val_loss: 0.4933 - val_recall: 0.4108 - val_binary_accuracy: 0.8100\n",
            "Epoch 45/100\n",
            "151/151 [==============================] - 26s 175ms/step - loss: 0.3004 - recall: 0.4112 - binary_accuracy: 0.8710 - val_loss: 0.3380 - val_recall: 0.4136 - val_binary_accuracy: 0.8584\n",
            "Epoch 46/100\n",
            "151/151 [==============================] - 26s 174ms/step - loss: 0.2951 - recall: 0.4149 - binary_accuracy: 0.8759 - val_loss: 0.4475 - val_recall: 0.4168 - val_binary_accuracy: 0.8247\n",
            "Epoch 47/100\n",
            "151/151 [==============================] - 26s 174ms/step - loss: 0.2794 - recall: 0.4173 - binary_accuracy: 0.8787 - val_loss: 0.3304 - val_recall: 0.4194 - val_binary_accuracy: 0.8632\n",
            "Epoch 48/100\n",
            "151/151 [==============================] - 26s 175ms/step - loss: 0.2868 - recall: 0.4205 - binary_accuracy: 0.8795 - val_loss: 0.3323 - val_recall: 0.4227 - val_binary_accuracy: 0.8634\n",
            "Epoch 49/100\n",
            "151/151 [==============================] - 26s 175ms/step - loss: 0.2797 - recall: 0.4237 - binary_accuracy: 0.8831 - val_loss: 0.5154 - val_recall: 0.4251 - val_binary_accuracy: 0.8012\n",
            "Epoch 50/100\n",
            "151/151 [==============================] - 26s 174ms/step - loss: 0.2790 - recall: 0.4253 - binary_accuracy: 0.8848 - val_loss: 0.3098 - val_recall: 0.4277 - val_binary_accuracy: 0.8753\n",
            "Epoch 51/100\n",
            "151/151 [==============================] - 26s 175ms/step - loss: 0.2722 - recall: 0.4288 - binary_accuracy: 0.8844 - val_loss: 0.3401 - val_recall: 0.4309 - val_binary_accuracy: 0.8638\n",
            "Epoch 52/100\n",
            "151/151 [==============================] - 27s 175ms/step - loss: 0.2629 - recall: 0.4317 - binary_accuracy: 0.8887 - val_loss: 0.3494 - val_recall: 0.4336 - val_binary_accuracy: 0.8573\n",
            "Epoch 53/100\n",
            "151/151 [==============================] - 27s 175ms/step - loss: 0.2711 - recall: 0.4344 - binary_accuracy: 0.8873 - val_loss: 0.3921 - val_recall: 0.4368 - val_binary_accuracy: 0.8469\n",
            "Epoch 54/100\n",
            "151/151 [==============================] - 26s 175ms/step - loss: 0.2734 - recall: 0.4380 - binary_accuracy: 0.8862 - val_loss: 0.3330 - val_recall: 0.4402 - val_binary_accuracy: 0.8646\n",
            "Epoch 55/100\n",
            "151/151 [==============================] - 26s 174ms/step - loss: 0.2644 - recall: 0.4411 - binary_accuracy: 0.8901 - val_loss: 0.4194 - val_recall: 0.4428 - val_binary_accuracy: 0.8283\n",
            "Epoch 56/100\n",
            "151/151 [==============================] - 27s 181ms/step - loss: 0.2622 - recall: 0.4432 - binary_accuracy: 0.8889 - val_loss: 0.3848 - val_recall: 0.4448 - val_binary_accuracy: 0.8515\n",
            "Epoch 57/100\n",
            "151/151 [==============================] - 26s 174ms/step - loss: 0.2665 - recall: 0.4453 - binary_accuracy: 0.8871 - val_loss: 0.4051 - val_recall: 0.4469 - val_binary_accuracy: 0.8444\n",
            "Epoch 58/100\n",
            "151/151 [==============================] - 26s 174ms/step - loss: 0.2546 - recall: 0.4475 - binary_accuracy: 0.8956 - val_loss: 0.3882 - val_recall: 0.4490 - val_binary_accuracy: 0.8347\n",
            "Epoch 59/100\n",
            "151/151 [==============================] - 26s 174ms/step - loss: 0.2439 - recall: 0.4494 - binary_accuracy: 0.8967 - val_loss: 0.3387 - val_recall: 0.4515 - val_binary_accuracy: 0.8603\n",
            "Epoch 60/100\n",
            "151/151 [==============================] - 26s 174ms/step - loss: 0.2543 - recall: 0.4524 - binary_accuracy: 0.8935 - val_loss: 0.4191 - val_recall: 0.4541 - val_binary_accuracy: 0.8371\n",
            "Epoch 61/100\n",
            "151/151 [==============================] - 26s 175ms/step - loss: 0.2442 - recall: 0.4546 - binary_accuracy: 0.8936 - val_loss: 0.3066 - val_recall: 0.4568 - val_binary_accuracy: 0.8745\n",
            "Epoch 62/100\n",
            "151/151 [==============================] - 27s 175ms/step - loss: 0.2507 - recall: 0.4578 - binary_accuracy: 0.8964 - val_loss: 0.4076 - val_recall: 0.4594 - val_binary_accuracy: 0.8512\n",
            "Epoch 63/100\n",
            "151/151 [==============================] - 26s 174ms/step - loss: 0.2524 - recall: 0.4600 - binary_accuracy: 0.8946 - val_loss: 0.3483 - val_recall: 0.4617 - val_binary_accuracy: 0.8606\n",
            "Epoch 64/100\n",
            "151/151 [==============================] - 26s 174ms/step - loss: 0.2386 - recall: 0.4624 - binary_accuracy: 0.8998 - val_loss: 0.7279 - val_recall: 0.4637 - val_binary_accuracy: 0.7701\n",
            "Epoch 65/100\n",
            "151/151 [==============================] - 26s 173ms/step - loss: 0.2463 - recall: 0.4639 - binary_accuracy: 0.8960 - val_loss: 0.5678 - val_recall: 0.4652 - val_binary_accuracy: 0.7985\n",
            "Epoch 66/100\n",
            "151/151 [==============================] - 26s 173ms/step - loss: 0.2506 - recall: 0.4653 - binary_accuracy: 0.8945 - val_loss: 0.2998 - val_recall: 0.4674 - val_binary_accuracy: 0.8764\n",
            "Epoch 67/100\n",
            "151/151 [==============================] - 26s 173ms/step - loss: 0.2381 - recall: 0.4683 - binary_accuracy: 0.9014 - val_loss: 0.3487 - val_recall: 0.4702 - val_binary_accuracy: 0.8638\n",
            "Epoch 68/100\n",
            "151/151 [==============================] - 26s 175ms/step - loss: 0.2414 - recall: 0.4709 - binary_accuracy: 0.8948 - val_loss: 0.3122 - val_recall: 0.4729 - val_binary_accuracy: 0.8724\n",
            "Epoch 69/100\n",
            "151/151 [==============================] - 26s 174ms/step - loss: 0.2383 - recall: 0.4737 - binary_accuracy: 0.8985 - val_loss: 0.3811 - val_recall: 0.4754 - val_binary_accuracy: 0.8461\n",
            "Epoch 70/100\n",
            "151/151 [==============================] - 26s 174ms/step - loss: 0.2353 - recall: 0.4760 - binary_accuracy: 0.9000 - val_loss: 0.3606 - val_recall: 0.4780 - val_binary_accuracy: 0.8566\n",
            "Epoch 71/100\n",
            "151/151 [==============================] - 26s 175ms/step - loss: 0.2358 - recall: 0.4789 - binary_accuracy: 0.9030 - val_loss: 0.3581 - val_recall: 0.4808 - val_binary_accuracy: 0.8606\n",
            "Epoch 72/100\n",
            "151/151 [==============================] - 26s 174ms/step - loss: 0.2352 - recall: 0.4816 - binary_accuracy: 0.9015 - val_loss: 0.3194 - val_recall: 0.4835 - val_binary_accuracy: 0.8740\n",
            "Epoch 73/100\n",
            "151/151 [==============================] - 26s 174ms/step - loss: 0.2224 - recall: 0.4844 - binary_accuracy: 0.9072 - val_loss: 0.3438 - val_recall: 0.4861 - val_binary_accuracy: 0.8638\n",
            "Epoch 74/100\n",
            "151/151 [==============================] - 26s 173ms/step - loss: 0.2244 - recall: 0.4867 - binary_accuracy: 0.9061 - val_loss: 0.3278 - val_recall: 0.4884 - val_binary_accuracy: 0.8718\n",
            "Epoch 75/100\n",
            "151/151 [==============================] - 26s 174ms/step - loss: 0.2226 - recall: 0.4891 - binary_accuracy: 0.9064 - val_loss: 0.3228 - val_recall: 0.4909 - val_binary_accuracy: 0.8700\n",
            "Epoch 76/100\n",
            "151/151 [==============================] - 28s 182ms/step - loss: 0.2144 - recall: 0.4917 - binary_accuracy: 0.9136 - val_loss: 0.3332 - val_recall: 0.4934 - val_binary_accuracy: 0.8693\n",
            "Epoch 77/100\n",
            "151/151 [==============================] - 26s 175ms/step - loss: 0.2176 - recall: 0.4942 - binary_accuracy: 0.9105 - val_loss: 0.4306 - val_recall: 0.4956 - val_binary_accuracy: 0.8477\n",
            "Epoch 78/100\n",
            "151/151 [==============================] - 26s 175ms/step - loss: 0.2188 - recall: 0.4961 - binary_accuracy: 0.9110 - val_loss: 0.3028 - val_recall: 0.4980 - val_binary_accuracy: 0.8824\n",
            "Epoch 79/100\n",
            "151/151 [==============================] - 26s 174ms/step - loss: 0.2137 - recall: 0.4987 - binary_accuracy: 0.9081 - val_loss: 0.3586 - val_recall: 0.5005 - val_binary_accuracy: 0.8558\n",
            "Epoch 80/100\n",
            "151/151 [==============================] - 26s 175ms/step - loss: 0.2057 - recall: 0.5012 - binary_accuracy: 0.9143 - val_loss: 0.3958 - val_recall: 0.5028 - val_binary_accuracy: 0.8530\n",
            "Epoch 81/100\n",
            "151/151 [==============================] - 26s 175ms/step - loss: 0.2044 - recall: 0.5034 - binary_accuracy: 0.9133 - val_loss: 0.3461 - val_recall: 0.5051 - val_binary_accuracy: 0.8625\n",
            "Epoch 82/100\n",
            "151/151 [==============================] - 28s 182ms/step - loss: 0.2090 - recall: 0.5058 - binary_accuracy: 0.9107 - val_loss: 0.3079 - val_recall: 0.5074 - val_binary_accuracy: 0.8792\n",
            "Epoch 83/100\n",
            "151/151 [==============================] - 27s 176ms/step - loss: 0.2107 - recall: 0.5082 - binary_accuracy: 0.9128 - val_loss: 0.3487 - val_recall: 0.5099 - val_binary_accuracy: 0.8655\n",
            "Epoch 84/100\n",
            "151/151 [==============================] - 27s 176ms/step - loss: 0.2019 - recall: 0.5106 - binary_accuracy: 0.9169 - val_loss: 0.2911 - val_recall: 0.5124 - val_binary_accuracy: 0.8878\n",
            "Epoch 85/100\n",
            "151/151 [==============================] - 27s 177ms/step - loss: 0.2021 - recall: 0.5132 - binary_accuracy: 0.9168 - val_loss: 0.4048 - val_recall: 0.5149 - val_binary_accuracy: 0.8526\n",
            "Epoch 86/100\n",
            "151/151 [==============================] - 27s 175ms/step - loss: 0.1932 - recall: 0.5155 - binary_accuracy: 0.9198 - val_loss: 0.2747 - val_recall: 0.5174 - val_binary_accuracy: 0.8890\n",
            "Epoch 87/100\n",
            "151/151 [==============================] - 28s 182ms/step - loss: 0.1893 - recall: 0.5182 - binary_accuracy: 0.9225 - val_loss: 0.3128 - val_recall: 0.5198 - val_binary_accuracy: 0.8782\n",
            "Epoch 88/100\n",
            "151/151 [==============================] - 26s 174ms/step - loss: 0.1897 - recall: 0.5205 - binary_accuracy: 0.9209 - val_loss: 0.3843 - val_recall: 0.5219 - val_binary_accuracy: 0.8602\n",
            "Epoch 89/100\n",
            "151/151 [==============================] - 27s 176ms/step - loss: 0.1920 - recall: 0.5225 - binary_accuracy: 0.9199 - val_loss: 0.3073 - val_recall: 0.5240 - val_binary_accuracy: 0.8808\n",
            "Epoch 90/100\n",
            "151/151 [==============================] - 27s 181ms/step - loss: 0.1831 - recall: 0.5247 - binary_accuracy: 0.9301 - val_loss: 0.3433 - val_recall: 0.5263 - val_binary_accuracy: 0.8721\n",
            "Epoch 91/100\n",
            "151/151 [==============================] - 27s 176ms/step - loss: 0.1821 - recall: 0.5271 - binary_accuracy: 0.9279 - val_loss: 0.4037 - val_recall: 0.5286 - val_binary_accuracy: 0.8595\n",
            "Epoch 92/100\n",
            "151/151 [==============================] - 27s 177ms/step - loss: 0.1857 - recall: 0.5293 - binary_accuracy: 0.9238 - val_loss: 0.2885 - val_recall: 0.5308 - val_binary_accuracy: 0.8860\n",
            "Epoch 93/100\n",
            "151/151 [==============================] - 27s 176ms/step - loss: 0.1848 - recall: 0.5316 - binary_accuracy: 0.9250 - val_loss: 0.2906 - val_recall: 0.5331 - val_binary_accuracy: 0.8893\n",
            "Epoch 94/100\n",
            "151/151 [==============================] - 27s 176ms/step - loss: 0.1895 - recall: 0.5338 - binary_accuracy: 0.9225 - val_loss: 0.2876 - val_recall: 0.5353 - val_binary_accuracy: 0.8890\n",
            "Epoch 95/100\n",
            "151/151 [==============================] - 26s 175ms/step - loss: 0.1865 - recall: 0.5361 - binary_accuracy: 0.9190 - val_loss: 0.3816 - val_recall: 0.5375 - val_binary_accuracy: 0.8616\n",
            "Epoch 96/100\n",
            "151/151 [==============================] - 26s 175ms/step - loss: 0.1867 - recall: 0.5380 - binary_accuracy: 0.9252 - val_loss: 0.2757 - val_recall: 0.5396 - val_binary_accuracy: 0.8950\n",
            "Epoch 97/100\n",
            "151/151 [==============================] - 26s 174ms/step - loss: 0.1729 - recall: 0.5403 - binary_accuracy: 0.9304 - val_loss: 0.2932 - val_recall: 0.5418 - val_binary_accuracy: 0.8892\n",
            "Epoch 98/100\n",
            "151/151 [==============================] - 27s 175ms/step - loss: 0.1762 - recall: 0.5425 - binary_accuracy: 0.9296 - val_loss: 0.4171 - val_recall: 0.5438 - val_binary_accuracy: 0.8570\n",
            "Epoch 99/100\n",
            "151/151 [==============================] - 26s 174ms/step - loss: 0.1770 - recall: 0.5443 - binary_accuracy: 0.9255 - val_loss: 0.5090 - val_recall: 0.5454 - val_binary_accuracy: 0.8219\n",
            "Epoch 100/100\n",
            "151/151 [==============================] - 26s 174ms/step - loss: 0.1717 - recall: 0.5456 - binary_accuracy: 0.9284 - val_loss: 0.4280 - val_recall: 0.5466 - val_binary_accuracy: 0.8400\n"
          ],
          "name": "stdout"
        }
      ]
    }
  ]
}