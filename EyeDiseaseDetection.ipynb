{
  "nbformat": 4,
  "nbformat_minor": 0,
  "metadata": {
    "colab": {
      "name": "EyeDiseaseDetection.ipynb",
      "provenance": [],
      "collapsed_sections": [],
      "authorship_tag": "ABX9TyM5ZeM7GAI0ntDdUXYQiLkr",
      "include_colab_link": true
    },
    "kernelspec": {
      "name": "python3",
      "display_name": "Python 3"
    },
    "language_info": {
      "name": "python"
    },
    "accelerator": "GPU"
  },
  "cells": [
    {
      "cell_type": "markdown",
      "metadata": {
        "id": "view-in-github",
        "colab_type": "text"
      },
      "source": [
        "<a href=\"https://colab.research.google.com/github/Astromax/Retina_Disease_Classification/blob/main/EyeDiseaseDetection.ipynb\" target=\"_parent\"><img src=\"https://colab.research.google.com/assets/colab-badge.svg\" alt=\"Open In Colab\"/></a>"
      ]
    },
    {
      "cell_type": "markdown",
      "metadata": {
        "id": "zpAakRV1_Rmr"
      },
      "source": [
        "The purpose of this is to determine whether or not a retina is healthy, and, if not, which of six different diseases it has."
      ]
    },
    {
      "cell_type": "code",
      "metadata": {
        "colab": {
          "base_uri": "https://localhost:8080/"
        },
        "id": "0mkBK6Qt_Ntr",
        "outputId": "bb8c327c-361d-4328-8de2-8459f8c70254"
      },
      "source": [
        "#First let's mount the Drive so we can access the data...\n",
        "from google.colab import drive\n",
        "drive.mount('/content/drive')"
      ],
      "execution_count": 3,
      "outputs": [
        {
          "output_type": "stream",
          "text": [
            "Mounted at /content/drive\n"
          ],
          "name": "stdout"
        }
      ]
    },
    {
      "cell_type": "code",
      "metadata": {
        "id": "COzRUZA0_mcA"
      },
      "source": [
        "import os\n",
        "os.chdir('/content/drive/MyDrive/EyeDiseaseDetection/')"
      ],
      "execution_count": 18,
      "outputs": []
    },
    {
      "cell_type": "code",
      "metadata": {
        "id": "dYSa5OXB_ppC"
      },
      "source": [
        "from resnet_module_helpers_tf import *\n",
        "\n",
        "# Display\n",
        "from IPython.display import Image, display\n",
        "import matplotlib.cm as cm\n",
        "import matplotlib.pyplot as plt\n",
        "import numpy as np\n",
        "import pandas as pd\n",
        "from PIL import Image, ImageDraw\n",
        "from plotly.subplots import make_subplots\n",
        "from sklearn.metrics import multilabel_confusion_matrix as MLCM\n",
        "from sklearn.model_selection import train_test_split\n",
        "import tensorflow as tf\n",
        "\n",
        "from keras.activations import relu\n",
        "from keras.optimizers import Adam\n",
        "from keras.optimizers.schedules import ExponentialDecay\n",
        "from keras.preprocessing import image\n",
        "from keras.preprocessing.image import ImageDataGenerator\n",
        "from keras.models import Sequential\n",
        "from keras.layers import Conv2D, Flatten, MaxPool2D, Dense, Dropout, Input, BatchNormalization, Activation\n",
        "from keras.layers.experimental.preprocessing import RandomCrop, RandomFlip, RandomRotation\n",
        "from tqdm import tqdm\n",
        "\n",
        "physical_devices = tf.config.experimental.list_physical_devices('GPU')\n",
        "tf.config.experimental.set_memory_growth(physical_devices[0], True)"
      ],
      "execution_count": 6,
      "outputs": []
    },
    {
      "cell_type": "code",
      "metadata": {
        "id": "NqjiKRuyAbWp"
      },
      "source": [
        "#Establish location of data\n",
        "data_dir = './Data/Data/train'\n",
        "image_dir = data_dir+'/train'"
      ],
      "execution_count": 19,
      "outputs": []
    },
    {
      "cell_type": "code",
      "metadata": {
        "colab": {
          "base_uri": "https://localhost:8080/"
        },
        "id": "wbTml54JAjYT",
        "outputId": "75cdddb2-82a8-4ec3-e7c2-b1f569cb20d2"
      },
      "source": [
        "filenames = os.listdir(image_dir)\n",
        "print('Number of files: ', len(filenames))"
      ],
      "execution_count": 20,
      "outputs": [
        {
          "output_type": "stream",
          "text": [
            "Number of files:  3435\n"
          ],
          "name": "stdout"
        }
      ]
    },
    {
      "cell_type": "code",
      "metadata": {
        "id": "PiK_WmkdBsAo"
      },
      "source": [
        "#Let's check for anomalies and see how many of each disease type there are....\n",
        "labels_df = pd.read_csv(data_dir+'/train.csv')\n",
        "print('Number of all-zero anomalies: ', labels_df[(labels_df['opacity'] == 0) & (labels_df['diabetic retinopathy']==0)\n",
        "& (labels_df['glaucoma'] == 0) & (labels_df['macular edema'] == 0) & (labels_df['macular degeneration'] == 0) \n",
        "& (labels_df['retinal vascular occlusion'] == 0) & (labels_df['normal'] == 0)].count())\n",
        "\n",
        "print('Number of inconsistencies: ', labels_df[((labels_df['opacity'] == 1) | (labels_df['diabetic retinopathy']==1)\n",
        "| (labels_df['glaucoma'] == 1) | (labels_df['macular edema'] == 1) | (labels_df['macular degeneration'] == 1) \n",
        "| (labels_df['retinal vascular occlusion'] == 1)) & (labels_df['normal'] == 1)].count())\n",
        "\n",
        "print('Opacity count: ')\n",
        "print(labels_df['opacity'].value_counts())\n",
        "print('Diabetic Retinopathy count: ')\n",
        "print(labels_df['diabetic retinopathy'].value_counts())\n",
        "print('Glaucoma count: ')\n",
        "print(labels_df['glaucoma'].value_counts())\n",
        "print('Macular Edema count:')\n",
        "print(labels_df['macular edema'].value_counts())\n",
        "print('Macular Degeneration count:')\n",
        "print(labels_df['macular degeneration'].value_counts())\n",
        "print('Retinal Vascular Occlusion count: ')\n",
        "print(labels_df['retinal vascular occlusion'].value_counts())\n",
        "print('Normal count: ')\n",
        "print(labels_df['normal'].value_counts())"
      ],
      "execution_count": null,
      "outputs": []
    }
  ]
}