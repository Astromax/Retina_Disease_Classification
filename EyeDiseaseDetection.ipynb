{
  "nbformat": 4,
  "nbformat_minor": 0,
  "metadata": {
    "colab": {
      "name": "EyeDiseaseDetection.ipynb",
      "provenance": [],
      "collapsed_sections": [],
      "authorship_tag": "ABX9TyMi/+pIxGG0Dl/KdN8N91A1",
      "include_colab_link": true
    },
    "kernelspec": {
      "name": "python3",
      "display_name": "Python 3"
    },
    "language_info": {
      "name": "python"
    },
    "accelerator": "GPU"
  },
  "cells": [
    {
      "cell_type": "markdown",
      "metadata": {
        "id": "view-in-github",
        "colab_type": "text"
      },
      "source": [
        "<a href=\"https://colab.research.google.com/github/Astromax/Retina_Disease_Classification/blob/main/EyeDiseaseDetection.ipynb\" target=\"_parent\"><img src=\"https://colab.research.google.com/assets/colab-badge.svg\" alt=\"Open In Colab\"/></a>"
      ]
    },
    {
      "cell_type": "markdown",
      "metadata": {
        "id": "zpAakRV1_Rmr"
      },
      "source": [
        "The purpose of this is to determine whether or not a retina is healthy, and, if not, which of six different diseases it has. The data for this comes from a Kaggle competition, https://www.kaggle.com/c/vietai-advance-course-retinal-disease-detection/overview.\n",
        " There are 3,435 training images, with the following label breakdown: opacity - 0, diabetic retinopathy - 1, glaucoma - 2, macular edema - 3, macular degeneration - 4, retinal vascular occlusion - 5, and normal - 6.\n",
        "An important note: unlike an ordinary classification problem, in this case a retina may be afflicted with more than one ailment.  Because of this, the activation function for the final layer is sigmoid, instead of the usual softmax, effectively providing a probability for each label independent of the others.\n",
        "\n",
        "The data has been uploaded to my Google Drive for easy access & processing, if anyone reading this wants to replicate it just change the target directories."
      ]
    },
    {
      "cell_type": "code",
      "metadata": {
        "colab": {
          "base_uri": "https://localhost:8080/"
        },
        "id": "0mkBK6Qt_Ntr",
        "outputId": "89f47291-1c10-47e6-ed8f-73dc9e16c772"
      },
      "source": [
        "#First let's mount the Drive so we can access the data...\n",
        "from google.colab import drive\n",
        "drive.mount('/content/drive')"
      ],
      "execution_count": 1,
      "outputs": [
        {
          "output_type": "stream",
          "text": [
            "Mounted at /content/drive\n"
          ],
          "name": "stdout"
        }
      ]
    },
    {
      "cell_type": "code",
      "metadata": {
        "id": "COzRUZA0_mcA"
      },
      "source": [
        "import os\n",
        "os.chdir('/content/drive/MyDrive/EyeDiseaseDetection/')"
      ],
      "execution_count": 2,
      "outputs": []
    },
    {
      "cell_type": "code",
      "metadata": {
        "id": "dYSa5OXB_ppC"
      },
      "source": [
        "from resnet_module_helpers_tf import *\n",
        "from eye_DD_metrics_helpers import *\n",
        "from training_plot_helpers import *\n",
        "\n",
        "# Display\n",
        "from IPython.display import Image, display\n",
        "import matplotlib.cm as cm\n",
        "import matplotlib.pyplot as plt\n",
        "import numpy as np\n",
        "import pandas as pd\n",
        "from PIL import Image, ImageDraw\n",
        "from plotly.subplots import make_subplots\n",
        "import seaborn as sns\n",
        "from sklearn.metrics import multilabel_confusion_matrix as MLCM\n",
        "from sklearn.model_selection import train_test_split\n",
        "import tensorflow as tf\n",
        "\n",
        "from keras.activations import relu\n",
        "from keras.optimizers import Adam\n",
        "from keras.optimizers.schedules import ExponentialDecay\n",
        "from keras.preprocessing import image\n",
        "from keras.preprocessing.image import ImageDataGenerator\n",
        "from keras.models import Sequential\n",
        "from keras.layers import Conv2D, Flatten, MaxPool2D, Dense, Dropout, Input, BatchNormalization, Activation\n",
        "from keras.layers.experimental.preprocessing import RandomCrop, RandomFlip, RandomRotation\n",
        "from tqdm import tqdm\n",
        "\n",
        "physical_devices = tf.config.experimental.list_physical_devices('GPU')\n",
        "tf.config.experimental.set_memory_growth(physical_devices[0], True)"
      ],
      "execution_count": 3,
      "outputs": []
    },
    {
      "cell_type": "code",
      "metadata": {
        "id": "NqjiKRuyAbWp"
      },
      "source": [
        "#Establish location of data\n",
        "data_dir = './Data/Data/train'\n",
        "image_dir = data_dir+'/train'"
      ],
      "execution_count": 4,
      "outputs": []
    },
    {
      "cell_type": "code",
      "metadata": {
        "colab": {
          "base_uri": "https://localhost:8080/"
        },
        "id": "wbTml54JAjYT",
        "outputId": "01ec66e9-fe0a-4ce7-dc5b-ae56fdb8ce47"
      },
      "source": [
        "filenames = os.listdir(image_dir)\n",
        "print('Number of files: ', len(filenames))"
      ],
      "execution_count": 5,
      "outputs": [
        {
          "output_type": "stream",
          "text": [
            "Number of files:  3435\n"
          ],
          "name": "stdout"
        }
      ]
    },
    {
      "cell_type": "markdown",
      "metadata": {
        "id": "TAzb5p3LCuCX"
      },
      "source": [
        "Before doing the heavy-duty analysis, let's first make sure there are no anomalies.  A retina can have multiple diseases simultaneously, which means this is not a simple image classification problem.  However, there is also a seventh label, 'Normal', corresponding to a healthy retina.  If a retina has a disease it is, by definition, unhealthy, therefore any images with a one in the 'Normal' column *and any other* is an anomaly, which should be excluded from the analysis.  Similarly, an image with all zeros, corresponding to either a mislabel or a retina with a disease not in this set, is not useful for this analysis."
      ]
    },
    {
      "cell_type": "code",
      "metadata": {
        "colab": {
          "base_uri": "https://localhost:8080/"
        },
        "id": "PiK_WmkdBsAo",
        "outputId": "0b0234ff-bb87-4f53-b690-b8f27c9870c6"
      },
      "source": [
        "#Let's check for anomalies and see how many of each disease type there are....\n",
        "labels_df = pd.read_csv(data_dir+'/train.csv')\n",
        "print('Number of all-zero anomalies: ', labels_df[(labels_df['opacity'] == 0) & (labels_df['diabetic retinopathy']==0)\n",
        "& (labels_df['glaucoma'] == 0) & (labels_df['macular edema'] == 0) & (labels_df['macular degeneration'] == 0) \n",
        "& (labels_df['retinal vascular occlusion'] == 0) & (labels_df['normal'] == 0)].count())\n",
        "\n",
        "print('Number of inconsistencies: ', labels_df[((labels_df['opacity'] == 1) | (labels_df['diabetic retinopathy']==1)\n",
        "| (labels_df['glaucoma'] == 1) | (labels_df['macular edema'] == 1) | (labels_df['macular degeneration'] == 1) \n",
        "| (labels_df['retinal vascular occlusion'] == 1)) & (labels_df['normal'] == 1)].count())\n",
        "\n",
        "print('Opacity count: ')\n",
        "print(labels_df['opacity'].value_counts())\n",
        "print('Diabetic Retinopathy count: ')\n",
        "print(labels_df['diabetic retinopathy'].value_counts())\n",
        "print('Glaucoma count: ')\n",
        "print(labels_df['glaucoma'].value_counts())\n",
        "print('Macular Edema count:')\n",
        "print(labels_df['macular edema'].value_counts())\n",
        "print('Macular Degeneration count:')\n",
        "print(labels_df['macular degeneration'].value_counts())\n",
        "print('Retinal Vascular Occlusion count: ')\n",
        "print(labels_df['retinal vascular occlusion'].value_counts())\n",
        "print('Normal count: ')\n",
        "print(labels_df['normal'].value_counts())"
      ],
      "execution_count": 6,
      "outputs": [
        {
          "output_type": "stream",
          "text": [
            "Number of all-zero anomalies:  filename                      0\n",
            "opacity                       0\n",
            "diabetic retinopathy          0\n",
            "glaucoma                      0\n",
            "macular edema                 0\n",
            "macular degeneration          0\n",
            "retinal vascular occlusion    0\n",
            "normal                        0\n",
            "dtype: int64\n",
            "Number of inconsistencies:  filename                      0\n",
            "opacity                       0\n",
            "diabetic retinopathy          0\n",
            "glaucoma                      0\n",
            "macular edema                 0\n",
            "macular degeneration          0\n",
            "retinal vascular occlusion    0\n",
            "normal                        0\n",
            "dtype: int64\n",
            "Opacity count: \n",
            "0    1902\n",
            "1    1533\n",
            "Name: opacity, dtype: int64\n",
            "Diabetic Retinopathy count: \n",
            "0    2680\n",
            "1     755\n",
            "Name: diabetic retinopathy, dtype: int64\n",
            "Glaucoma count: \n",
            "0    2838\n",
            "1     597\n",
            "Name: glaucoma, dtype: int64\n",
            "Macular Edema count:\n",
            "0    2919\n",
            "1     516\n",
            "Name: macular edema, dtype: int64\n",
            "Macular Degeneration count:\n",
            "0    2861\n",
            "1     574\n",
            "Name: macular degeneration, dtype: int64\n",
            "Retinal Vascular Occlusion count: \n",
            "0    2995\n",
            "1     440\n",
            "Name: retinal vascular occlusion, dtype: int64\n",
            "Normal count: \n",
            "0    2910\n",
            "1     525\n",
            "Name: normal, dtype: int64\n"
          ],
          "name": "stdout"
        }
      ]
    },
    {
      "cell_type": "markdown",
      "metadata": {
        "id": "NsqGS4XzDtZY"
      },
      "source": [
        "**TO DO**: Some EDA to see what kinds of correlations there are between the different diseases."
      ]
    },
    {
      "cell_type": "code",
      "metadata": {
        "colab": {
          "base_uri": "https://localhost:8080/",
          "height": 405
        },
        "id": "oWK1JNuoQSfB",
        "outputId": "fc8f24b0-43dc-4d9f-d600-2d7ddc5636a2"
      },
      "source": [
        "#Let's get the correlations between all pairs of columns and plot them as a heatmap\n",
        "sns.heatmap(labels_df.corr(), annot=True, fmt='0.2g', cmap='coolwarm')"
      ],
      "execution_count": 7,
      "outputs": [
        {
          "output_type": "execute_result",
          "data": {
            "text/plain": [
              "<matplotlib.axes._subplots.AxesSubplot at 0x7f0a6ab7db10>"
            ]
          },
          "metadata": {
            "tags": []
          },
          "execution_count": 7
        },
        {
          "output_type": "display_data",
          "data": {
            "image/png": "[encoded data removed]",
            "text/plain": [
              "<Figure size 432x288 with 2 Axes>"
            ]
          },
          "metadata": {
            "tags": [],
            "needs_background": "light"
          }
        }
      ]
    },
    {
      "cell_type": "markdown",
      "metadata": {
        "id": "ttXJIqZhQPz4"
      },
      "source": [
        "We see there is some correlation between diabetic retinopathy and macular edema, and a more mild correlation between macular edema and retinal vascular occlusion.  Normality is anti-correlated with all other labels, which is to be expected, although the magnitude is not as great as I would have expected.  Diabetic retinopathy is anti-correlated with glaucoma and macular degeneration.  More domain knowledge is necessary to interpret these (anti)correlations, but they are interesting nonetheless."
      ]
    },
    {
      "cell_type": "markdown",
      "metadata": {
        "id": "XAvddh6AO91w"
      },
      "source": [
        "To streamline the process of entering in the labels for training, we first create a new column consolidating the entries in the seven main columns into a column of 7-tuples.  This is the \"y\" that the model is learning from and trying to predict."
      ]
    },
    {
      "cell_type": "code",
      "metadata": {
        "id": "zaJHzjxkD3jQ"
      },
      "source": [
        "#Convert the individual label values to int type, add in a multi-hot vector label\n",
        "MH = list(zip(labels_df['opacity'], labels_df['diabetic retinopathy'], labels_df['glaucoma'], labels_df['macular edema'],\n",
        "                                  labels_df['macular degeneration'], labels_df['retinal vascular occlusion'], labels_df['normal']))\n",
        "labels_df['Multi_Hot'] = MH"
      ],
      "execution_count": 8,
      "outputs": []
    },
    {
      "cell_type": "code",
      "metadata": {
        "colab": {
          "base_uri": "https://localhost:8080/"
        },
        "id": "m_kqvkRyD9TQ",
        "outputId": "c2734b4e-77bc-48e8-bd32-95ed53b80e3c"
      },
      "source": [
        "y = labels_df['Multi_Hot']\n",
        "y = np.array([y.iloc[i] for i in range(len(y))])\n",
        "print('Length of y: ', len(y))"
      ],
      "execution_count": 9,
      "outputs": [
        {
          "output_type": "stream",
          "text": [
            "Length of y:  3435\n"
          ],
          "name": "stdout"
        }
      ]
    },
    {
      "cell_type": "markdown",
      "metadata": {
        "id": "5RdPGKwOP3iI"
      },
      "source": [
        "Here we load in the full set of images.  tqdm produces the progress bar and is not strictly necessary, but with this many images it can be nice to know how much longer to expect.  Google Colab has quite a bit of variability, in some experiments it loaded the full dataset in under 10 minutes, while other times it took more than half an hour."
      ]
    },
    {
      "cell_type": "code",
      "metadata": {
        "id": "4wAhZNd4EQSn",
        "colab": {
          "base_uri": "https://localhost:8080/"
        },
        "outputId": "bab0727d-55e5-445a-fbc1-8b6df73746e2"
      },
      "source": [
        "train_images = []\n",
        "for i in tqdm(range(labels_df.shape[0])):\n",
        "    img = image.load_img(image_dir+'/'+ labels_df['filename'][i], target_size=(224,224,3), grayscale=False)\n",
        "    img = image.img_to_array(img)\n",
        "    img = img/255\n",
        "    train_images.append(img)\n",
        "\n",
        "X = np.array(train_images)\n"
      ],
      "execution_count": 10,
      "outputs": [
        {
          "output_type": "stream",
          "text": [
            "100%|██████████| 3435/3435 [12:30<00:00,  4.58it/s]\n"
          ],
          "name": "stderr"
        }
      ]
    },
    {
      "cell_type": "code",
      "metadata": {
        "id": "Tu3ZUSXEERui",
        "colab": {
          "base_uri": "https://localhost:8080/"
        },
        "outputId": "1ad8bdd7-d56c-473a-80e5-78b33ea679de"
      },
      "source": [
        "#Perform the train_test split.  Fix random_state for reproducibility\n",
        "X_train, X_test, y_train, y_test = train_test_split(X, y, random_state=37, test_size=0.3)\n",
        "print('Length of X_train: ', len(X_train))\n",
        "print('Length of X_test: ', len(X_test))"
      ],
      "execution_count": 11,
      "outputs": [
        {
          "output_type": "stream",
          "text": [
            "Length of X_train:  2404\n",
            "Length of X_test:  1031\n"
          ],
          "name": "stdout"
        }
      ]
    },
    {
      "cell_type": "code",
      "metadata": {
        "id": "YGU53ndUEYZa"
      },
      "source": [
        "#Specifying the batch_size hyperparameter.\n",
        "#I have heard it claimed that batch_size larger than 32 does not improve performance (see https://arxiv.org/pdf/1804.07612.pdf),\n",
        "#so I'm going to hold batch_size to 16 here just to be safe. \n",
        "train_batch_size = 16"
      ],
      "execution_count": 12,
      "outputs": []
    },
    {
      "cell_type": "markdown",
      "metadata": {
        "id": "8-zanrNQEocI"
      },
      "source": [
        "We will want to augment the training set. For these images, vertical & horizontal flips as well as random rotations are valid transformations. Manipulating the colors is probably not a valid transformation as that might plausibly change the actual meaning, although I could be mistaken in this.\n",
        "The Keras ImageDataGenerator also has shear & shift parameters, which should be valid augmentations for this sort of data as long as the parameters aren't too large."
      ]
    },
    {
      "cell_type": "code",
      "metadata": {
        "id": "NlHNjiG0EqsE"
      },
      "source": [
        "#Hyperparameters: rotation_angle, width/height_shift_range, shear\n",
        "\n",
        "# Create a Data Generator\n",
        "data_gen_args = dict( \n",
        "    rotation_range=45,\n",
        "    width_shift_range=0.05,\n",
        "    height_shift_range=0.05,\n",
        "    zoom_range=0.2,\n",
        "    channel_shift_range=0.05,\n",
        "    horizontal_flip=True,\n",
        "    vertical_flip=True,\n",
        "    fill_mode='constant',\n",
        "    data_format=\"channels_last\",\n",
        ")\n",
        "image_datagen = ImageDataGenerator(**data_gen_args)\n",
        "\n",
        "image_datagen.fit(X_train)"
      ],
      "execution_count": 13,
      "outputs": []
    },
    {
      "cell_type": "code",
      "metadata": {
        "id": "5Zl6vftbEwYD"
      },
      "source": [
        "train_generator = image_datagen.flow(X_train, y_train, batch_size=train_batch_size)\n",
        "val_generator = image_datagen.flow(X_test, y_test, batch_size=train_batch_size)"
      ],
      "execution_count": 14,
      "outputs": []
    },
    {
      "cell_type": "markdown",
      "metadata": {
        "id": "cU51mLy_E3H9"
      },
      "source": [
        "ResNets are the name of the game for this project, so let's start by defining an n-convolutional-layer resnet component. The original ResNet set n=2, but I've decided to experiment with adding more layers to each component.\n",
        "Acknowledgement: this code is based on the example code found here https://d2l.ai/chapter_convolutional-modern/resnet.html"
      ]
    },
    {
      "cell_type": "markdown",
      "metadata": {
        "id": "2KvcMKo3FHv2"
      },
      "source": [
        "This is where the resnet module helpers come in: GeneralResnetBlock is defined in that function, it determines the complexity of the individual resnet blocks.  For the first model, we are using four 3-layer core modules, with a GoogLeNet head and tail bracketing the resnet blocks."
      ]
    },
    {
      "cell_type": "code",
      "metadata": {
        "id": "v1okLsW0E9md"
      },
      "source": [
        "def model_one():\n",
        "    return Sequential([\n",
        "           Conv2D(64, kernel_size=7, strides=2, padding='same'),\n",
        "           BatchNormalization(),\n",
        "           tf.keras.layers.Activation('relu'),\n",
        "           tf.keras.layers.MaxPool2D(pool_size=3, strides=2, padding='same'),      \n",
        "           GeneralResnetBlock(3, 64, 2, first_block=True),\n",
        "           GeneralResnetBlock(3, 128, 2),\n",
        "           GeneralResnetBlock(3, 256, 2),\n",
        "           GeneralResnetBlock(3, 512, 2),\n",
        "           tf.keras.layers.GlobalAvgPool2D(),\n",
        "           tf.keras.layers.Dense(7, activation='sigmoid')\n",
        "    ])"
      ],
      "execution_count": 15,
      "outputs": []
    },
    {
      "cell_type": "code",
      "metadata": {
        "id": "xEHODsfyG9H0",
        "colab": {
          "base_uri": "https://localhost:8080/"
        },
        "outputId": "89d3d218-822a-4717-94b7-31f656ffafe9"
      },
      "source": [
        "#Let's see how this affects the shape of an input\n",
        "R = tf.random.uniform(shape=(16, 224, 224, 3))\n",
        "for layer in model_one().layers:\n",
        "    R = layer(R)\n",
        "    print(layer.__class__.__name__, 'output shape:\\t', R.shape)"
      ],
      "execution_count": 16,
      "outputs": [
        {
          "output_type": "stream",
          "text": [
            "Conv2D output shape:\t (16, 112, 112, 64)\n",
            "BatchNormalization output shape:\t (16, 112, 112, 64)\n",
            "ModuleWrapper output shape:\t (16, 112, 112, 64)\n",
            "ModuleWrapper output shape:\t (16, 56, 56, 64)\n",
            "ModuleWrapper output shape:\t (16, 56, 56, 64)\n",
            "ModuleWrapper output shape:\t (16, 28, 28, 128)\n",
            "ModuleWrapper output shape:\t (16, 14, 14, 256)\n",
            "ModuleWrapper output shape:\t (16, 7, 7, 512)\n",
            "ModuleWrapper output shape:\t (16, 512)\n",
            "ModuleWrapper output shape:\t (16, 7)\n"
          ],
          "name": "stdout"
        }
      ]
    },
    {
      "cell_type": "markdown",
      "metadata": {
        "id": "j5I0GBdsHMD-"
      },
      "source": [
        "We need to specify which loss function to use and which optimizer to use.  This is a multi-label classification problem, which means softmax is NOT the appropriate choice, instead each individual output node has a logistic loss associated with it, so the output of a particular node corresponds to the probability of that trait (ex. glaucoma) being present in the image.  There is one catch: one of the categories is \"Normal\", which by definition is mutually exclusive with the combined set of the other six categories. Ideally there would be a way to enforce unitarity, that is, Prob(Normal) + Prob(Not Normal) = 1, but it is not clear at this point how to do so."
      ]
    },
    {
      "cell_type": "markdown",
      "metadata": {
        "id": "rK14R5sQHckF"
      },
      "source": [
        "It is generally known that learning rate decay improves performance, the basic logic being that the model is unlikely to start near the global optimum so large steps are taken initially, then as it approaches the optimum step size reduces so as to not overshoot.  Many different schemes for learning rate decay have been proposed, for this project we are using the simple Exponential Decay, which Keras has as a built-in.  There are three hyperparameters associated with this scheduler: initial_learning_rate, decay_steps, and decay_rate.  The initial_learning_rate is self-explanatory and is also the one which is most variable in different experiments, the value of 3e-4 being on the smaller side relative to what I have seen others use.  Given more time I would test out other settings, probably going larger first (ex. ilr = 0.01).  The decay_steps and decay_rate parameters are set to what I believe are their commonly-used values, I would only manipulate these after other avenues of optimization have been exhausted."
      ]
    },
    {
      "cell_type": "code",
      "metadata": {
        "id": "i8-EzfzVHQcV"
      },
      "source": [
        "#Scheduler for the learning rate decay.  \n",
        "#Hyperparameters: initial_learning_rate, decay_steps, decay_rate\n",
        "irl = 3e-4\n",
        "dsteps = 10000\n",
        "drate = 0.9\n",
        "lr_scheduler = ExponentialDecay(\n",
        "    initial_learning_rate=irl,\n",
        "    decay_steps=dsteps,\n",
        "    decay_rate=drate)"
      ],
      "execution_count": 17,
      "outputs": []
    },
    {
      "cell_type": "code",
      "metadata": {
        "id": "Tx0LeuSpHnrX"
      },
      "source": [
        "#Set the number of training epochs\n",
        "EPOCHS = 50"
      ],
      "execution_count": 18,
      "outputs": []
    },
    {
      "cell_type": "code",
      "metadata": {
        "id": "TazOilMrH11n"
      },
      "source": [
        "Model_One = model_one()\n",
        "Model_One.compile(optimizer=Adam(learning_rate=lr_scheduler, epsilon=1e-8),\n",
        "                   loss='binary_crossentropy',\n",
        "                   metrics=[tf.keras.metrics.Recall(), 'binary_accuracy'])\n"
      ],
      "execution_count": 19,
      "outputs": []
    },
    {
      "cell_type": "code",
      "metadata": {
        "id": "xWb_uE0OH-nY",
        "colab": {
          "base_uri": "https://localhost:8080/"
        },
        "outputId": "8ae0c06f-813b-461c-e3cc-9facccc453b1"
      },
      "source": [
        "M1_history = Model_One.fit(train_generator,\n",
        "                           validation_data = (X_test, y_test),\n",
        "                           epochs=EPOCHS)"
      ],
      "execution_count": 20,
      "outputs": [
        {
          "output_type": "stream",
          "text": [
            "Epoch 1/50\n",
            "151/151 [==============================] - 51s 205ms/step - loss: 0.5331 - recall: 0.2946 - binary_accuracy: 0.7758 - val_loss: 0.5505 - val_recall: 0.2557 - val_binary_accuracy: 0.7833\n",
            "Epoch 2/50\n",
            "151/151 [==============================] - 28s 187ms/step - loss: 0.4324 - recall: 0.2662 - binary_accuracy: 0.8187 - val_loss: 0.6067 - val_recall: 0.2738 - val_binary_accuracy: 0.7832\n",
            "Epoch 3/50\n",
            "151/151 [==============================] - 28s 187ms/step - loss: 0.4233 - recall: 0.2786 - binary_accuracy: 0.8234 - val_loss: 0.4394 - val_recall: 0.2846 - val_binary_accuracy: 0.8250\n",
            "Epoch 4/50\n",
            "151/151 [==============================] - 28s 186ms/step - loss: 0.4135 - recall: 0.2876 - binary_accuracy: 0.8269 - val_loss: 0.4280 - val_recall: 0.2931 - val_binary_accuracy: 0.8275\n",
            "Epoch 5/50\n",
            "151/151 [==============================] - 28s 188ms/step - loss: 0.3986 - recall: 0.2974 - binary_accuracy: 0.8333 - val_loss: 0.4560 - val_recall: 0.3005 - val_binary_accuracy: 0.8147\n",
            "Epoch 6/50\n",
            "151/151 [==============================] - 28s 188ms/step - loss: 0.4028 - recall: 0.3024 - binary_accuracy: 0.8303 - val_loss: 0.5557 - val_recall: 0.2994 - val_binary_accuracy: 0.7947\n",
            "Epoch 7/50\n",
            "151/151 [==============================] - 28s 187ms/step - loss: 0.3954 - recall: 0.2949 - binary_accuracy: 0.8304 - val_loss: 0.6774 - val_recall: 0.2947 - val_binary_accuracy: 0.7728\n",
            "Epoch 8/50\n",
            "151/151 [==============================] - 28s 187ms/step - loss: 0.3949 - recall: 0.2924 - binary_accuracy: 0.8344 - val_loss: 0.5136 - val_recall: 0.2940 - val_binary_accuracy: 0.8057\n",
            "Epoch 9/50\n",
            "151/151 [==============================] - 28s 186ms/step - loss: 0.3912 - recall: 0.2917 - binary_accuracy: 0.8381 - val_loss: 0.4069 - val_recall: 0.2982 - val_binary_accuracy: 0.8328\n",
            "Epoch 10/50\n",
            "151/151 [==============================] - 28s 186ms/step - loss: 0.3887 - recall: 0.3009 - binary_accuracy: 0.8371 - val_loss: 0.4449 - val_recall: 0.3033 - val_binary_accuracy: 0.8095\n",
            "Epoch 11/50\n",
            "151/151 [==============================] - 28s 187ms/step - loss: 0.3734 - recall: 0.3043 - binary_accuracy: 0.8435 - val_loss: 0.6239 - val_recall: 0.3054 - val_binary_accuracy: 0.7621\n",
            "Epoch 12/50\n",
            "151/151 [==============================] - 28s 187ms/step - loss: 0.3759 - recall: 0.3044 - binary_accuracy: 0.8398 - val_loss: 0.4252 - val_recall: 0.3094 - val_binary_accuracy: 0.8224\n",
            "Epoch 13/50\n",
            "151/151 [==============================] - 29s 190ms/step - loss: 0.3745 - recall: 0.3118 - binary_accuracy: 0.8402 - val_loss: 0.5081 - val_recall: 0.3162 - val_binary_accuracy: 0.8077\n",
            "Epoch 14/50\n",
            "151/151 [==============================] - 29s 192ms/step - loss: 0.3668 - recall: 0.3186 - binary_accuracy: 0.8455 - val_loss: 0.4518 - val_recall: 0.3224 - val_binary_accuracy: 0.8185\n",
            "Epoch 15/50\n",
            "151/151 [==============================] - 29s 189ms/step - loss: 0.3759 - recall: 0.3241 - binary_accuracy: 0.8394 - val_loss: 0.7685 - val_recall: 0.3247 - val_binary_accuracy: 0.7683\n",
            "Epoch 16/50\n",
            "151/151 [==============================] - 28s 188ms/step - loss: 0.3679 - recall: 0.3237 - binary_accuracy: 0.8428 - val_loss: 0.5841 - val_recall: 0.3255 - val_binary_accuracy: 0.7737\n",
            "Epoch 17/50\n",
            "151/151 [==============================] - 28s 188ms/step - loss: 0.3613 - recall: 0.3253 - binary_accuracy: 0.8442 - val_loss: 0.3692 - val_recall: 0.3296 - val_binary_accuracy: 0.8449\n",
            "Epoch 18/50\n",
            "151/151 [==============================] - 28s 187ms/step - loss: 0.3535 - recall: 0.3321 - binary_accuracy: 0.8520 - val_loss: 0.3943 - val_recall: 0.3354 - val_binary_accuracy: 0.8350\n",
            "Epoch 19/50\n",
            "151/151 [==============================] - 28s 187ms/step - loss: 0.3560 - recall: 0.3371 - binary_accuracy: 0.8477 - val_loss: 0.6955 - val_recall: 0.3388 - val_binary_accuracy: 0.7747\n",
            "Epoch 20/50\n",
            "151/151 [==============================] - 28s 187ms/step - loss: 0.3617 - recall: 0.3383 - binary_accuracy: 0.8481 - val_loss: 0.6743 - val_recall: 0.3398 - val_binary_accuracy: 0.7984\n",
            "Epoch 21/50\n",
            "151/151 [==============================] - 28s 188ms/step - loss: 0.3503 - recall: 0.3393 - binary_accuracy: 0.8509 - val_loss: 0.4188 - val_recall: 0.3422 - val_binary_accuracy: 0.8165\n",
            "Epoch 22/50\n",
            "151/151 [==============================] - 28s 187ms/step - loss: 0.3412 - recall: 0.3432 - binary_accuracy: 0.8537 - val_loss: 0.4266 - val_recall: 0.3469 - val_binary_accuracy: 0.8206\n",
            "Epoch 23/50\n",
            "151/151 [==============================] - 29s 193ms/step - loss: 0.3432 - recall: 0.3487 - binary_accuracy: 0.8531 - val_loss: 0.3591 - val_recall: 0.3521 - val_binary_accuracy: 0.8497\n",
            "Epoch 24/50\n",
            "151/151 [==============================] - 28s 187ms/step - loss: 0.3347 - recall: 0.3536 - binary_accuracy: 0.8587 - val_loss: 0.7547 - val_recall: 0.3553 - val_binary_accuracy: 0.7283\n",
            "Epoch 25/50\n",
            "151/151 [==============================] - 28s 187ms/step - loss: 0.3368 - recall: 0.3551 - binary_accuracy: 0.8546 - val_loss: 0.5490 - val_recall: 0.3567 - val_binary_accuracy: 0.7819\n",
            "Epoch 26/50\n",
            "151/151 [==============================] - 28s 187ms/step - loss: 0.3362 - recall: 0.3569 - binary_accuracy: 0.8572 - val_loss: 0.3648 - val_recall: 0.3600 - val_binary_accuracy: 0.8523\n",
            "Epoch 27/50\n",
            "151/151 [==============================] - 28s 188ms/step - loss: 0.3304 - recall: 0.3615 - binary_accuracy: 0.8611 - val_loss: 0.3872 - val_recall: 0.3649 - val_binary_accuracy: 0.8415\n",
            "Epoch 28/50\n",
            "151/151 [==============================] - 28s 188ms/step - loss: 0.3283 - recall: 0.3661 - binary_accuracy: 0.8582 - val_loss: 0.4111 - val_recall: 0.3683 - val_binary_accuracy: 0.8271\n",
            "Epoch 29/50\n",
            "151/151 [==============================] - 28s 187ms/step - loss: 0.3349 - recall: 0.3688 - binary_accuracy: 0.8578 - val_loss: 0.4674 - val_recall: 0.3706 - val_binary_accuracy: 0.7779\n",
            "Epoch 30/50\n",
            "151/151 [==============================] - 28s 187ms/step - loss: 0.3240 - recall: 0.3710 - binary_accuracy: 0.8631 - val_loss: 0.3547 - val_recall: 0.3741 - val_binary_accuracy: 0.8531\n",
            "Epoch 31/50\n",
            "151/151 [==============================] - 28s 187ms/step - loss: 0.3190 - recall: 0.3758 - binary_accuracy: 0.8701 - val_loss: 0.4050 - val_recall: 0.3783 - val_binary_accuracy: 0.8452\n",
            "Epoch 32/50\n",
            "151/151 [==============================] - 28s 188ms/step - loss: 0.3154 - recall: 0.3793 - binary_accuracy: 0.8658 - val_loss: 0.3506 - val_recall: 0.3823 - val_binary_accuracy: 0.8535\n",
            "Epoch 33/50\n",
            "151/151 [==============================] - 28s 188ms/step - loss: 0.3227 - recall: 0.3839 - binary_accuracy: 0.8626 - val_loss: 0.3768 - val_recall: 0.3861 - val_binary_accuracy: 0.8463\n",
            "Epoch 34/50\n",
            "151/151 [==============================] - 28s 187ms/step - loss: 0.3113 - recall: 0.3871 - binary_accuracy: 0.8674 - val_loss: 0.3454 - val_recall: 0.3897 - val_binary_accuracy: 0.8584\n",
            "Epoch 35/50\n",
            "151/151 [==============================] - 28s 187ms/step - loss: 0.3138 - recall: 0.3908 - binary_accuracy: 0.8660 - val_loss: 0.4677 - val_recall: 0.3928 - val_binary_accuracy: 0.7969\n",
            "Epoch 36/50\n",
            "151/151 [==============================] - 28s 188ms/step - loss: 0.3076 - recall: 0.3935 - binary_accuracy: 0.8686 - val_loss: 0.6626 - val_recall: 0.3949 - val_binary_accuracy: 0.7392\n",
            "Epoch 37/50\n",
            "151/151 [==============================] - 28s 186ms/step - loss: 0.2959 - recall: 0.3951 - binary_accuracy: 0.8741 - val_loss: 0.3643 - val_recall: 0.3977 - val_binary_accuracy: 0.8523\n",
            "Epoch 38/50\n",
            "151/151 [==============================] - 28s 187ms/step - loss: 0.2983 - recall: 0.3988 - binary_accuracy: 0.8723 - val_loss: 0.3548 - val_recall: 0.4012 - val_binary_accuracy: 0.8594\n",
            "Epoch 39/50\n",
            "151/151 [==============================] - 28s 187ms/step - loss: 0.2998 - recall: 0.4024 - binary_accuracy: 0.8742 - val_loss: 0.3650 - val_recall: 0.4044 - val_binary_accuracy: 0.8506\n",
            "Epoch 40/50\n",
            "151/151 [==============================] - 28s 188ms/step - loss: 0.2891 - recall: 0.4051 - binary_accuracy: 0.8758 - val_loss: 0.3818 - val_recall: 0.4076 - val_binary_accuracy: 0.8473\n",
            "Epoch 41/50\n",
            "151/151 [==============================] - 28s 188ms/step - loss: 0.2942 - recall: 0.4090 - binary_accuracy: 0.8785 - val_loss: 0.4066 - val_recall: 0.4113 - val_binary_accuracy: 0.8458\n",
            "Epoch 42/50\n",
            "151/151 [==============================] - 29s 189ms/step - loss: 0.2981 - recall: 0.4124 - binary_accuracy: 0.8749 - val_loss: 0.5044 - val_recall: 0.4140 - val_binary_accuracy: 0.8107\n",
            "Epoch 43/50\n",
            "151/151 [==============================] - 28s 187ms/step - loss: 0.3007 - recall: 0.4143 - binary_accuracy: 0.8718 - val_loss: 0.3759 - val_recall: 0.4162 - val_binary_accuracy: 0.8487\n",
            "Epoch 44/50\n",
            "151/151 [==============================] - 28s 187ms/step - loss: 0.2857 - recall: 0.4168 - binary_accuracy: 0.8772 - val_loss: 0.3860 - val_recall: 0.4191 - val_binary_accuracy: 0.8369\n",
            "Epoch 45/50\n",
            "151/151 [==============================] - 28s 187ms/step - loss: 0.2843 - recall: 0.4204 - binary_accuracy: 0.8807 - val_loss: 0.3621 - val_recall: 0.4226 - val_binary_accuracy: 0.8578\n",
            "Epoch 46/50\n",
            "151/151 [==============================] - 28s 188ms/step - loss: 0.2824 - recall: 0.4235 - binary_accuracy: 0.8804 - val_loss: 0.4295 - val_recall: 0.4255 - val_binary_accuracy: 0.8348\n",
            "Epoch 47/50\n",
            "151/151 [==============================] - 28s 187ms/step - loss: 0.2870 - recall: 0.4263 - binary_accuracy: 0.8806 - val_loss: 0.3845 - val_recall: 0.4287 - val_binary_accuracy: 0.8508\n",
            "Epoch 48/50\n",
            "151/151 [==============================] - 28s 186ms/step - loss: 0.2817 - recall: 0.4299 - binary_accuracy: 0.8794 - val_loss: 0.4682 - val_recall: 0.4313 - val_binary_accuracy: 0.8232\n",
            "Epoch 49/50\n",
            "151/151 [==============================] - 28s 188ms/step - loss: 0.2738 - recall: 0.4318 - binary_accuracy: 0.8841 - val_loss: 0.3312 - val_recall: 0.4340 - val_binary_accuracy: 0.8655\n",
            "Epoch 50/50\n",
            "151/151 [==============================] - 28s 188ms/step - loss: 0.2746 - recall: 0.4350 - binary_accuracy: 0.8847 - val_loss: 0.3191 - val_recall: 0.4371 - val_binary_accuracy: 0.8666\n"
          ],
          "name": "stdout"
        }
      ]
    },
    {
      "cell_type": "markdown",
      "metadata": {
        "id": "dNpyB0-84mMx"
      },
      "source": [
        "#Metric Time!!\n",
        "For this project, there are seven labels which may be applied to any given image, with the only constraint being that the last one (index 6 indicating 'Normal') cannot be set to one if any others are also set to one. The standard metrics are Accuracy, Precision, Recall, and F1 Score, each of which has it's strengths and weaknesses.  \n",
        "TP: True Positive \n",
        "TN: True Negative\n",
        "FP: False Positive\n",
        "FN: False Negative\n",
        "#Accuracy = (TP + TN)/(TP + TN + FP + FN)\n",
        "#Precision = TP/(TP + FP)\n",
        "#Recall = TP/(TP + FN)\n",
        "#F1 = (2PR)/(P + R)\n",
        "Generally, for a medical test looking for a disease-state (indices 0 - 5 inclusive in this case), False Negatives are considered to be much worse than False Positives, because a person is being given a clean bill of health when in reality they have the disease condition, as such they are unlikely to get appropriate treatment as quickly.  Therefore *Recall* is generally more important than Accuracy or Precision for tests looking for a disease-state.  \n",
        "In contrast, index 6 corresponds to a test for a healthy-state, so the roles are reversed: a False Positive means \"clean bill of health when actually ill\" and False Negative means \"told one is ill when one is actually fine\", therefore Precision is the more important metric.\n",
        "Choosing an appropriate metric is complicated by the fact that there are six distinct disease states and only one healthy state, so a simple addition of the disease-state Recalls and the healthy-state Precision potentially ignores the case where a person has a disease but the algorithm isn't sure which.  This can be somewhat ameliorated by weighting Precision for healthy-state higher than the Recalls for the disease states, which is the approach taken here.  To really do this properly, one should consult with opthamologists to devise a single overall metric to judge by."
      ]
    },
    {
      "cell_type": "code",
      "metadata": {
        "id": "84puemoO4HVf"
      },
      "source": [
        "#Create the multi-label confusion matrix\n",
        "M_predictions = Model_One.predict(X_test)\n",
        "M_predictions_hard = np.round_(M_predictions)\n",
        "\n",
        "M_MLCM = MLCM(y_test, M_predictions_hard)"
      ],
      "execution_count": 21,
      "outputs": []
    },
    {
      "cell_type": "markdown",
      "metadata": {
        "id": "kwybV0N09cqe"
      },
      "source": [
        "We will now compute all of the usual metrics for each disease-state and the healthy-state, even though at the moment only a few will be used."
      ]
    },
    {
      "cell_type": "code",
      "metadata": {
        "colab": {
          "base_uri": "https://localhost:8080/"
        },
        "id": "WpKJz13t9qMd",
        "outputId": "2315b0b4-abf1-4216-80fa-c073566af3f1"
      },
      "source": [
        "#Recall the index ordering: 0 - Opacity, 1 - Diabetic Retinopathy, 2 - Glaucoma, 3 - Macular Edema,\n",
        "# 4 - Macular Degeneration,  5 - Retinal Vascular Occlusion, 6 - Normal\n",
        "\n",
        "index_map = {0: 'Opacity', 1: 'Diabetic Retinopathy', 2: 'Glaucoma', 3: 'Macular Edema', 4: 'Macular Degeneration', \n",
        "             5: 'Retinal Vascular Occlusion', 6: 'Normal'}\n",
        "\n",
        "overall_score = 0 #A perfect score, indicating perfect Recall on all disease states and perfect Precision for the healthy state, would be 12\n",
        "\n",
        "for i, cm in enumerate(M_MLCM):\n",
        "    if i < 6:\n",
        "        overall_score += recall_from_CM(cm)\n",
        "    else:\n",
        "        overall_score += 6 * precision_from_CM(cm)\n",
        "    print('|---------------- %s -------------------|' % index_map[i])\n",
        "    print('Accuracy: ', accuracy_from_CM(cm))\n",
        "    print('Precision: ', precision_from_CM(cm))\n",
        "    print('Recall: ', recall_from_CM(cm))\n",
        "    print('F1 Score: ', F1_from_CM(cm))\n",
        "\n",
        "print('+++++++++++++++++++++++++++++++++++++')\n",
        "print('Overall score: ', overall_score)"
      ],
      "execution_count": 22,
      "outputs": [
        {
          "output_type": "stream",
          "text": [
            "|---------------- Opacity -------------------|\n",
            "Accuracy:  0.7963142580019399\n",
            "Precision:  0.7186963979416809\n",
            "Recall:  0.9010752688172043\n",
            "F1 Score:  0.799618320610687\n",
            "|---------------- Diabetic Retinopathy -------------------|\n",
            "Accuracy:  0.8157129000969933\n",
            "Precision:  0.6280487804878049\n",
            "Recall:  0.44396551724137934\n",
            "F1 Score:  0.5202020202020202\n",
            "|---------------- Glaucoma -------------------|\n",
            "Accuracy:  0.8729388942774006\n",
            "Precision:  0.7727272727272727\n",
            "Recall:  0.37988826815642457\n",
            "F1 Score:  0.5093632958801498\n",
            "|---------------- Macular Edema -------------------|\n",
            "Accuracy:  0.8603297769156159\n",
            "Precision:  0.4444444444444444\n",
            "Recall:  0.29850746268656714\n",
            "F1 Score:  0.3571428571428571\n",
            "|---------------- Macular Degeneration -------------------|\n",
            "Accuracy:  0.8768186226964112\n",
            "Precision:  0.7547169811320755\n",
            "Recall:  0.4419889502762431\n",
            "F1 Score:  0.5574912891986062\n",
            "|---------------- Retinal Vascular Occlusion -------------------|\n",
            "Accuracy:  0.9088263821532493\n",
            "Precision:  0.7291666666666666\n",
            "Recall:  0.3017241379310345\n",
            "F1 Score:  0.42682926829268286\n",
            "|---------------- Normal -------------------|\n",
            "Accuracy:  0.9350145489815713\n",
            "Precision:  0.968421052631579\n",
            "Recall:  0.5897435897435898\n",
            "F1 Score:  0.7330677290836654\n",
            "+++++++++++++++++++++++++++++++++++++\n",
            "Overall score:  8.577675920898326\n"
          ],
          "name": "stdout"
        }
      ]
    }
  ]
}