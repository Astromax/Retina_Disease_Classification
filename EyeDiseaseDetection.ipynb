{
  "nbformat": 4,
  "nbformat_minor": 0,
  "metadata": {
    "colab": {
      "name": "EyeDiseaseDetection.ipynb",
      "provenance": [],
      "collapsed_sections": [],
      "authorship_tag": "ABX9TyN7uf3vjoDhkYG6ChgJEeDG",
      "include_colab_link": true
    },
    "kernelspec": {
      "name": "python3",
      "display_name": "Python 3"
    },
    "language_info": {
      "name": "python"
    },
    "accelerator": "GPU"
  },
  "cells": [
    {
      "cell_type": "markdown",
      "metadata": {
        "id": "view-in-github",
        "colab_type": "text"
      },
      "source": [
        "<a href=\"https://colab.research.google.com/github/Astromax/Retina_Disease_Classification/blob/main/EyeDiseaseDetection.ipynb\" target=\"_parent\"><img src=\"https://colab.research.google.com/assets/colab-badge.svg\" alt=\"Open In Colab\"/></a>"
      ]
    },
    {
      "cell_type": "markdown",
      "metadata": {
        "id": "zpAakRV1_Rmr"
      },
      "source": [
        "The purpose of this is to determine whether or not a retina is healthy, and, if not, which of six different diseases it has. The data for this comes from a Kaggle competition, https://www.kaggle.com/c/vietai-advance-course-retinal-disease-detection/overview.\n",
        " There are 3,435 training images, with the following label breakdown: opacity - 0, diabetic retinopathy - 1, glaucoma - 2, macular edema - 3, macular degeneration - 4, retinal vascular occlusion - 5, and normal - 6.\n",
        "An important note: unlike an ordinary classification problem, in this case a retina may be afflicted with more than one ailment.  Because of this, the activation function for the final layer is sigmoid, instead of the usual softmax, effectively providing a probability for each label independent of the others.\n",
        "\n",
        "The data has been uploaded to my Google Drive for easy access & processing, if anyone reading this wants to replicate it just change the target directories."
      ]
    },
    {
      "cell_type": "code",
      "metadata": {
        "colab": {
          "base_uri": "https://localhost:8080/"
        },
        "id": "0mkBK6Qt_Ntr",
        "outputId": "76d231b4-9e28-47fb-a963-b5bb44f44b15"
      },
      "source": [
        "#First let's mount the Drive so we can access the data...\n",
        "from google.colab import drive\n",
        "drive.mount('/content/drive')"
      ],
      "execution_count": null,
      "outputs": [
        {
          "output_type": "stream",
          "name": "stdout",
          "text": [
            "Mounted at /content/drive\n"
          ]
        }
      ]
    },
    {
      "cell_type": "code",
      "metadata": {
        "id": "COzRUZA0_mcA"
      },
      "source": [
        "import os\n",
        "os.chdir('/content/drive/MyDrive/EyeDiseaseDetection/')\n",
        "MAIN_DIR = '/content/drive/MyDrive/EyeDiseaseDetection'"
      ],
      "execution_count": null,
      "outputs": []
    },
    {
      "cell_type": "code",
      "metadata": {
        "id": "dYSa5OXB_ppC"
      },
      "source": [
        "#from resnet_module_helpers_tf import *\n",
        "from eye_DD_metrics_helpers import *\n",
        "#from training_plot_helpers import *\n",
        "\n",
        "# Display\n",
        "from IPython.display import Image, display\n",
        "\n",
        "import json\n",
        "\n",
        "import matplotlib.cm as colormap\n",
        "import matplotlib.pyplot as plt\n",
        "\n",
        "import numpy as np\n",
        "\n",
        "import pandas as pd\n",
        "from PIL import Image, ImageDraw\n",
        "from plotly.subplots import make_subplots\n",
        "\n",
        "import seaborn as sns\n",
        "from sklearn.metrics import multilabel_confusion_matrix as MLCM\n",
        "from sklearn.model_selection import train_test_split\n",
        "import tensorflow as tf\n",
        "\n",
        "from keras.activations import relu, swish\n",
        "from tensorflow.keras.models import Model\n",
        "from tensorflow.keras.optimizers import Adam\n",
        "from tensorflow.keras.optimizers.schedules import ExponentialDecay\n",
        "from keras.preprocessing import image\n",
        "from keras.preprocessing.image import ImageDataGenerator\n",
        "from keras.models import Sequential\n",
        "from keras.layers import Conv2D, Flatten, MaxPool2D, Dense, Dropout, Input, BatchNormalization, Activation\n",
        "from tensorflow.keras.layers.experimental.preprocessing import RandomCrop, RandomFlip, RandomRotation\n",
        "\n",
        "import time\n",
        "from tqdm import tqdm\n",
        "\n",
        "physical_devices = tf.config.experimental.list_physical_devices('GPU')\n",
        "if physical_devices:\n",
        "    tf.config.experimental.set_memory_growth(physical_devices[0], True)"
      ],
      "execution_count": null,
      "outputs": []
    },
    {
      "cell_type": "code",
      "metadata": {
        "id": "NqjiKRuyAbWp"
      },
      "source": [
        "#Establish location of data\n",
        "data_dir = './Data/Data/train'\n",
        "image_dir = data_dir+'/train'"
      ],
      "execution_count": null,
      "outputs": []
    },
    {
      "cell_type": "code",
      "metadata": {
        "colab": {
          "base_uri": "https://localhost:8080/"
        },
        "id": "wbTml54JAjYT",
        "outputId": "25eade41-4193-406a-cc54-aa1bcb62d61d"
      },
      "source": [
        "filenames = os.listdir(image_dir)\n",
        "print(f'Number of files: {len(filenames)}')"
      ],
      "execution_count": null,
      "outputs": [
        {
          "output_type": "stream",
          "name": "stdout",
          "text": [
            "Number of files: 3435\n"
          ]
        }
      ]
    },
    {
      "cell_type": "code",
      "source": [
        "#index_map is in this cell because we need it in multiple places & this cell always runs\n",
        "index_map = {0: 'Opacity', 1: 'Diabetic Retinopathy', 2: 'Glaucoma', 3: 'Macular Edema', 4: 'Macular Degeneration', \n",
        "             5: 'Retinal Vascular Occlusion', 6: 'Normal'}\n",
        "\n",
        "labels_df = pd.read_csv(data_dir+'/train.csv')"
      ],
      "metadata": {
        "id": "m-zB_4IPzTr8"
      },
      "execution_count": null,
      "outputs": []
    },
    {
      "cell_type": "markdown",
      "source": [
        "## Exploratory Data Analysis"
      ],
      "metadata": {
        "id": "dWeHoqgJYzCn"
      }
    },
    {
      "cell_type": "markdown",
      "metadata": {
        "id": "TAzb5p3LCuCX"
      },
      "source": [
        "Before doing the heavy-duty analysis, let's first make sure there are no anomalies.  A retina can have multiple diseases simultaneously, which means this is not a simple image classification problem.  However, there is also a seventh label, 'Normal', corresponding to a healthy retina.  If a retina has a disease it is, by definition, unhealthy, therefore any images with a one in the 'Normal' column *and any other* is an anomaly, which should be excluded from the analysis.  Similarly, an image with all zeros, corresponding to either a mislabel or a retina with a disease not in this set, is not useful for this analysis."
      ]
    },
    {
      "cell_type": "code",
      "metadata": {
        "colab": {
          "base_uri": "https://localhost:8080/",
          "height": 387
        },
        "id": "oWK1JNuoQSfB",
        "outputId": "8edac7c7-49f4-4f2b-ef6b-5c568106c56e"
      },
      "source": [
        "#Let's get the correlations between all pairs of columns and plot them as a heatmap\n",
        "fig = sns.heatmap(labels_df.corr(), annot=True, fmt='0.2g', cmap='coolwarm')\n",
        "fig.figure.savefig(f'{MAIN_DIR}/Disease_Correlations.png')"
      ],
      "execution_count": null,
      "outputs": [
        {
          "output_type": "display_data",
          "data": {
            "image/png": "[encoded data removed]",
            "text/plain": [
              "<Figure size 432x288 with 2 Axes>"
            ]
          },
          "metadata": {
            "needs_background": "light"
          }
        }
      ]
    },
    {
      "cell_type": "markdown",
      "metadata": {
        "id": "ttXJIqZhQPz4"
      },
      "source": [
        "We see there is some correlation between diabetic retinopathy and macular edema, and a more mild correlation between macular edema and retinal vascular occlusion.  Normality is anti-correlated with all other labels, which is to be expected, although the magnitude is not as great as I would have expected.  Diabetic retinopathy is anti-correlated with glaucoma and macular degeneration.  More domain knowledge is necessary to interpret these (anti)correlations, but they are interesting nonetheless."
      ]
    },
    {
      "cell_type": "markdown",
      "metadata": {
        "id": "XAvddh6AO91w"
      },
      "source": [
        "To streamline the process of entering in the labels for training, we first create a new column consolidating the entries in the seven main columns into a column of 7-tuples.  This is the \"y\" that the model is learning from and trying to predict."
      ]
    },
    {
      "cell_type": "code",
      "metadata": {
        "id": "zaJHzjxkD3jQ"
      },
      "source": [
        "#Convert the individual label values to int type, add in a multi-hot vector label\n",
        "MH = list(zip(labels_df['opacity'], labels_df['diabetic retinopathy'], labels_df['glaucoma'], labels_df['macular edema'],\n",
        "                                  labels_df['macular degeneration'], labels_df['retinal vascular occlusion'], labels_df['normal']))\n",
        "labels_df['Multi_Hot'] = MH"
      ],
      "execution_count": null,
      "outputs": []
    },
    {
      "cell_type": "code",
      "metadata": {
        "colab": {
          "base_uri": "https://localhost:8080/"
        },
        "id": "m_kqvkRyD9TQ",
        "outputId": "2f3c2940-74ac-41bc-c7a1-6bf81f117906"
      },
      "source": [
        "y = labels_df['Multi_Hot']\n",
        "y = np.array([y.iloc[i] for i in range(len(y))])\n",
        "print(f'Length of y: {len(y)}')"
      ],
      "execution_count": null,
      "outputs": [
        {
          "output_type": "stream",
          "name": "stdout",
          "text": [
            "Length of y: 3435\n"
          ]
        }
      ]
    },
    {
      "cell_type": "code",
      "source": [
        "#More efficient anomaly check\n",
        "blanks = [p for p in y if sum(p) == 0]\n",
        "print(f'Number of Blanks: {len(blanks)}')\n",
        "\n",
        "anomalies = [p for p in y if p[-1] == 1 and sum(p[:-1]) > 0]\n",
        "print(f'Number of Anomalies: {len(anomalies)}')"
      ],
      "metadata": {
        "colab": {
          "base_uri": "https://localhost:8080/"
        },
        "id": "8A3UTFw9yGwP",
        "outputId": "e10a450f-9c57-4c38-b114-42198e8819a6"
      },
      "execution_count": null,
      "outputs": [
        {
          "output_type": "stream",
          "name": "stdout",
          "text": [
            "Number of Blanks: 0\n",
            "Number of Anomalies: 0\n"
          ]
        }
      ]
    },
    {
      "cell_type": "code",
      "source": [
        "# Copied & modified from: https://www.geeksforgeeks.org/adding-value-labels-on-a-matplotlib-bar-chart/\n",
        "def addlabels(x,y):\n",
        "    for idx,_ in enumerate(x):\n",
        "        plt.text(idx, y[idx], y[idx], ha = 'center',\n",
        "                 Bbox = dict(facecolor = 'red', alpha =.8))"
      ],
      "metadata": {
        "id": "3VqKI1c5eqIa"
      },
      "execution_count": null,
      "outputs": []
    },
    {
      "cell_type": "code",
      "source": [
        "#Let's see how many patients have one vs two vs ... ailments\n",
        "totals = [sum(p) for idx,p in enumerate(y) if p[-1] != 1]\n",
        "print(f'Number of Totals: {len(totals)}')\n",
        "\n",
        "hs  = [p for p in y if p[-1] == 1]\n",
        "p1s = [p for p in totals if p == 1]\n",
        "p2s = [p for p in totals if p == 2]\n",
        "p3s = [p for p in totals if p == 3]\n",
        "p4s = [p for p in totals if p == 4]\n",
        "\n",
        "x = ['Healthy', 'One Ailment', 'Two Ailments', 'Three Ailments', 'Four Ailments']\n",
        "z = [len(hs), len(p1s), len(p2s), len(p3s), len(p4s)]\n",
        "\n",
        "fname = f'{MAIN_DIR}/Disease_Counts.jpg'\n",
        "plt.figure(figsize=(10,5))\n",
        "plt.bar(x, z)\n",
        "addlabels(x, z)\n",
        "plt.title('Disease Counts')\n",
        "plt.xlabel('Number of Conditions')\n",
        "plt.ylabel('Number of Patients')\n",
        "plt.savefig(fname)\n",
        "plt.show()"
      ],
      "metadata": {
        "colab": {
          "base_uri": "https://localhost:8080/",
          "height": 373
        },
        "id": "Q7jeaaFHfQwR",
        "outputId": "8d016d57-5114-4613-a812-51989f8e9f50"
      },
      "execution_count": null,
      "outputs": [
        {
          "output_type": "stream",
          "name": "stdout",
          "text": [
            "Number of Totals: 2910\n"
          ]
        },
        {
          "output_type": "display_data",
          "data": {
            "image/png": "[encoded data removed]",
            "text/plain": [
              "<Figure size 720x360 with 1 Axes>"
            ]
          },
          "metadata": {}
        }
      ]
    },
    {
      "cell_type": "code",
      "source": [
        "#Plot the individual number of occurrences for each ailment\n",
        "\n",
        "hs  = [p for p in y if p[-1] == 1]\n",
        "p_opa = [p for p in y if p[0] == 1]\n",
        "p_dr = [p for p in y if p[1] == 1]\n",
        "p_gla = [p for p in y if p[2] == 1]\n",
        "p_me = [p for p in y if p[3] == 1]\n",
        "p_md = [p for p in y if p[4] == 1]\n",
        "p_rvo = [p for p in y if p[5] == 1]\n",
        "\n",
        "x = ['Healthy', 'Opacity', 'D. Retinopathy', 'Glaucoma', 'M. Edema', 'M. Degeneration', 'RVO']\n",
        "z = [len(hs), len(p_opa), len(p_dr), len(p_gla), len(p_me), len(p_md), len(p_rvo)]\n",
        "\n",
        "fname = f'{MAIN_DIR}/Individual_Disease_Counts.jpg'\n",
        "plt.figure(figsize=(10,5))\n",
        "plt.bar(x, z)\n",
        "addlabels(x, z)\n",
        "plt.title('Specific Disease Counts')\n",
        "plt.xlabel('Ailments')\n",
        "plt.ylabel('Number of Patients')\n",
        "plt.xticks(fontsize=10)\n",
        "plt.savefig(fname)\n",
        "plt.show()"
      ],
      "metadata": {
        "colab": {
          "base_uri": "https://localhost:8080/",
          "height": 350
        },
        "id": "Y6SAG3KVcV83",
        "outputId": "a71383c1-4df8-4bc2-dbcb-2d45774442cf"
      },
      "execution_count": null,
      "outputs": [
        {
          "output_type": "display_data",
          "data": {
            "image/png": "[encoded data removed]",
            "text/plain": [
              "<Figure size 720x360 with 1 Axes>"
            ]
          },
          "metadata": {
            "needs_background": "light"
          }
        }
      ]
    },
    {
      "cell_type": "code",
      "source": [
        "#Let's have a look specifically at the 13 unfortunate souls with 4 separate conditions\n",
        "souls = [dg for dg in y if sum(dg) == 4]\n",
        "for s in souls:\n",
        "    print(f'Conditions: {s}')\n",
        "\n",
        "opcount = len([1 for s in souls if s[0] == 1])\n",
        "drcount = len([1 for s in souls if s[1] == 1])\n",
        "glcount = len([1 for s in souls if s[2] == 1])\n",
        "mecount = len([1 for s in souls if s[3] == 1])\n",
        "mdcount = len([1 for s in souls if s[4] == 1])\n",
        "rvcount = len([1 for s in souls if s[5] == 1])\n",
        "\n",
        "print(f'Opacity: {opcount}')\n",
        "print(f'DR: {drcount}')\n",
        "print(f'Glaucoma: {glcount}')\n",
        "print(f'MacEd: {mecount}')\n",
        "print(f'MacDeg: {mdcount}')\n",
        "print(f'RVO: {rvcount}')"
      ],
      "metadata": {
        "colab": {
          "base_uri": "https://localhost:8080/"
        },
        "id": "NdQSF3aISKBp",
        "outputId": "d8299485-660d-4a8b-86e4-ed2c1e980ea6"
      },
      "execution_count": null,
      "outputs": [
        {
          "output_type": "stream",
          "name": "stdout",
          "text": [
            "Conditions: [1 1 0 1 1 0 0]\n",
            "Conditions: [1 1 0 1 1 0 0]\n",
            "Conditions: [1 0 1 1 0 1 0]\n",
            "Conditions: [1 0 1 1 0 1 0]\n",
            "Conditions: [1 0 1 1 0 1 0]\n",
            "Conditions: [1 0 1 1 0 1 0]\n",
            "Conditions: [1 0 1 1 0 1 0]\n",
            "Conditions: [1 0 1 1 0 1 0]\n",
            "Conditions: [1 1 0 1 0 1 0]\n",
            "Conditions: [1 1 0 1 0 1 0]\n",
            "Conditions: [1 0 1 1 0 1 0]\n",
            "Conditions: [1 0 1 1 0 1 0]\n",
            "Conditions: [1 1 1 1 0 0 0]\n",
            "Opacity: 13\n",
            "DR: 5\n",
            "Glaucoma: 9\n",
            "MacEd: 13\n",
            "MacDeg: 2\n",
            "RVO: 10\n"
          ]
        }
      ]
    },
    {
      "cell_type": "markdown",
      "metadata": {
        "id": "5RdPGKwOP3iI"
      },
      "source": [
        "Here we load in the full set of images.  tqdm produces the progress bar and is not strictly necessary, but with this many images it can be nice to know how much longer to expect.  Google Colab has quite a bit of variability, in some experiments it loaded the full dataset in under 10 minutes, while other times it took more than half an hour."
      ]
    },
    {
      "cell_type": "code",
      "metadata": {
        "id": "4wAhZNd4EQSn",
        "colab": {
          "base_uri": "https://localhost:8080/"
        },
        "outputId": "ef263db6-1586-4f26-86bb-0b8c52d62073"
      },
      "source": [
        "train_images = []\n",
        "for i in tqdm(range(labels_df.shape[0])):\n",
        "    img = image.load_img(image_dir+'/'+ labels_df['filename'][i], target_size=(224,224,3), grayscale=False)\n",
        "    img = image.img_to_array(img)\n",
        "    img = img/255\n",
        "    train_images.append(img)\n",
        "\n",
        "X = np.array(train_images)\n"
      ],
      "execution_count": null,
      "outputs": [
        {
          "output_type": "stream",
          "name": "stderr",
          "text": [
            "100%|██████████| 3435/3435 [01:10<00:00, 48.81it/s] \n"
          ]
        }
      ]
    },
    {
      "cell_type": "code",
      "metadata": {
        "id": "Tu3ZUSXEERui",
        "colab": {
          "base_uri": "https://localhost:8080/"
        },
        "outputId": "c6c751f7-1265-4529-cde5-e501ba24f38b"
      },
      "source": [
        "#Perform the train_test split.  Fix random_state for reproducibility\n",
        "X_train, X_val, y_train, y_val = train_test_split(X, y, random_state=37, test_size=0.3)\n",
        "print(f'Length of X_train: {len(X_train)}')\n",
        "print(f'Length of X_val: {len(X_val)}')"
      ],
      "execution_count": null,
      "outputs": [
        {
          "output_type": "stream",
          "name": "stdout",
          "text": [
            "Length of X_train: 2404\n",
            "Length of X_val: 1031\n"
          ]
        }
      ]
    },
    {
      "cell_type": "markdown",
      "source": [
        "## Utility Functions\n",
        "Once fully tested, the various utility functions will be written out to a \"Utilities.py\" module & imported at the top to keep things clean.\n",
        "The first utility function is write_json.  For reproducibility, we want to write all the hyperparameters to a JSON file to keep track of everything."
      ],
      "metadata": {
        "id": "57s0JE8jWbDK"
      }
    },
    {
      "cell_type": "code",
      "source": [
        "# function to add to JSON, modified from the Geeks for Geeks article\n",
        "# https://www.geeksforgeeks.org/append-to-json-file-using-python/\n",
        "def write_json(new_data: dict, filename: str='RDC_experiments.json') -> None:\n",
        "    if not os.path.exists(filename):\n",
        "        print('initializing JSON file')\n",
        "        with open(filename,'w') as jsonFile:\n",
        "            nd = {'exp_details': [new_data]}\n",
        "            json.dump(nd, jsonFile)\n",
        "        return\n",
        "    with open(filename,'r+') as file:\n",
        "        print('updating JSON file')\n",
        "          # First we load existing data into a dict.\n",
        "        file_data = json.load(file)\n",
        "        # Join new_data with file_data inside exp_details\n",
        "        file_data['exp_details'].append(new_data)\n",
        "        # Sets file's current position at offset.\n",
        "        file.seek(0)\n",
        "        # convert back to json.\n",
        "        json.dump(file_data, file, indent = 4)"
      ],
      "metadata": {
        "id": "peqRft9rWZrb"
      },
      "execution_count": null,
      "outputs": []
    },
    {
      "cell_type": "markdown",
      "source": [
        "These utility functions are for experiment tracking.  The first, record_experiment, dumps the experimental results to a common JSON file. The structure is: \"exp_details\" is a list of dictionaries, each of which corresponds to a particular Model.  Within the dictionary for a given Model, there is one key-value pair, where the key is the Model's name and the value is another dictionary! The subdictionary contains one key-value pair *for each experiment that has been done with that model*, the key is the zero-indexed number of the experiment, and the value is yet another dictionary! This innermost dictionary contains all the details about that experiment: the number of training epochs, the time spent training, the hyperparameter dictionary, the savepath for the trained model, and the metrics achieved during that experiment. \n",
        "\n",
        "The function get_experiment_number is used when starting a new experiment: it checks the JSON file for previous experiments with that model & returns the number of found experiments.  Because we are zero-indexing the experiment numbers, the returned value is the number for the next experiment, so if we are going to run Model_One then its experiment number is: expno = get_experiment_number(Model_One).  \n",
        "\n",
        "The function continue_experiment is used to pick up where an earlier one left off.  This one references the JSON file to retrieve the number of training epochs, training time, hypers, and savelocation, to allow one to continue training under the same conditions as before.  One issue that hasn't been resolved yet: the optimizer & learning rate scheduler, it is unclear whether they get saved in the savelocation along with the model or if they have to be re-initialized, if the latter then there is still some work to do to make this operational."
      ],
      "metadata": {
        "id": "7dRZ8v9dLPUN"
      }
    },
    {
      "cell_type": "code",
      "source": [
        "def record_experiment(modelname: str, expno: int, new_data: dict, filename: str='RDC_experiments_new.json') -> None:\n",
        "    if not os.path.exists(filename):\n",
        "        print('Initializing new JSON file')\n",
        "        with open(filename,'w') as jsonFile:\n",
        "            core = {expno: new_data}\n",
        "            outer = {modelname: core}\n",
        "            nd = {'exp_details': [outer]}\n",
        "            json.dump(nd, jsonFile, indent=4)\n",
        "        return\n",
        "    with open(filename, 'r+') as file:\n",
        "        print('Updating JSON file')\n",
        "        filedata = json.load(file)\n",
        "        exps = filedata['exp_details']\n",
        "        for ex in exps:\n",
        "            if modelname in ex:\n",
        "                print(f'Adding new experiment to modelspace for {modelname}')\n",
        "                expspace = ex[modelname]\n",
        "                print(f'Number of existing experiments: {len(expspace)}')\n",
        "                print(f'Adding or Updating Experiment number {expno}')\n",
        "                expspace[str(expno)] = new_data\n",
        "                file.seek(0)\n",
        "                json.dump(filedata, file, indent=4)\n",
        "                return\n",
        "        print(f'Adding {modelname} to list of models')\n",
        "        core = {expno: new_data}\n",
        "        outer = {modelname: core}\n",
        "        exps.append(outer)\n",
        "        file.seek(0)\n",
        "        json.dump(filedata, file, indent=4)\n",
        "        return"
      ],
      "metadata": {
        "id": "-Ad680Di8ZGV"
      },
      "execution_count": null,
      "outputs": []
    },
    {
      "cell_type": "code",
      "source": [
        "def get_experiment_number(modelname: str, jsonfile: str='RDC_experiments_new.json') -> int:\n",
        "    if not os.path.exists(jsonfile):\n",
        "        print(f'Error: File {jsonfile} not found!')\n",
        "        return None\n",
        "    with open(jsonfile, 'r') as file:\n",
        "        filedata = json.load(file)\n",
        "        exps = filedata['exp_details']\n",
        "        for ex in exps:\n",
        "            #Look for an experiment with this model\n",
        "            if modelname in ex:\n",
        "                #Count how many experiments have been done with this model\n",
        "                expspace = ex[modelname]\n",
        "                current_count = len(expspace)\n",
        "                return current_count\n",
        "        #If for-loop completes, then this must be a new model that hasn't been used yet\n",
        "        return 0"
      ],
      "metadata": {
        "id": "94QcW463EIUC"
      },
      "execution_count": null,
      "outputs": []
    },
    {
      "cell_type": "code",
      "source": [
        "def continue_experiment(modelname: str, expno: int, jsonfile: str='RDC_experiments_new.json') -> tuple:\n",
        "    if not os.path.exists(jsonfile):\n",
        "        print('No experiment file found!')\n",
        "        return \n",
        "    with open(jsonfile, 'r') as file:\n",
        "        filedata = json.load(file)\n",
        "        exps = filedata['exp_details']\n",
        "        for ex in exps:\n",
        "            if modelname in ex:\n",
        "                expspace = ex[modelname]\n",
        "                if str(expno) in expspace:\n",
        "                    exp = expspace[str(expno)]\n",
        "                    epochs = exp['EPOCHS']\n",
        "                    traintime = exp['Training Time']\n",
        "                    hypers = exp['Hyperparameters']\n",
        "                    saveloc = exp['Model Location']\n",
        "                    return epochs, traintime, hypers, saveloc\n",
        "                print(f'Error: Experiment Number {expno} for Model {modelname} not found!!')\n",
        "                return None, None, None, None\n",
        "        print(f'Error: Model {modelname} not found!!')\n",
        "        return None, None, None, None"
      ],
      "metadata": {
        "id": "L0a3KmCW155F"
      },
      "execution_count": null,
      "outputs": []
    },
    {
      "cell_type": "markdown",
      "source": [
        "Plotting functions for evaluating training progression."
      ],
      "metadata": {
        "id": "htDkvjn-Od0E"
      }
    },
    {
      "cell_type": "code",
      "source": [
        "def print_loss_history(training_history, modelname: str, expnum: int) -> None:\n",
        "    loss = training_history.history['loss']\n",
        "    val_loss = training_history.history['val_loss']\n",
        "    vs = pd.Series(val_loss)\n",
        "    mean = vs.rolling(window=10).mean()\n",
        "    std = vs.rolling(window=10).std()\n",
        "    epochs = range(1, len(loss) + 1)\n",
        "    plt.plot(epochs, loss, color='blue', label='Training loss')\n",
        "    plt.plot(epochs, val_loss, color='green', label='Validation loss')\n",
        "    plt.plot(epochs, mean, color='black')\n",
        "    plt.plot(epochs, mean+std, color='red')\n",
        "    plt.plot(epochs, mean-std, color='red')    \n",
        "    plt.title('Training and validation loss')\n",
        "    plt.xlabel('Epochs')\n",
        "    plt.ylabel('Loss')\n",
        "    plt.legend()\n",
        "    plt.savefig(f'{MAIN_DIR}/{modelname}_Training_and_Validation_loss_ExpNum_{expnum}.jpg')\n",
        "    plt.show()\n",
        "    return\n",
        "\n",
        "\n",
        "def print_training_history(training_history, metrics: list, modelname: str, expnum: int) -> None:\n",
        "    for met in metrics:\n",
        "        if met not in training_history.history:\n",
        "            print(f'Error: {met} missing from history!  Add it to the metrics in the compile step.')\n",
        "            continue\n",
        "        trainmet = training_history.history[met]\n",
        "        valmet = training_history.history[f'val_{met}']\n",
        "        #Put rolling average/std here\n",
        "        vs = pd.Series(valmet)\n",
        "        mean = vs.rolling(window=10).mean()\n",
        "        std = vs.rolling(window=10).std()\n",
        "        epochs = range(1, len(trainmet) + 1)\n",
        "        plt.plot(epochs, trainmet, color='blue', label=f'Training {met}')\n",
        "        plt.plot(epochs, valmet, color='green', label=f'Validation {met}')\n",
        "        plt.plot(epochs, mean, color='black')\n",
        "        plt.plot(epochs, mean+std, color='red')\n",
        "        plt.plot(epochs, mean-std, color='red')\n",
        "        plt.title(f'Training and Validation {met}')\n",
        "        plt.xlabel('Epochs')\n",
        "        plt.ylabel(met)\n",
        "        plt.legend()\n",
        "        plt.savefig(f'{modelname}_Training_and_Validation_{met}_ExpNum_{expnum}.jpg')\n",
        "        plt.show()\n",
        "    return"
      ],
      "metadata": {
        "id": "OcGRekaSOsQ0"
      },
      "execution_count": null,
      "outputs": []
    },
    {
      "cell_type": "code",
      "source": [
        "#Function for displaying & saving the activations of the model\n",
        "def display_activation(activations, condition: str, col_size: int=8, row_size: int=8, act_index: int=1) -> None:\n",
        "    activation = activations[act_index]\n",
        "    activation_index = 0\n",
        "    fig, ax = plt.subplots(row_size, col_size, figsize=(row_size * 2.5, col_size * 1.5))\n",
        "    for row in range(0, row_size):\n",
        "        for col in range(0, col_size):\n",
        "            ax[row][col].imshow(activation[0, :, :, activation_index], cmap='plasma')\n",
        "            activation_index += 1\n",
        "    fig.savefig(f'{MAIN_DIR}/{modelname}_expnum_{expno}_{condition}_activations.jpg')\n",
        "    return"
      ],
      "metadata": {
        "id": "6P_nlajQ5Ecx"
      },
      "execution_count": null,
      "outputs": []
    },
    {
      "cell_type": "code",
      "source": [
        "#Produce bar chart plots\n",
        "#Copied & modified from: https://matplotlib.org/stable/gallery/lines_bars_and_markers/barchart.html\n",
        "def plot_stats(category: str, accuracies: list, precisions: list, recalls: list, f1s: list) -> None:\n",
        "\n",
        "    conditions = [index_map[i] for i,_ in enumerate(accuracies)]\n",
        "    x = np.arange(len(conditions))\n",
        "    width = 0.2\n",
        "\n",
        "    fig, ax = plt.subplots()\n",
        "    rects1 = ax.bar(x - width, accuracies, width/2, label='Accuracy')\n",
        "    rects2 = ax.bar(x - width/2, precisions, width/2, label='Precision')\n",
        "    rects3 = ax.bar(x, recalls, width/2, label='Recall')\n",
        "    rects4 = ax.bar(x + width/2, f1s, width/2, label='F1_score')\n",
        "\n",
        "    ax.set_ylabel('Scores')\n",
        "    ax.set_title(f'{category} Metric Scores by Condition')\n",
        "    ax.set_xticks(x)\n",
        "    ax.set_xticklabels(conditions, rotation=90)\n",
        "    ax.legend(bbox_to_anchor=(1.10, 1.05))\n",
        "\n",
        "    fig.tight_layout()\n",
        "    plt.savefig(f'{MAIN_DIR}/{modelname}_{category}_metrics_by_condition.jpg')\n",
        "    plt.show()\n",
        "    return"
      ],
      "metadata": {
        "id": "Z5Xn94hndG_c"
      },
      "execution_count": null,
      "outputs": []
    },
    {
      "cell_type": "code",
      "source": [
        "#Utility function: print out the substats given a multi-label confusion matrix\n",
        "def substats(index_map: dict, mlcm: np.array) -> tuple:\n",
        "    accuracies = []\n",
        "    precisions = []\n",
        "    recalls = []\n",
        "    f1s = []\n",
        "    for i,cm in enumerate(mlcm):\n",
        "        print(f'|--------------------{index_map[i]}----------------------|')\n",
        "        acc = accuracy_from_CM(cm)\n",
        "        prec = precision_from_CM(cm)\n",
        "        recall = recall_from_CM(cm)\n",
        "        f1 = F1_from_CM(cm)\n",
        "        print(f'Accuracy: {acc}')\n",
        "        print(f'Precision: {prec}')\n",
        "        print(f'Recall: {recall}')\n",
        "        print(f'F1 score: {f1}')\n",
        "        accuracies.append(acc)\n",
        "        precisions.append(prec)\n",
        "        recalls.append(recall)\n",
        "        f1s.append(f1)\n",
        "    return (accuracies, precisions, recalls, f1s)"
      ],
      "metadata": {
        "id": "5wVnfY6-U1TU"
      },
      "execution_count": null,
      "outputs": []
    },
    {
      "cell_type": "code",
      "source": [
        "## General Purpose Metric function should go here, plausibly replacing substats"
      ],
      "metadata": {
        "id": "2Y2Rwtd6-fNu"
      },
      "execution_count": null,
      "outputs": []
    },
    {
      "cell_type": "markdown",
      "source": [
        "Some experiments have found that batch sizes larger than 32 do not improve performance: https://arxiv.org/pdf/1804.07612.pdf"
      ],
      "metadata": {
        "id": "ZaGZ1TOu_EEM"
      }
    },
    {
      "cell_type": "code",
      "source": [
        "#Model Name\n",
        "modelname = 'Model_One_B'\n",
        "\n",
        "#Experiment Number\n",
        "expno = 7\n",
        "\n",
        "#Loss function --> binary crossentropy is the default, want to try Focal Loss at some point\n",
        "LOSS = 'binary_crossentropy'\n",
        "\n",
        "# Hyperparameters -- keep them all here for easy organization\n",
        "BATCH_SIZE = 16            #Batch size\n",
        "EPOCHS = 150               #Number of epochs to train for\n",
        "EPS_SAFETY = 1e-8          #Safety parameter\n",
        "\n",
        "#Data augmentation\n",
        "CHANNEL_SHIFT_RANGE = 0.05 #Allowed range of channel shifting \n",
        "HEIGHT_SHIFT_RANGE = 0.25  #Allowed range of height shift \n",
        "ROTATION_RANGE = 45        #Allowed range of rotations \n",
        "WIDTH_SHIFT_RANGE = 0.25   #Allowed range of width shift \n",
        "ZOOM_RANGE = 0.2           #Allowed range of zoom \n",
        "\n",
        "# Learning Rate & Scheduler\n",
        "IRL = 1e-4           #Initial learning rate\n",
        "DRATE = 0.9          #Decay rate\n",
        "DSTEPS = 10000       #Decay steps"
      ],
      "metadata": {
        "id": "PQOigDXZ72ba"
      },
      "execution_count": null,
      "outputs": []
    },
    {
      "cell_type": "code",
      "source": [
        "hypers = {'BATCH_SIZE': BATCH_SIZE, 'CHANNEL_SHIFT_RANGE': CHANNEL_SHIFT_RANGE, 'DRATE': DRATE, 'DSTEPS': DSTEPS,'EPOCHS': EPOCHS, \n",
        "          'EPS_SAFETY': EPS_SAFETY, 'HEIGHT_SHIFT_RANGE': HEIGHT_SHIFT_RANGE, 'IRL': IRL, 'ROTATION_RANGE': ROTATION_RANGE, \n",
        "          'WIDTH_SHIFT_RANGE': WIDTH_SHIFT_RANGE, 'ZOOM_RANGE': ZOOM_RANGE}"
      ],
      "metadata": {
        "id": "Hvg9q3RXWw44"
      },
      "execution_count": null,
      "outputs": []
    },
    {
      "cell_type": "markdown",
      "metadata": {
        "id": "8-zanrNQEocI"
      },
      "source": [
        "We will want to augment the training set. For these images, vertical & horizontal flips as well as random rotations are valid transformations. Manipulating the colors is probably not a valid transformation as that might plausibly change the actual meaning, although I could be mistaken in this.\n",
        "The Keras ImageDataGenerator also has shear & shift parameters, which should be valid augmentations for this sort of data as long as the parameters aren't too large."
      ]
    },
    {
      "cell_type": "code",
      "metadata": {
        "id": "NlHNjiG0EqsE"
      },
      "source": [
        "#From the Keras documentation: https://www.tensorflow.org/api_docs/python/tf/keras/preprocessing/image/ImageDataGenerator\n",
        "# Create a Data Generator\n",
        "data_gen_args = dict( \n",
        "    rotation_range=ROTATION_RANGE,\n",
        "    width_shift_range=WIDTH_SHIFT_RANGE,\n",
        "    height_shift_range=HEIGHT_SHIFT_RANGE,\n",
        "    zoom_range=ZOOM_RANGE,\n",
        "    channel_shift_range=CHANNEL_SHIFT_RANGE,\n",
        "    horizontal_flip=True,\n",
        "    vertical_flip=True,\n",
        "    fill_mode='constant',\n",
        "    data_format=\"channels_last\",\n",
        ")\n",
        "\n",
        "image_datagen = ImageDataGenerator(**data_gen_args)\n",
        "\n",
        "image_datagen.fit(X_train)"
      ],
      "execution_count": null,
      "outputs": []
    },
    {
      "cell_type": "code",
      "metadata": {
        "id": "5Zl6vftbEwYD"
      },
      "source": [
        "train_generator = image_datagen.flow(X_train, y_train, batch_size=BATCH_SIZE)"
      ],
      "execution_count": null,
      "outputs": []
    },
    {
      "cell_type": "markdown",
      "metadata": {
        "id": "cU51mLy_E3H9"
      },
      "source": [
        "ResNets are the name of the game for this project, so let's start by defining an n-convolutional-layer resnet component. The original ResNet set n=2, but I've decided to experiment with adding more layers to each component.\n",
        "Acknowledgement: this code is based on the example code found here https://d2l.ai/chapter_convolutional-modern/resnet.html"
      ]
    },
    {
      "cell_type": "code",
      "metadata": {
        "id": "Oac-IGlBPXb8"
      },
      "source": [
        "class BetterResidual_nlayer(tf.keras.Model):\n",
        "    def __init__(self, num_layers, num_channels, strides=1, use_1x1=False):\n",
        "        super().__init__()\n",
        "\n",
        "        #According to He et al.: https://arxiv.org/pdf/1603.05027.pdf\n",
        "        #A better structure is: BatchNorm + Activation + Convolution triplets, ending on Convolution\n",
        "\n",
        "        self.bn0 = BatchNormalization()\n",
        "        self.conv0 = Conv2D(num_channels, padding='same', kernel_size=3, strides=strides)\n",
        "        self.inner_layers = []\n",
        "\n",
        "        for _ in range(num_layers - 1):\n",
        "            self.inner_layers.append(BatchNormalization())\n",
        "            self.inner_layers.append(Conv2D(num_channels, kernel_size=3, padding='same'))\n",
        "            \n",
        "        self.convSkip = None\n",
        "        if use_1x1:\n",
        "            self.convSkip = Conv2D(num_channels, kernel_size=1, strides=strides)\n",
        "\n",
        "    def call(self, X):\n",
        "        Y = self.bn0(X)\n",
        "        Y = swish(Y)\n",
        "        Y = self.conv0(Y)\n",
        "        for idx, layer in enumerate(self.inner_layers):\n",
        "            #Apply activation AFTER BatchNorm layers, which have idx % 2 == 0\n",
        "            Y = layer(Y)\n",
        "            if idx % 2 == 0:\n",
        "                Y = swish(Y)\n",
        "        \n",
        "        if self.convSkip is not None:\n",
        "            X = self.convSkip(X)\n",
        "            \n",
        "        #It looks like the final activation is dropped\n",
        "        return Y+X "
      ],
      "execution_count": null,
      "outputs": []
    },
    {
      "cell_type": "code",
      "metadata": {
        "id": "kFs897RkP-fC"
      },
      "source": [
        "class Residual_nlayer(tf.keras.Model):\n",
        "    def __init__(self, num_layers, num_channels, strides=1, use_1x1=False):\n",
        "        super().__init__()\n",
        "\n",
        "        self.conv0 = Conv2D(num_channels, padding='same', kernel_size=3, strides=strides)\n",
        "        self.bn0 = BatchNormalization()\n",
        "        self.inner_layers = []\n",
        "\n",
        "        for _ in range(num_layers - 1):\n",
        "            self.inner_layers.append(Conv2D(num_channels, kernel_size=3, padding='same'))\n",
        "            self.inner_layers.append(BatchNormalization())\n",
        "        \n",
        "        self.convSkip = None\n",
        "        if use_1x1:\n",
        "            self.convSkip = Conv2D(num_channels, kernel_size=1, strides=strides)\n",
        "\n",
        "    def call(self, X):\n",
        "        Y = self.conv0(X)\n",
        "        Y = self.bn0(Y)\n",
        "        for idx, layer in enumerate(self.inner_layers):\n",
        "            #Last part of the block is just BatchNorm, without activation applied\n",
        "            if idx % 2 == 0 and idx < len(self.inner_layers) - 1:\n",
        "                Y = swish(Y)\n",
        "            Y = layer(Y)\n",
        "        \n",
        "        if self.convSkip:\n",
        "            X = self.convSkip(X)\n",
        "            \n",
        "        return swish(Y+X)"
      ],
      "execution_count": null,
      "outputs": []
    },
    {
      "cell_type": "markdown",
      "source": [
        "Next we introduce a mass-producer cell for constructing full-size residual blocks."
      ],
      "metadata": {
        "id": "u-WfsTsyXBfj"
      }
    },
    {
      "cell_type": "code",
      "metadata": {
        "id": "PKK1cCloVrHS"
      },
      "source": [
        "#And here's the accompanying mass-producer for the Better layers\n",
        "class BetterGeneralResnetBlock(tf.keras.layers.Layer):\n",
        "    def __init__(self, num_layers, num_channels, num_residuals, first_block=False, **kwargs):\n",
        "        super(BetterGeneralResnetBlock, self).__init__(**kwargs)\n",
        "        self.residual_layers = []\n",
        "        for i in range(num_residuals):\n",
        "            if i==0 and not first_block:\n",
        "                self.residual_layers.append(BetterResidual_nlayer(num_layers, num_channels, use_1x1=True, strides=2))\n",
        "            else:\n",
        "                self.residual_layers.append(BetterResidual_nlayer(num_layers, num_channels))\n",
        "    \n",
        "    def call(self, X):\n",
        "        for layer in self.residual_layers.layers:\n",
        "            X = layer(X)\n",
        "        return X\n"
      ],
      "execution_count": null,
      "outputs": []
    },
    {
      "cell_type": "code",
      "metadata": {
        "id": "olMiuE7TVday"
      },
      "source": [
        "#And here's the accompanying mass-producer\n",
        "class GeneralResnetBlock(tf.keras.layers.Layer):\n",
        "    def __init__(self, num_layers, num_channels, num_residuals, first_block=False, **kwargs):\n",
        "        super(GeneralResnetBlock, self).__init__(**kwargs)\n",
        "        self.residual_layers = []\n",
        "        for i in range(num_residuals):\n",
        "            if i==0 and not first_block:\n",
        "                self.residual_layers.append(Residual_nlayer(num_layers, num_channels, use_1x1=True, strides=2))\n",
        "            else:\n",
        "                self.residual_layers.append(Residual_nlayer(num_layers, num_channels))\n",
        "    \n",
        "    def call(self, X):\n",
        "        for layer in self.residual_layers.layers:\n",
        "            X = layer(X)\n",
        "        return X\n"
      ],
      "execution_count": null,
      "outputs": []
    },
    {
      "cell_type": "markdown",
      "metadata": {
        "id": "2KvcMKo3FHv2"
      },
      "source": [
        "## Model One\n",
        "This is where the resnet module helpers come in: GeneralResnetBlock is defined in that function, it determines the complexity of the individual resnet blocks.  For the first model, we are using four 3-layer core modules, with a GoogLeNet head and tail bracketing the resnet blocks."
      ]
    },
    {
      "cell_type": "code",
      "metadata": {
        "id": "v1okLsW0E9md"
      },
      "source": [
        "def model_one():\n",
        "    return Sequential([\n",
        "           Conv2D(64, kernel_size=7, strides=2, padding='same'),\n",
        "           BatchNormalization(),\n",
        "           tf.keras.layers.Activation('swish'),\n",
        "           tf.keras.layers.MaxPool2D(pool_size=3, strides=2, padding='same'),      \n",
        "           GeneralResnetBlock(3, 64, 2, first_block=True),\n",
        "           GeneralResnetBlock(3, 128, 2),\n",
        "           GeneralResnetBlock(3, 256, 2),\n",
        "           GeneralResnetBlock(3, 512, 2),\n",
        "           tf.keras.layers.GlobalAvgPool2D(),\n",
        "           tf.keras.layers.Dense(7, activation='sigmoid')\n",
        "    ])"
      ],
      "execution_count": null,
      "outputs": []
    },
    {
      "cell_type": "code",
      "source": [
        "def model_one_b():\n",
        "    return Sequential([\n",
        "           Conv2D(64, kernel_size=7, strides=2, padding='same'),\n",
        "           BatchNormalization(),\n",
        "           tf.keras.layers.Activation('swish'),\n",
        "           tf.keras.layers.MaxPool2D(pool_size=3, strides=2, padding='same'),      \n",
        "           BetterGeneralResnetBlock(3, 64, 2, first_block=True),\n",
        "           BetterGeneralResnetBlock(3, 128, 2),\n",
        "           BetterGeneralResnetBlock(3, 256, 2),\n",
        "           BetterGeneralResnetBlock(3, 512, 2),\n",
        "           tf.keras.layers.GlobalAvgPool2D(),\n",
        "           tf.keras.layers.Dense(7, activation='sigmoid')\n",
        "    ])"
      ],
      "metadata": {
        "id": "Ywk95DjeV9hc"
      },
      "execution_count": null,
      "outputs": []
    },
    {
      "cell_type": "code",
      "metadata": {
        "id": "xEHODsfyG9H0",
        "colab": {
          "base_uri": "https://localhost:8080/"
        },
        "outputId": "f84dcbc2-a9a6-4caa-ed23-4548248c836d"
      },
      "source": [
        "#Let's see how this affects the shape of an input\n",
        "print(f'Model One effect on input shape')\n",
        "R = tf.random.uniform(shape=(16, 224, 224, 3))\n",
        "for layer in model_one().layers:\n",
        "    R = layer(R)\n",
        "    print(layer.__class__.__name__, 'output shape:\\t', R.shape)"
      ],
      "execution_count": null,
      "outputs": [
        {
          "output_type": "stream",
          "name": "stdout",
          "text": [
            "Conv2D output shape:\t (16, 112, 112, 64)\n",
            "BatchNormalization output shape:\t (16, 112, 112, 64)\n",
            "Activation output shape:\t (16, 112, 112, 64)\n",
            "MaxPooling2D output shape:\t (16, 56, 56, 64)\n",
            "GeneralResnetBlock output shape:\t (16, 56, 56, 64)\n",
            "GeneralResnetBlock output shape:\t (16, 28, 28, 128)\n",
            "GeneralResnetBlock output shape:\t (16, 14, 14, 256)\n",
            "GeneralResnetBlock output shape:\t (16, 7, 7, 512)\n",
            "GlobalAveragePooling2D output shape:\t (16, 512)\n",
            "Dense output shape:\t (16, 7)\n"
          ]
        }
      ]
    },
    {
      "cell_type": "code",
      "source": [
        "#Let's verify that the Better version affects an input shape in the same way as the original\n",
        "print(f'Model One B effect on input shape')\n",
        "R = tf.random.uniform(shape=(16, 224, 224, 3))\n",
        "for layer in model_one_b().layers:\n",
        "    R = layer(R)\n",
        "    print(layer.__class__.__name__, 'output shape:\\t', R.shape)"
      ],
      "metadata": {
        "id": "EBLojigtWQYu",
        "colab": {
          "base_uri": "https://localhost:8080/"
        },
        "outputId": "6bd6de0d-f55b-49f6-a6c6-8ce919038262"
      },
      "execution_count": null,
      "outputs": [
        {
          "output_type": "stream",
          "name": "stdout",
          "text": [
            "Model One B effect on input shape\n",
            "Conv2D output shape:\t (16, 112, 112, 64)\n",
            "BatchNormalization output shape:\t (16, 112, 112, 64)\n",
            "Activation output shape:\t (16, 112, 112, 64)\n",
            "MaxPooling2D output shape:\t (16, 56, 56, 64)\n",
            "BetterGeneralResnetBlock output shape:\t (16, 56, 56, 64)\n",
            "BetterGeneralResnetBlock output shape:\t (16, 28, 28, 128)\n",
            "BetterGeneralResnetBlock output shape:\t (16, 14, 14, 256)\n",
            "BetterGeneralResnetBlock output shape:\t (16, 7, 7, 512)\n",
            "GlobalAveragePooling2D output shape:\t (16, 512)\n",
            "Dense output shape:\t (16, 7)\n"
          ]
        }
      ]
    },
    {
      "cell_type": "markdown",
      "source": [
        "## Model Two\n",
        "This is the compact model, only two layers per ResNet block and only two blocks.  Theoretically this should train fast but not reach as high a level of quality, \"fast\" meaning \"less time per training epoch\", not \"less time to reach particular quality level\". As with Model One, this has a GoogLeNet head & tail."
      ],
      "metadata": {
        "id": "US78wLPc8-NC"
      }
    },
    {
      "cell_type": "code",
      "source": [
        "def model_two():\n",
        "    return Sequential([\n",
        "           Conv2D(64, kernel_size=7, strides=2, padding='same'),\n",
        "           BatchNormalization(),\n",
        "           tf.keras.layers.Activation('swish'),\n",
        "           tf.keras.layers.MaxPool2D(pool_size=3, strides=2, padding='same'),      \n",
        "           GeneralResnetBlock(2, 64, 2, first_block=True),\n",
        "           GeneralResnetBlock(2, 128, 2),\n",
        "           tf.keras.layers.GlobalAvgPool2D(),\n",
        "           tf.keras.layers.Dense(7, activation='sigmoid')\n",
        "    ])"
      ],
      "metadata": {
        "id": "ZLz50psc8ZPj"
      },
      "execution_count": null,
      "outputs": []
    },
    {
      "cell_type": "code",
      "source": [
        "#Let's see how this affects the shape of an input\n",
        "print(f'Model Two effect on input shape')\n",
        "R = tf.random.uniform(shape=(16, 224, 224, 3))\n",
        "for layer in model_two().layers:\n",
        "    R = layer(R)\n",
        "    print(layer.__class__.__name__, 'output shape:\\t', R.shape)"
      ],
      "metadata": {
        "colab": {
          "base_uri": "https://localhost:8080/"
        },
        "id": "TZAWpClO-r4b",
        "outputId": "3b61f0cc-08f4-434c-f082-8284917395fa"
      },
      "execution_count": null,
      "outputs": [
        {
          "output_type": "stream",
          "name": "stdout",
          "text": [
            "Model Two effect on input shape\n",
            "Conv2D output shape:\t (16, 112, 112, 64)\n",
            "BatchNormalization output shape:\t (16, 112, 112, 64)\n",
            "Activation output shape:\t (16, 112, 112, 64)\n",
            "MaxPooling2D output shape:\t (16, 56, 56, 64)\n",
            "GeneralResnetBlock output shape:\t (16, 56, 56, 64)\n",
            "GeneralResnetBlock output shape:\t (16, 28, 28, 128)\n",
            "GlobalAveragePooling2D output shape:\t (16, 128)\n",
            "Dense output shape:\t (16, 7)\n"
          ]
        }
      ]
    },
    {
      "cell_type": "markdown",
      "source": [
        "## Model Three\n",
        "This one goes bigger: four layers per ResNet block, with 5 blocks reaching up to 1024 kernels on the last one.  This will almost certainly take a long time to train, but should reach a higher plateau quality when it is fully trained."
      ],
      "metadata": {
        "id": "ZkcAwHDB-HhY"
      }
    },
    {
      "cell_type": "code",
      "source": [
        "def model_three():\n",
        "    return Sequential([\n",
        "           Conv2D(64, kernel_size=7, strides=2, padding='same'),\n",
        "           BatchNormalization(),\n",
        "           tf.keras.layers.Activation('swish'),\n",
        "           tf.keras.layers.MaxPool2D(pool_size=3, strides=2, padding='same'),\n",
        "           GeneralResnetBlock(4, 64, 2, first_block=True),\n",
        "           GeneralResnetBlock(4, 128, 2),\n",
        "           GeneralResnetBlock(4, 256, 2),\n",
        "           GeneralResnetBlock(4, 512, 2),\n",
        "           GeneralResnetBlock(4, 1024, 2),\n",
        "           tf.keras.layers.GlobalAvgPool2D(),\n",
        "           tf.keras.layers.Dense(7, activation='sigmoid')\n",
        "    ])"
      ],
      "metadata": {
        "id": "K29qTW8U9jWu"
      },
      "execution_count": null,
      "outputs": []
    },
    {
      "cell_type": "code",
      "source": [
        "#Let's see how this affects the shape of an input\n",
        "print(f'Model Three affect on input shape')\n",
        "R = tf.random.uniform(shape=(16, 224, 224, 3))\n",
        "for layer in model_three().layers:\n",
        "    R = layer(R)\n",
        "    print(layer.__class__.__name__, 'output shape:\\t', R.shape)"
      ],
      "metadata": {
        "colab": {
          "base_uri": "https://localhost:8080/"
        },
        "id": "Dsml5ZRz-wHT",
        "outputId": "c5a587e4-57d6-47ed-ef91-283623d730cd"
      },
      "execution_count": null,
      "outputs": [
        {
          "output_type": "stream",
          "name": "stdout",
          "text": [
            "Model Three effect on input shape\n",
            "Conv2D output shape:\t (16, 112, 112, 64)\n",
            "BatchNormalization output shape:\t (16, 112, 112, 64)\n",
            "Activation output shape:\t (16, 112, 112, 64)\n",
            "MaxPooling2D output shape:\t (16, 56, 56, 64)\n",
            "GeneralResnetBlock output shape:\t (16, 56, 56, 64)\n",
            "GeneralResnetBlock output shape:\t (16, 28, 28, 128)\n",
            "GeneralResnetBlock output shape:\t (16, 14, 14, 256)\n",
            "GeneralResnetBlock output shape:\t (16, 7, 7, 512)\n",
            "GeneralResnetBlock output shape:\t (16, 4, 4, 1024)\n",
            "GlobalAveragePooling2D output shape:\t (16, 1024)\n",
            "Dense output shape:\t (16, 7)\n"
          ]
        }
      ]
    },
    {
      "cell_type": "markdown",
      "metadata": {
        "id": "j5I0GBdsHMD-"
      },
      "source": [
        "We need to specify which loss function to use and which optimizer to use.  This is a multi-label classification problem, which means softmax is NOT the appropriate choice, instead each individual output node has a logistic loss associated with it, so the output of a particular node corresponds to the probability of that trait (ex. glaucoma) being present in the image.  There is one catch: one of the categories is \"Normal\", which by definition is mutually exclusive with the combined set of the other six categories. Ideally there would be a way to enforce unitarity, that is, Prob(Normal) + Prob(Not Normal) = 1, but it is not clear at this point how to do so."
      ]
    },
    {
      "cell_type": "markdown",
      "metadata": {
        "id": "rK14R5sQHckF"
      },
      "source": [
        "It is generally known that learning rate decay improves performance, the basic logic being that the model is unlikely to start near the global optimum so large steps are taken initially, then as it approaches the optimum step size reduces so as to not overshoot.  Many different schemes for learning rate decay have been proposed, for this project we are using the simple Exponential Decay, which Keras has as a built-in.  There are three hyperparameters associated with this scheduler: initial_learning_rate, decay_steps, and decay_rate.  The initial_learning_rate is self-explanatory and is also the one which is most variable in different experiments, the value of 3e-4 being on the smaller side relative to what I have seen others use.  Given more time I would test out other settings, probably going larger first (ex. ilr = 0.01).  The decay_steps and decay_rate parameters are set to what I believe are their commonly-used values, I would only manipulate these after other avenues of optimization have been exhausted."
      ]
    },
    {
      "cell_type": "code",
      "source": [
        "## NOT FULLY TESTED YET\n",
        "## Custom loss function: enforce unitarity\n",
        "def BCE_plus_unitarity_loss(y_true, y_pred):\n",
        "    bce = tf.keras.losses.BinaryCrossentropy()\n",
        "    bce_loss = bce(y_true, y_pred)\n",
        "    pred_diseases = tf.gather(y_pred, [0,1,2,3,4,5], axis=1)\n",
        "    pred_dx = tf.reduce_max(pred_diseases, axis=1)\n",
        "    pred_healthy = tf.squeeze(tf.gather(y_pred, [6], axis=1))\n",
        "    S = tf.math.add(pred_dx, pred_healthy)\n",
        "    D = S - 1\n",
        "    layer = tf.keras.layers.LeakyReLU(alpha=-0.1)\n",
        "    unitarity_loss = layer(D)\n",
        "    return bce_loss + unitarity_loss"
      ],
      "metadata": {
        "id": "fsMyzho6Ea01"
      },
      "execution_count": null,
      "outputs": []
    },
    {
      "cell_type": "code",
      "source": [
        "#Define the metrics we will want to look at\n",
        "#METRICS = [tf.keras.metrics.TruePositives(name='tp'),\n",
        "#      tf.keras.metrics.FalsePositives(name='fp'),\n",
        "#      tf.keras.metrics.TrueNegatives(name='tn'),\n",
        "#      tf.keras.metrics.FalseNegatives(name='fn')]\n",
        "\n",
        "METRICS = [tf.keras.metrics.BinaryAccuracy(name='accuracy'),\n",
        "      tf.keras.metrics.Precision(name='precision'),\n",
        "      tf.keras.metrics.Recall(name='recall'),\n",
        "      tf.keras.metrics.AUC(name='auc'),\n",
        "      tf.keras.metrics.AUC(name='prc', curve='PR')]"
      ],
      "metadata": {
        "id": "tpQZQsyCS0IJ"
      },
      "execution_count": null,
      "outputs": []
    },
    {
      "cell_type": "code",
      "metadata": {
        "id": "i8-EzfzVHQcV"
      },
      "source": [
        "#Scheduler for the learning rate decay.  \n",
        "#Hyperparameters: initial_learning_rate, decay_steps, decay_rate\n",
        "lr_scheduler = ExponentialDecay(\n",
        "    initial_learning_rate=IRL,\n",
        "    decay_steps=DSTEPS,\n",
        "    decay_rate=DRATE)"
      ],
      "execution_count": null,
      "outputs": []
    },
    {
      "cell_type": "code",
      "source": [
        "#Initialize the model.  This cell MUST run before the next few\n",
        "if modelname == 'Model_One':\n",
        "    model = model_one()\n",
        "elif modelname == 'Model_One_B':\n",
        "    model = model_one_b()\n",
        "elif modelname == 'Model_Two':\n",
        "    model = model_two()\n",
        "elif modelname == 'Model_Three':\n",
        "    model = model_three()\n",
        "else:\n",
        "    print(f'Please select a valid model!')"
      ],
      "metadata": {
        "id": "gSZs-mOY_Ni1"
      },
      "execution_count": null,
      "outputs": []
    },
    {
      "cell_type": "code",
      "source": [
        "#Compile the model\n",
        "model.compile(optimizer=Adam(learning_rate=lr_scheduler, epsilon=EPS_SAFETY),\n",
        "              loss='binary_crossentropy',\n",
        "              metrics=METRICS)"
      ],
      "metadata": {
        "id": "I5XUWS7P_mxO"
      },
      "execution_count": null,
      "outputs": []
    },
    {
      "cell_type": "code",
      "source": [
        "#Train the model & save to destination directory\n",
        "start_time = time.perf_counter()\n",
        "m_history = model.fit(train_generator,\n",
        "                      validation_data = (X_val, y_val),\n",
        "                      epochs=EPOCHS)\n",
        "delta_time = time.perf_counter() - start_time\n",
        "savelocation = f'{MAIN_DIR}/{modelname}_expnum_{expno}'\n",
        "model.save(savelocation)\n",
        "print(f'Training time for Model {modelname} for {EPOCHS} epochs: {delta_time}')"
      ],
      "metadata": {
        "id": "79Zffmb2_4kY",
        "colab": {
          "base_uri": "https://localhost:8080/"
        },
        "outputId": "257f7909-7cba-41e4-d2ab-68ce11f8898f"
      },
      "execution_count": null,
      "outputs": [
        {
          "output_type": "stream",
          "name": "stdout",
          "text": [
            "Epoch 1/150\n",
            "151/151 [==============================] - 51s 293ms/step - loss: 0.5072 - accuracy: 0.8021 - precision: 0.5443 - recall: 0.2600 - auc: 0.6964 - prc: 0.4231 - val_loss: 0.5774 - val_accuracy: 0.7841 - val_precision: 0.4543 - val_recall: 0.3226 - val_auc: 0.6256 - val_prc: 0.3593\n",
            "Epoch 2/150\n",
            "151/151 [==============================] - 43s 287ms/step - loss: 0.4481 - accuracy: 0.8186 - precision: 0.6435 - recall: 0.2741 - auc: 0.7349 - prc: 0.4801 - val_loss: 0.6382 - val_accuracy: 0.7833 - val_precision: 0.4510 - val_recall: 0.3178 - val_auc: 0.6176 - val_prc: 0.3608\n",
            "Epoch 3/150\n",
            "151/151 [==============================] - 41s 270ms/step - loss: 0.4405 - accuracy: 0.8213 - precision: 0.6491 - recall: 0.2942 - auc: 0.7474 - prc: 0.5030 - val_loss: 0.5547 - val_accuracy: 0.7815 - val_precision: 0.4458 - val_recall: 0.3206 - val_auc: 0.6612 - val_prc: 0.4103\n",
            "Epoch 4/150\n",
            "151/151 [==============================] - 42s 278ms/step - loss: 0.4267 - accuracy: 0.8245 - precision: 0.6654 - recall: 0.3026 - auc: 0.7620 - prc: 0.5197 - val_loss: 0.5210 - val_accuracy: 0.7988 - val_precision: 0.5058 - val_recall: 0.3295 - val_auc: 0.6871 - val_prc: 0.4240\n",
            "Epoch 5/150\n",
            "151/151 [==============================] - 41s 272ms/step - loss: 0.4160 - accuracy: 0.8274 - precision: 0.6733 - recall: 0.3201 - auc: 0.7763 - prc: 0.5379 - val_loss: 0.4523 - val_accuracy: 0.8257 - val_precision: 0.6125 - val_recall: 0.3814 - val_auc: 0.7645 - val_prc: 0.4891\n",
            "Epoch 6/150\n",
            "151/151 [==============================] - 41s 274ms/step - loss: 0.4117 - accuracy: 0.8309 - precision: 0.6899 - recall: 0.3302 - auc: 0.7823 - prc: 0.5535 - val_loss: 0.9532 - val_accuracy: 0.7369 - val_precision: 0.2620 - val_recall: 0.1640 - val_auc: 0.5304 - val_prc: 0.2569\n",
            "Epoch 7/150\n",
            "151/151 [==============================] - 43s 282ms/step - loss: 0.4117 - accuracy: 0.8300 - precision: 0.6782 - recall: 0.3371 - auc: 0.7806 - prc: 0.5508 - val_loss: 0.5246 - val_accuracy: 0.7978 - val_precision: 0.5046 - val_recall: 0.1490 - val_auc: 0.6637 - val_prc: 0.3755\n",
            "Epoch 8/150\n",
            "151/151 [==============================] - 43s 281ms/step - loss: 0.4032 - accuracy: 0.8349 - precision: 0.7043 - recall: 0.3466 - auc: 0.7922 - prc: 0.5681 - val_loss: 0.6933 - val_accuracy: 0.7396 - val_precision: 0.2916 - val_recall: 0.1989 - val_auc: 0.6317 - val_prc: 0.3300\n",
            "Epoch 9/150\n",
            "151/151 [==============================] - 41s 271ms/step - loss: 0.4044 - accuracy: 0.8330 - precision: 0.6898 - recall: 0.3486 - auc: 0.7903 - prc: 0.5660 - val_loss: 1.7649 - val_accuracy: 0.7018 - val_precision: 0.1697 - val_recall: 0.1210 - val_auc: 0.4546 - val_prc: 0.1904\n",
            "Epoch 10/150\n",
            "151/151 [==============================] - 42s 278ms/step - loss: 0.4004 - accuracy: 0.8324 - precision: 0.6878 - recall: 0.3460 - auc: 0.7957 - prc: 0.5703 - val_loss: 0.4699 - val_accuracy: 0.8001 - val_precision: 0.5112 - val_recall: 0.3117 - val_auc: 0.7349 - val_prc: 0.4396\n",
            "Epoch 11/150\n",
            "151/151 [==============================] - 44s 289ms/step - loss: 0.4012 - accuracy: 0.8327 - precision: 0.6909 - recall: 0.3445 - auc: 0.7955 - prc: 0.5662 - val_loss: 0.4420 - val_accuracy: 0.8293 - val_precision: 0.6598 - val_recall: 0.3260 - val_auc: 0.7628 - val_prc: 0.5098\n",
            "Epoch 12/150\n",
            "151/151 [==============================] - 42s 275ms/step - loss: 0.3951 - accuracy: 0.8363 - precision: 0.7046 - recall: 0.3581 - auc: 0.8034 - prc: 0.5834 - val_loss: 0.4141 - val_accuracy: 0.8411 - val_precision: 0.7394 - val_recall: 0.3336 - val_auc: 0.7903 - val_prc: 0.5774\n",
            "Epoch 13/150\n",
            "151/151 [==============================] - 42s 275ms/step - loss: 0.4000 - accuracy: 0.8353 - precision: 0.6916 - recall: 0.3664 - auc: 0.7989 - prc: 0.5733 - val_loss: 0.5476 - val_accuracy: 0.7966 - val_precision: 0.4975 - val_recall: 0.3465 - val_auc: 0.7273 - val_prc: 0.4173\n",
            "Epoch 14/150\n",
            "151/151 [==============================] - 43s 286ms/step - loss: 0.3922 - accuracy: 0.8359 - precision: 0.6927 - recall: 0.3701 - auc: 0.8081 - prc: 0.5873 - val_loss: 0.4793 - val_accuracy: 0.8145 - val_precision: 0.5987 - val_recall: 0.2570 - val_auc: 0.7291 - val_prc: 0.4608\n",
            "Epoch 15/150\n",
            "151/151 [==============================] - 42s 279ms/step - loss: 0.3908 - accuracy: 0.8378 - precision: 0.7024 - recall: 0.3733 - auc: 0.8083 - prc: 0.5916 - val_loss: 0.4683 - val_accuracy: 0.8118 - val_precision: 0.5414 - val_recall: 0.4689 - val_auc: 0.7633 - val_prc: 0.5457\n",
            "Epoch 16/150\n",
            "151/151 [==============================] - 42s 278ms/step - loss: 0.3890 - accuracy: 0.8391 - precision: 0.7115 - recall: 0.3724 - auc: 0.8104 - prc: 0.5921 - val_loss: 0.5533 - val_accuracy: 0.7719 - val_precision: 0.4124 - val_recall: 0.2946 - val_auc: 0.7081 - val_prc: 0.3939\n",
            "Epoch 17/150\n",
            "151/151 [==============================] - 43s 284ms/step - loss: 0.3882 - accuracy: 0.8362 - precision: 0.6991 - recall: 0.3635 - auc: 0.8153 - prc: 0.5937 - val_loss: 0.6519 - val_accuracy: 0.7685 - val_precision: 0.4283 - val_recall: 0.4245 - val_auc: 0.7032 - val_prc: 0.3621\n",
            "Epoch 18/150\n",
            "151/151 [==============================] - 43s 282ms/step - loss: 0.3841 - accuracy: 0.8415 - precision: 0.7117 - recall: 0.3911 - auc: 0.8155 - prc: 0.6035 - val_loss: 0.4068 - val_accuracy: 0.8395 - val_precision: 0.6479 - val_recall: 0.4566 - val_auc: 0.8082 - val_prc: 0.5816\n",
            "Epoch 19/150\n",
            "151/151 [==============================] - 42s 278ms/step - loss: 0.3796 - accuracy: 0.8432 - precision: 0.7210 - recall: 0.3932 - auc: 0.8213 - prc: 0.6110 - val_loss: 0.8435 - val_accuracy: 0.7527 - val_precision: 0.3265 - val_recall: 0.2071 - val_auc: 0.5780 - val_prc: 0.2968\n",
            "Epoch 20/150\n",
            "151/151 [==============================] - 42s 279ms/step - loss: 0.3778 - accuracy: 0.8431 - precision: 0.7181 - recall: 0.3963 - auc: 0.8237 - prc: 0.6164 - val_loss: 0.6059 - val_accuracy: 0.7539 - val_precision: 0.3566 - val_recall: 0.2659 - val_auc: 0.6880 - val_prc: 0.3727\n",
            "Epoch 21/150\n",
            "151/151 [==============================] - 42s 281ms/step - loss: 0.3757 - accuracy: 0.8428 - precision: 0.7093 - recall: 0.4055 - auc: 0.8283 - prc: 0.6164 - val_loss: 0.4300 - val_accuracy: 0.8389 - val_precision: 0.6933 - val_recall: 0.3677 - val_auc: 0.7774 - val_prc: 0.5486\n",
            "Epoch 22/150\n",
            "151/151 [==============================] - 42s 281ms/step - loss: 0.3752 - accuracy: 0.8426 - precision: 0.7206 - recall: 0.3894 - auc: 0.8272 - prc: 0.6211 - val_loss: 0.5361 - val_accuracy: 0.7847 - val_precision: 0.4458 - val_recall: 0.2556 - val_auc: 0.6789 - val_prc: 0.3987\n",
            "Epoch 23/150\n",
            "151/151 [==============================] - 42s 279ms/step - loss: 0.3714 - accuracy: 0.8430 - precision: 0.7182 - recall: 0.3952 - auc: 0.8316 - prc: 0.6246 - val_loss: 0.4816 - val_accuracy: 0.8066 - val_precision: 0.5331 - val_recall: 0.3684 - val_auc: 0.7587 - val_prc: 0.4602\n",
            "Epoch 24/150\n",
            "151/151 [==============================] - 42s 278ms/step - loss: 0.3716 - accuracy: 0.8467 - precision: 0.7282 - recall: 0.4116 - auc: 0.8317 - prc: 0.6261 - val_loss: 0.5384 - val_accuracy: 0.7905 - val_precision: 0.4819 - val_recall: 0.4450 - val_auc: 0.7513 - val_prc: 0.4725\n",
            "Epoch 25/150\n",
            "151/151 [==============================] - 43s 281ms/step - loss: 0.3671 - accuracy: 0.8463 - precision: 0.7185 - recall: 0.4213 - auc: 0.8381 - prc: 0.6348 - val_loss: 0.4374 - val_accuracy: 0.8315 - val_precision: 0.6234 - val_recall: 0.4265 - val_auc: 0.7880 - val_prc: 0.5004\n",
            "Epoch 26/150\n",
            "151/151 [==============================] - 43s 282ms/step - loss: 0.3657 - accuracy: 0.8475 - precision: 0.7249 - recall: 0.4222 - auc: 0.8403 - prc: 0.6347 - val_loss: 0.3904 - val_accuracy: 0.8490 - val_precision: 0.7277 - val_recall: 0.4074 - val_auc: 0.8186 - val_prc: 0.6170\n",
            "Epoch 27/150\n",
            "151/151 [==============================] - 42s 280ms/step - loss: 0.3632 - accuracy: 0.8492 - precision: 0.7260 - recall: 0.4337 - auc: 0.8407 - prc: 0.6422 - val_loss: 0.5297 - val_accuracy: 0.7916 - val_precision: 0.4786 - val_recall: 0.3137 - val_auc: 0.7337 - val_prc: 0.4363\n",
            "Epoch 28/150\n",
            "151/151 [==============================] - 43s 284ms/step - loss: 0.3614 - accuracy: 0.8478 - precision: 0.7184 - recall: 0.4328 - auc: 0.8433 - prc: 0.6447 - val_loss: 0.6402 - val_accuracy: 0.7639 - val_precision: 0.4238 - val_recall: 0.4580 - val_auc: 0.7243 - val_prc: 0.4625\n",
            "Epoch 29/150\n",
            "151/151 [==============================] - 43s 284ms/step - loss: 0.3583 - accuracy: 0.8500 - precision: 0.7312 - recall: 0.4334 - auc: 0.8488 - prc: 0.6478 - val_loss: 0.7111 - val_accuracy: 0.7348 - val_precision: 0.2599 - val_recall: 0.1668 - val_auc: 0.5836 - val_prc: 0.2920\n",
            "Epoch 30/150\n",
            "151/151 [==============================] - 42s 280ms/step - loss: 0.3603 - accuracy: 0.8505 - precision: 0.7267 - recall: 0.4435 - auc: 0.8452 - prc: 0.6467 - val_loss: 0.4141 - val_accuracy: 0.8377 - val_precision: 0.6362 - val_recall: 0.4662 - val_auc: 0.8117 - val_prc: 0.5904\n",
            "Epoch 31/150\n",
            "151/151 [==============================] - 43s 286ms/step - loss: 0.3591 - accuracy: 0.8507 - precision: 0.7264 - recall: 0.4452 - auc: 0.8463 - prc: 0.6496 - val_loss: 0.3616 - val_accuracy: 0.8492 - val_precision: 0.7551 - val_recall: 0.3794 - val_auc: 0.8407 - val_prc: 0.6411\n",
            "Epoch 32/150\n",
            "151/151 [==============================] - 42s 279ms/step - loss: 0.3545 - accuracy: 0.8505 - precision: 0.7256 - recall: 0.4449 - auc: 0.8502 - prc: 0.6586 - val_loss: 0.3824 - val_accuracy: 0.8416 - val_precision: 0.6865 - val_recall: 0.4026 - val_auc: 0.8263 - val_prc: 0.6061\n",
            "Epoch 33/150\n",
            "151/151 [==============================] - 42s 279ms/step - loss: 0.3497 - accuracy: 0.8539 - precision: 0.7334 - recall: 0.4605 - auc: 0.8554 - prc: 0.6669 - val_loss: 0.4834 - val_accuracy: 0.8031 - val_precision: 0.5210 - val_recall: 0.3568 - val_auc: 0.7544 - val_prc: 0.4837\n",
            "Epoch 34/150\n",
            "151/151 [==============================] - 43s 282ms/step - loss: 0.3437 - accuracy: 0.8570 - precision: 0.7415 - recall: 0.4728 - auc: 0.8606 - prc: 0.6790 - val_loss: 0.8419 - val_accuracy: 0.7969 - val_precision: 0.4990 - val_recall: 0.4962 - val_auc: 0.7625 - val_prc: 0.4218\n",
            "Epoch 35/150\n",
            "151/151 [==============================] - 42s 278ms/step - loss: 0.3444 - accuracy: 0.8568 - precision: 0.7362 - recall: 0.4783 - auc: 0.8622 - prc: 0.6755 - val_loss: 0.4006 - val_accuracy: 0.8292 - val_precision: 0.5844 - val_recall: 0.5441 - val_auc: 0.8289 - val_prc: 0.5996\n",
            "Epoch 36/150\n",
            "151/151 [==============================] - 42s 277ms/step - loss: 0.3402 - accuracy: 0.8558 - precision: 0.7316 - recall: 0.4774 - auc: 0.8662 - prc: 0.6807 - val_loss: 0.4056 - val_accuracy: 0.8413 - val_precision: 0.6574 - val_recall: 0.4539 - val_auc: 0.8173 - val_prc: 0.6003\n",
            "Epoch 37/150\n",
            "151/151 [==============================] - 42s 278ms/step - loss: 0.3503 - accuracy: 0.8516 - precision: 0.7223 - recall: 0.4579 - auc: 0.8566 - prc: 0.6622 - val_loss: 0.3488 - val_accuracy: 0.8535 - val_precision: 0.7119 - val_recall: 0.4662 - val_auc: 0.8597 - val_prc: 0.6590\n",
            "Epoch 38/150\n",
            "151/151 [==============================] - 43s 285ms/step - loss: 0.3373 - accuracy: 0.8593 - precision: 0.7458 - recall: 0.4843 - auc: 0.8677 - prc: 0.6891 - val_loss: 0.4300 - val_accuracy: 0.8246 - val_precision: 0.5853 - val_recall: 0.4621 - val_auc: 0.8096 - val_prc: 0.5513\n",
            "Epoch 39/150\n",
            "151/151 [==============================] - 42s 275ms/step - loss: 0.3405 - accuracy: 0.8582 - precision: 0.7398 - recall: 0.4840 - auc: 0.8651 - prc: 0.6833 - val_loss: 0.3690 - val_accuracy: 0.8499 - val_precision: 0.6816 - val_recall: 0.4874 - val_auc: 0.8448 - val_prc: 0.6445\n",
            "Epoch 40/150\n",
            "151/151 [==============================] - 42s 274ms/step - loss: 0.3362 - accuracy: 0.8613 - precision: 0.7484 - recall: 0.4953 - auc: 0.8689 - prc: 0.6925 - val_loss: 0.4228 - val_accuracy: 0.8100 - val_precision: 0.5515 - val_recall: 0.3370 - val_auc: 0.7918 - val_prc: 0.5106\n",
            "Epoch 41/150\n",
            "151/151 [==============================] - 41s 271ms/step - loss: 0.3352 - accuracy: 0.8605 - precision: 0.7445 - recall: 0.4944 - auc: 0.8701 - prc: 0.6917 - val_loss: 0.5042 - val_accuracy: 0.8153 - val_precision: 0.5613 - val_recall: 0.4067 - val_auc: 0.7779 - val_prc: 0.4830\n",
            "Epoch 42/150\n",
            "151/151 [==============================] - 41s 271ms/step - loss: 0.3331 - accuracy: 0.8605 - precision: 0.7421 - recall: 0.4981 - auc: 0.8733 - prc: 0.6929 - val_loss: 0.3629 - val_accuracy: 0.8498 - val_precision: 0.7216 - val_recall: 0.4217 - val_auc: 0.8442 - val_prc: 0.6380\n",
            "Epoch 43/150\n",
            "151/151 [==============================] - 41s 271ms/step - loss: 0.3328 - accuracy: 0.8611 - precision: 0.7418 - recall: 0.5024 - auc: 0.8723 - prc: 0.6959 - val_loss: 0.3719 - val_accuracy: 0.8516 - val_precision: 0.7144 - val_recall: 0.4463 - val_auc: 0.8415 - val_prc: 0.6387\n",
            "Epoch 44/150\n",
            "151/151 [==============================] - 41s 271ms/step - loss: 0.3269 - accuracy: 0.8620 - precision: 0.7404 - recall: 0.5111 - auc: 0.8786 - prc: 0.7064 - val_loss: 0.4301 - val_accuracy: 0.8274 - val_precision: 0.5985 - val_recall: 0.4504 - val_auc: 0.7981 - val_prc: 0.5746\n",
            "Epoch 45/150\n",
            "151/151 [==============================] - 41s 269ms/step - loss: 0.3279 - accuracy: 0.8616 - precision: 0.7416 - recall: 0.5068 - auc: 0.8773 - prc: 0.7042 - val_loss: 0.5482 - val_accuracy: 0.8132 - val_precision: 0.5713 - val_recall: 0.3151 - val_auc: 0.7558 - val_prc: 0.4763\n",
            "Epoch 46/150\n",
            "151/151 [==============================] - 43s 287ms/step - loss: 0.3294 - accuracy: 0.8630 - precision: 0.7461 - recall: 0.5105 - auc: 0.8751 - prc: 0.7014 - val_loss: 0.6507 - val_accuracy: 0.7761 - val_precision: 0.4339 - val_recall: 0.3431 - val_auc: 0.7386 - val_prc: 0.3988\n",
            "Epoch 47/150\n",
            "151/151 [==============================] - 42s 279ms/step - loss: 0.3234 - accuracy: 0.8640 - precision: 0.7459 - recall: 0.5183 - auc: 0.8806 - prc: 0.7116 - val_loss: 0.6753 - val_accuracy: 0.7730 - val_precision: 0.3929 - val_recall: 0.2194 - val_auc: 0.6784 - val_prc: 0.3587\n",
            "Epoch 48/150\n",
            "151/151 [==============================] - 42s 279ms/step - loss: 0.3237 - accuracy: 0.8650 - precision: 0.7457 - recall: 0.5263 - auc: 0.8817 - prc: 0.7116 - val_loss: 0.3794 - val_accuracy: 0.8488 - val_precision: 0.6697 - val_recall: 0.5017 - val_auc: 0.8390 - val_prc: 0.6261\n",
            "Epoch 49/150\n",
            "151/151 [==============================] - 42s 281ms/step - loss: 0.3204 - accuracy: 0.8653 - precision: 0.7473 - recall: 0.5257 - auc: 0.8841 - prc: 0.7166 - val_loss: 0.4410 - val_accuracy: 0.8139 - val_precision: 0.5560 - val_recall: 0.4074 - val_auc: 0.7909 - val_prc: 0.5312\n",
            "Epoch 50/150\n",
            "151/151 [==============================] - 42s 278ms/step - loss: 0.3233 - accuracy: 0.8656 - precision: 0.7504 - recall: 0.5240 - auc: 0.8825 - prc: 0.7113 - val_loss: 0.3704 - val_accuracy: 0.8490 - val_precision: 0.6768 - val_recall: 0.4880 - val_auc: 0.8382 - val_prc: 0.6403\n",
            "Epoch 51/150\n",
            "151/151 [==============================] - 43s 281ms/step - loss: 0.3267 - accuracy: 0.8635 - precision: 0.7446 - recall: 0.5165 - auc: 0.8805 - prc: 0.7043 - val_loss: 1.3483 - val_accuracy: 0.7222 - val_precision: 0.2523 - val_recall: 0.1887 - val_auc: 0.6071 - val_prc: 0.2613\n",
            "Epoch 52/150\n",
            "151/151 [==============================] - 43s 281ms/step - loss: 0.3229 - accuracy: 0.8652 - precision: 0.7457 - recall: 0.5272 - auc: 0.8810 - prc: 0.7153 - val_loss: 0.6135 - val_accuracy: 0.7505 - val_precision: 0.3823 - val_recall: 0.3753 - val_auc: 0.7375 - val_prc: 0.3981\n",
            "Epoch 53/150\n",
            "151/151 [==============================] - 42s 280ms/step - loss: 0.3179 - accuracy: 0.8677 - precision: 0.7539 - recall: 0.5338 - auc: 0.8869 - prc: 0.7200 - val_loss: 0.4984 - val_accuracy: 0.8244 - val_precision: 0.5761 - val_recall: 0.5072 - val_auc: 0.7813 - val_prc: 0.5254\n",
            "Epoch 54/150\n",
            "151/151 [==============================] - 42s 280ms/step - loss: 0.3158 - accuracy: 0.8655 - precision: 0.7457 - recall: 0.5298 - auc: 0.8878 - prc: 0.7247 - val_loss: 0.3243 - val_accuracy: 0.8696 - val_precision: 0.7713 - val_recall: 0.5072 - val_auc: 0.8767 - val_prc: 0.7062\n",
            "Epoch 55/150\n",
            "151/151 [==============================] - 42s 278ms/step - loss: 0.3138 - accuracy: 0.8690 - precision: 0.7548 - recall: 0.5418 - auc: 0.8894 - prc: 0.7281 - val_loss: 0.3920 - val_accuracy: 0.8440 - val_precision: 0.6472 - val_recall: 0.5065 - val_auc: 0.8316 - val_prc: 0.6308\n",
            "Epoch 56/150\n",
            "151/151 [==============================] - 43s 286ms/step - loss: 0.3135 - accuracy: 0.8669 - precision: 0.7446 - recall: 0.5416 - auc: 0.8904 - prc: 0.7269 - val_loss: 0.5400 - val_accuracy: 0.7919 - val_precision: 0.4758 - val_recall: 0.2618 - val_auc: 0.7244 - val_prc: 0.4317\n",
            "Epoch 57/150\n",
            "151/151 [==============================] - 42s 277ms/step - loss: 0.3165 - accuracy: 0.8669 - precision: 0.7495 - recall: 0.5344 - auc: 0.8872 - prc: 0.7235 - val_loss: 0.5132 - val_accuracy: 0.8084 - val_precision: 0.5365 - val_recall: 0.4019 - val_auc: 0.7672 - val_prc: 0.5132\n",
            "Epoch 58/150\n",
            "151/151 [==============================] - 43s 287ms/step - loss: 0.3050 - accuracy: 0.8736 - precision: 0.7657 - recall: 0.5594 - auc: 0.8965 - prc: 0.7421 - val_loss: 0.4268 - val_accuracy: 0.8210 - val_precision: 0.5812 - val_recall: 0.4183 - val_auc: 0.8075 - val_prc: 0.5476\n",
            "Epoch 59/150\n",
            "151/151 [==============================] - 42s 278ms/step - loss: 0.3029 - accuracy: 0.8734 - precision: 0.7622 - recall: 0.5631 - auc: 0.8981 - prc: 0.7450 - val_loss: 0.4111 - val_accuracy: 0.8498 - val_precision: 0.6703 - val_recall: 0.5099 - val_auc: 0.8284 - val_prc: 0.6255\n",
            "Epoch 60/150\n",
            "151/151 [==============================] - 44s 288ms/step - loss: 0.3071 - accuracy: 0.8719 - precision: 0.7559 - recall: 0.5611 - auc: 0.8950 - prc: 0.7377 - val_loss: 0.4259 - val_accuracy: 0.8262 - val_precision: 0.5798 - val_recall: 0.5188 - val_auc: 0.8142 - val_prc: 0.5874\n",
            "Epoch 61/150\n",
            "151/151 [==============================] - 42s 280ms/step - loss: 0.3032 - accuracy: 0.8716 - precision: 0.7606 - recall: 0.5528 - auc: 0.8995 - prc: 0.7429 - val_loss: 0.6338 - val_accuracy: 0.8024 - val_precision: 0.5251 - val_recall: 0.2645 - val_auc: 0.7217 - val_prc: 0.4401\n",
            "Epoch 62/150\n",
            "151/151 [==============================] - 42s 280ms/step - loss: 0.3042 - accuracy: 0.8730 - precision: 0.7599 - recall: 0.5634 - auc: 0.8975 - prc: 0.7425 - val_loss: 0.3341 - val_accuracy: 0.8587 - val_precision: 0.7045 - val_recall: 0.5215 - val_auc: 0.8751 - val_prc: 0.6875\n",
            "Epoch 63/150\n",
            "151/151 [==============================] - 42s 278ms/step - loss: 0.3009 - accuracy: 0.8735 - precision: 0.7607 - recall: 0.5660 - auc: 0.9002 - prc: 0.7486 - val_loss: 0.3544 - val_accuracy: 0.8663 - val_precision: 0.7188 - val_recall: 0.5591 - val_auc: 0.8604 - val_prc: 0.6908\n",
            "Epoch 64/150\n",
            "151/151 [==============================] - 42s 279ms/step - loss: 0.3045 - accuracy: 0.8744 - precision: 0.7639 - recall: 0.5677 - auc: 0.8977 - prc: 0.7404 - val_loss: 0.4191 - val_accuracy: 0.8274 - val_precision: 0.6032 - val_recall: 0.4334 - val_auc: 0.8073 - val_prc: 0.5584\n",
            "Epoch 65/150\n",
            "151/151 [==============================] - 42s 279ms/step - loss: 0.2989 - accuracy: 0.8737 - precision: 0.7557 - recall: 0.5746 - auc: 0.9009 - prc: 0.7519 - val_loss: 0.4927 - val_accuracy: 0.8204 - val_precision: 0.5655 - val_recall: 0.4928 - val_auc: 0.7894 - val_prc: 0.5510\n",
            "Epoch 66/150\n",
            "151/151 [==============================] - 42s 280ms/step - loss: 0.3017 - accuracy: 0.8738 - precision: 0.7578 - recall: 0.5723 - auc: 0.8998 - prc: 0.7456 - val_loss: 0.3859 - val_accuracy: 0.8526 - val_precision: 0.6852 - val_recall: 0.5044 - val_auc: 0.8547 - val_prc: 0.6471\n",
            "Epoch 67/150\n",
            "151/151 [==============================] - 43s 282ms/step - loss: 0.2957 - accuracy: 0.8769 - precision: 0.7680 - recall: 0.5789 - auc: 0.9042 - prc: 0.7547 - val_loss: 0.4042 - val_accuracy: 0.8461 - val_precision: 0.6814 - val_recall: 0.4518 - val_auc: 0.8389 - val_prc: 0.6133\n",
            "Epoch 68/150\n",
            "151/151 [==============================] - 43s 281ms/step - loss: 0.2999 - accuracy: 0.8746 - precision: 0.7635 - recall: 0.5692 - auc: 0.8999 - prc: 0.7512 - val_loss: 0.3719 - val_accuracy: 0.8576 - val_precision: 0.6845 - val_recall: 0.5516 - val_auc: 0.8518 - val_prc: 0.6759\n",
            "Epoch 69/150\n",
            "151/151 [==============================] - 44s 290ms/step - loss: 0.2909 - accuracy: 0.8790 - precision: 0.7743 - recall: 0.5850 - auc: 0.9077 - prc: 0.7641 - val_loss: 0.6928 - val_accuracy: 0.8035 - val_precision: 0.5163 - val_recall: 0.4867 - val_auc: 0.7710 - val_prc: 0.5145\n",
            "Epoch 70/150\n",
            "151/151 [==============================] - 42s 279ms/step - loss: 0.2903 - accuracy: 0.8779 - precision: 0.7611 - recall: 0.5965 - auc: 0.9088 - prc: 0.7634 - val_loss: 0.6879 - val_accuracy: 0.7948 - val_precision: 0.4858 - val_recall: 0.2105 - val_auc: 0.6674 - val_prc: 0.3891\n",
            "Epoch 71/150\n",
            "151/151 [==============================] - 42s 274ms/step - loss: 0.2890 - accuracy: 0.8785 - precision: 0.7666 - recall: 0.5922 - auc: 0.9090 - prc: 0.7649 - val_loss: 0.4155 - val_accuracy: 0.8348 - val_precision: 0.6034 - val_recall: 0.5407 - val_auc: 0.8232 - val_prc: 0.6073\n",
            "Epoch 72/150\n",
            "151/151 [==============================] - 43s 283ms/step - loss: 0.2889 - accuracy: 0.8786 - precision: 0.7667 - recall: 0.5928 - auc: 0.9095 - prc: 0.7642 - val_loss: 0.5843 - val_accuracy: 0.7963 - val_precision: 0.4968 - val_recall: 0.3759 - val_auc: 0.7636 - val_prc: 0.4671\n",
            "Epoch 73/150\n",
            "151/151 [==============================] - 42s 277ms/step - loss: 0.2880 - accuracy: 0.8787 - precision: 0.7681 - recall: 0.5916 - auc: 0.9102 - prc: 0.7665 - val_loss: 0.4245 - val_accuracy: 0.8481 - val_precision: 0.6321 - val_recall: 0.6001 - val_auc: 0.8466 - val_prc: 0.6401\n",
            "Epoch 74/150\n",
            "151/151 [==============================] - 42s 276ms/step - loss: 0.2876 - accuracy: 0.8781 - precision: 0.7602 - recall: 0.5991 - auc: 0.9102 - prc: 0.7672 - val_loss: 0.5206 - val_accuracy: 0.8110 - val_precision: 0.5396 - val_recall: 0.4607 - val_auc: 0.8061 - val_prc: 0.4935\n",
            "Epoch 75/150\n",
            "151/151 [==============================] - 42s 275ms/step - loss: 0.2825 - accuracy: 0.8817 - precision: 0.7747 - recall: 0.6031 - auc: 0.9135 - prc: 0.7763 - val_loss: 0.4158 - val_accuracy: 0.8443 - val_precision: 0.6540 - val_recall: 0.4921 - val_auc: 0.8162 - val_prc: 0.6112\n",
            "Epoch 76/150\n",
            "151/151 [==============================] - 42s 275ms/step - loss: 0.2807 - accuracy: 0.8823 - precision: 0.7715 - recall: 0.6117 - auc: 0.9143 - prc: 0.7796 - val_loss: 0.6914 - val_accuracy: 0.7721 - val_precision: 0.3949 - val_recall: 0.2338 - val_auc: 0.6968 - val_prc: 0.3630\n",
            "Epoch 77/150\n",
            "151/151 [==============================] - 41s 273ms/step - loss: 0.2827 - accuracy: 0.8799 - precision: 0.7686 - recall: 0.5991 - auc: 0.9136 - prc: 0.7754 - val_loss: 0.3288 - val_accuracy: 0.8770 - val_precision: 0.7406 - val_recall: 0.6049 - val_auc: 0.8871 - val_prc: 0.7235\n",
            "Epoch 78/150\n",
            "151/151 [==============================] - 42s 276ms/step - loss: 0.2833 - accuracy: 0.8850 - precision: 0.7887 - recall: 0.6054 - auc: 0.9134 - prc: 0.7733 - val_loss: 0.4224 - val_accuracy: 0.8293 - val_precision: 0.5705 - val_recall: 0.6391 - val_auc: 0.8525 - val_prc: 0.6215\n",
            "Epoch 79/150\n",
            "151/151 [==============================] - 42s 274ms/step - loss: 0.2775 - accuracy: 0.8858 - precision: 0.7822 - recall: 0.6198 - auc: 0.9171 - prc: 0.7833 - val_loss: 0.3970 - val_accuracy: 0.8616 - val_precision: 0.6997 - val_recall: 0.5557 - val_auc: 0.8368 - val_prc: 0.6697\n",
            "Epoch 80/150\n",
            "151/151 [==============================] - 42s 280ms/step - loss: 0.2801 - accuracy: 0.8826 - precision: 0.7741 - recall: 0.6100 - auc: 0.9157 - prc: 0.7785 - val_loss: 1.9580 - val_accuracy: 0.7151 - val_precision: 0.2498 - val_recall: 0.2023 - val_auc: 0.5468 - val_prc: 0.2278\n",
            "Epoch 81/150\n",
            "151/151 [==============================] - 42s 275ms/step - loss: 0.2722 - accuracy: 0.8869 - precision: 0.7874 - recall: 0.6201 - auc: 0.9204 - prc: 0.7916 - val_loss: 0.3832 - val_accuracy: 0.8468 - val_precision: 0.6364 - val_recall: 0.5694 - val_auc: 0.8584 - val_prc: 0.6380\n",
            "Epoch 82/150\n",
            "151/151 [==============================] - 42s 275ms/step - loss: 0.2777 - accuracy: 0.8844 - precision: 0.7781 - recall: 0.6160 - auc: 0.9170 - prc: 0.7824 - val_loss: 0.5010 - val_accuracy: 0.8344 - val_precision: 0.6026 - val_recall: 0.5379 - val_auc: 0.8225 - val_prc: 0.6301\n",
            "Epoch 83/150\n",
            "151/151 [==============================] - 41s 273ms/step - loss: 0.2765 - accuracy: 0.8835 - precision: 0.7743 - recall: 0.6158 - auc: 0.9174 - prc: 0.7860 - val_loss: 0.3389 - val_accuracy: 0.8685 - val_precision: 0.7341 - val_recall: 0.5509 - val_auc: 0.8717 - val_prc: 0.6929\n",
            "Epoch 84/150\n",
            "151/151 [==============================] - 42s 277ms/step - loss: 0.2741 - accuracy: 0.8861 - precision: 0.7805 - recall: 0.6247 - auc: 0.9192 - prc: 0.7897 - val_loss: 0.3178 - val_accuracy: 0.8771 - val_precision: 0.7517 - val_recall: 0.5878 - val_auc: 0.8924 - val_prc: 0.7320\n",
            "Epoch 85/150\n",
            "151/151 [==============================] - 42s 275ms/step - loss: 0.2735 - accuracy: 0.8842 - precision: 0.7780 - recall: 0.6149 - auc: 0.9210 - prc: 0.7864 - val_loss: 0.3593 - val_accuracy: 0.8583 - val_precision: 0.7245 - val_recall: 0.4853 - val_auc: 0.8740 - val_prc: 0.6861\n",
            "Epoch 86/150\n",
            "151/151 [==============================] - 41s 274ms/step - loss: 0.2664 - accuracy: 0.8896 - precision: 0.7842 - recall: 0.6428 - auc: 0.9244 - prc: 0.7984 - val_loss: 0.3394 - val_accuracy: 0.8718 - val_precision: 0.7145 - val_recall: 0.6124 - val_auc: 0.8847 - val_prc: 0.7175\n",
            "Epoch 87/150\n",
            "151/151 [==============================] - 41s 271ms/step - loss: 0.2704 - accuracy: 0.8866 - precision: 0.7793 - recall: 0.6296 - auc: 0.9218 - prc: 0.7933 - val_loss: 0.6346 - val_accuracy: 0.7782 - val_precision: 0.4324 - val_recall: 0.3014 - val_auc: 0.7216 - val_prc: 0.4120\n",
            "Epoch 88/150\n",
            "151/151 [==============================] - 42s 276ms/step - loss: 0.2623 - accuracy: 0.8924 - precision: 0.7921 - recall: 0.6500 - auc: 0.9264 - prc: 0.8065 - val_loss: 0.3227 - val_accuracy: 0.8753 - val_precision: 0.7599 - val_recall: 0.5625 - val_auc: 0.8890 - val_prc: 0.7240\n",
            "Epoch 89/150\n",
            "151/151 [==============================] - 42s 275ms/step - loss: 0.2634 - accuracy: 0.8908 - precision: 0.7883 - recall: 0.6445 - auc: 0.9260 - prc: 0.8031 - val_loss: 0.3373 - val_accuracy: 0.8698 - val_precision: 0.7288 - val_recall: 0.5694 - val_auc: 0.8893 - val_prc: 0.7153\n",
            "Epoch 90/150\n",
            "151/151 [==============================] - 42s 275ms/step - loss: 0.2680 - accuracy: 0.8891 - precision: 0.7881 - recall: 0.6333 - auc: 0.9233 - prc: 0.7965 - val_loss: 0.5344 - val_accuracy: 0.8124 - val_precision: 0.5425 - val_recall: 0.4751 - val_auc: 0.7844 - val_prc: 0.5177\n",
            "Epoch 91/150\n",
            "151/151 [==============================] - 41s 273ms/step - loss: 0.2660 - accuracy: 0.8864 - precision: 0.7756 - recall: 0.6333 - auc: 0.9255 - prc: 0.7969 - val_loss: 0.5067 - val_accuracy: 0.8420 - val_precision: 0.6321 - val_recall: 0.5284 - val_auc: 0.8114 - val_prc: 0.6135\n",
            "Epoch 92/150\n",
            "151/151 [==============================] - 43s 282ms/step - loss: 0.2596 - accuracy: 0.8908 - precision: 0.7868 - recall: 0.6465 - auc: 0.9291 - prc: 0.8066 - val_loss: 0.6925 - val_accuracy: 0.7919 - val_precision: 0.4875 - val_recall: 0.5195 - val_auc: 0.7656 - val_prc: 0.4347\n",
            "Epoch 93/150\n",
            "151/151 [==============================] - 42s 275ms/step - loss: 0.2626 - accuracy: 0.8898 - precision: 0.7874 - recall: 0.6391 - auc: 0.9269 - prc: 0.8037 - val_loss: 0.5373 - val_accuracy: 0.8088 - val_precision: 0.5291 - val_recall: 0.5161 - val_auc: 0.8062 - val_prc: 0.5093\n",
            "Epoch 94/150\n",
            "151/151 [==============================] - 41s 273ms/step - loss: 0.2601 - accuracy: 0.8903 - precision: 0.7860 - recall: 0.6445 - auc: 0.9291 - prc: 0.8071 - val_loss: 0.3335 - val_accuracy: 0.8659 - val_precision: 0.7177 - val_recall: 0.5578 - val_auc: 0.8847 - val_prc: 0.7042\n",
            "Epoch 95/150\n",
            "151/151 [==============================] - 41s 272ms/step - loss: 0.2593 - accuracy: 0.8923 - precision: 0.7940 - recall: 0.6462 - auc: 0.9292 - prc: 0.8089 - val_loss: 0.3265 - val_accuracy: 0.8643 - val_precision: 0.7097 - val_recall: 0.5598 - val_auc: 0.8863 - val_prc: 0.7055\n",
            "Epoch 96/150\n",
            "151/151 [==============================] - 41s 273ms/step - loss: 0.2603 - accuracy: 0.8905 - precision: 0.7849 - recall: 0.6477 - auc: 0.9285 - prc: 0.8061 - val_loss: 0.3075 - val_accuracy: 0.8808 - val_precision: 0.7519 - val_recall: 0.6152 - val_auc: 0.9077 - val_prc: 0.7589\n",
            "Epoch 97/150\n",
            "151/151 [==============================] - 41s 271ms/step - loss: 0.2572 - accuracy: 0.8936 - precision: 0.7940 - recall: 0.6552 - auc: 0.9300 - prc: 0.8119 - val_loss: 0.3287 - val_accuracy: 0.8688 - val_precision: 0.7129 - val_recall: 0.5906 - val_auc: 0.8893 - val_prc: 0.7193\n",
            "Epoch 98/150\n",
            "151/151 [==============================] - 41s 274ms/step - loss: 0.2540 - accuracy: 0.8943 - precision: 0.7920 - recall: 0.6624 - auc: 0.9323 - prc: 0.8145 - val_loss: 0.3253 - val_accuracy: 0.8728 - val_precision: 0.7131 - val_recall: 0.6234 - val_auc: 0.8951 - val_prc: 0.7344\n",
            "Epoch 99/150\n",
            "151/151 [==============================] - 41s 271ms/step - loss: 0.2577 - accuracy: 0.8915 - precision: 0.7820 - recall: 0.6583 - auc: 0.9301 - prc: 0.8118 - val_loss: 0.3436 - val_accuracy: 0.8620 - val_precision: 0.6770 - val_recall: 0.6104 - val_auc: 0.8807 - val_prc: 0.6967\n",
            "Epoch 100/150\n",
            "151/151 [==============================] - 42s 274ms/step - loss: 0.2572 - accuracy: 0.8926 - precision: 0.7948 - recall: 0.6474 - auc: 0.9298 - prc: 0.8141 - val_loss: 0.2967 - val_accuracy: 0.8800 - val_precision: 0.7360 - val_recall: 0.6364 - val_auc: 0.9072 - val_prc: 0.7617\n",
            "Epoch 101/150\n",
            "151/151 [==============================] - 42s 281ms/step - loss: 0.2534 - accuracy: 0.8958 - precision: 0.7943 - recall: 0.6687 - auc: 0.9333 - prc: 0.8146 - val_loss: 0.3799 - val_accuracy: 0.8609 - val_precision: 0.6924 - val_recall: 0.5646 - val_auc: 0.8633 - val_prc: 0.6844\n",
            "Epoch 102/150\n",
            "151/151 [==============================] - 41s 272ms/step - loss: 0.2525 - accuracy: 0.8948 - precision: 0.7915 - recall: 0.6661 - auc: 0.9335 - prc: 0.8167 - val_loss: 0.4912 - val_accuracy: 0.8449 - val_precision: 0.6448 - val_recall: 0.5236 - val_auc: 0.8153 - val_prc: 0.6291\n",
            "Epoch 103/150\n",
            "151/151 [==============================] - 41s 272ms/step - loss: 0.2499 - accuracy: 0.8971 - precision: 0.8019 - recall: 0.6670 - auc: 0.9343 - prc: 0.8215 - val_loss: 0.3130 - val_accuracy: 0.8738 - val_precision: 0.7163 - val_recall: 0.6247 - val_auc: 0.8994 - val_prc: 0.7477\n",
            "Epoch 104/150\n",
            "151/151 [==============================] - 41s 274ms/step - loss: 0.2479 - accuracy: 0.8961 - precision: 0.7963 - recall: 0.6678 - auc: 0.9351 - prc: 0.8246 - val_loss: 0.3716 - val_accuracy: 0.8601 - val_precision: 0.6921 - val_recall: 0.5578 - val_auc: 0.8722 - val_prc: 0.6922\n",
            "Epoch 105/150\n",
            "151/151 [==============================] - 43s 281ms/step - loss: 0.2465 - accuracy: 0.8968 - precision: 0.8019 - recall: 0.6647 - auc: 0.9360 - prc: 0.8271 - val_loss: 0.5497 - val_accuracy: 0.8082 - val_precision: 0.5333 - val_recall: 0.4320 - val_auc: 0.8013 - val_prc: 0.5307\n",
            "Epoch 106/150\n",
            "151/151 [==============================] - 42s 275ms/step - loss: 0.2500 - accuracy: 0.8965 - precision: 0.7958 - recall: 0.6713 - auc: 0.9342 - prc: 0.8216 - val_loss: 0.9621 - val_accuracy: 0.7661 - val_precision: 0.4085 - val_recall: 0.3431 - val_auc: 0.7259 - val_prc: 0.3606\n",
            "Epoch 107/150\n",
            "151/151 [==============================] - 41s 272ms/step - loss: 0.2455 - accuracy: 0.8984 - precision: 0.7984 - recall: 0.6802 - auc: 0.9372 - prc: 0.8270 - val_loss: 0.3196 - val_accuracy: 0.8746 - val_precision: 0.7279 - val_recall: 0.6090 - val_auc: 0.8979 - val_prc: 0.7420\n",
            "Epoch 108/150\n",
            "151/151 [==============================] - 43s 281ms/step - loss: 0.2398 - accuracy: 0.8989 - precision: 0.7976 - recall: 0.6845 - auc: 0.9406 - prc: 0.8334 - val_loss: 0.3889 - val_accuracy: 0.8517 - val_precision: 0.7124 - val_recall: 0.4504 - val_auc: 0.8591 - val_prc: 0.6598\n",
            "Epoch 109/150\n",
            "151/151 [==============================] - 41s 273ms/step - loss: 0.2452 - accuracy: 0.8984 - precision: 0.8010 - recall: 0.6762 - auc: 0.9372 - prc: 0.8275 - val_loss: 0.3562 - val_accuracy: 0.8632 - val_precision: 0.6862 - val_recall: 0.5995 - val_auc: 0.8706 - val_prc: 0.7019\n",
            "Epoch 110/150\n",
            "151/151 [==============================] - 41s 273ms/step - loss: 0.2450 - accuracy: 0.8995 - precision: 0.8060 - recall: 0.6762 - auc: 0.9372 - prc: 0.8287 - val_loss: 0.2958 - val_accuracy: 0.8854 - val_precision: 0.7473 - val_recall: 0.6569 - val_auc: 0.9123 - val_prc: 0.7790\n",
            "Epoch 111/150\n",
            "151/151 [==============================] - 41s 271ms/step - loss: 0.2429 - accuracy: 0.8962 - precision: 0.7911 - recall: 0.6764 - auc: 0.9394 - prc: 0.8284 - val_loss: 0.3097 - val_accuracy: 0.8768 - val_precision: 0.7341 - val_recall: 0.6152 - val_auc: 0.9009 - val_prc: 0.7449\n",
            "Epoch 112/150\n",
            "151/151 [==============================] - 41s 272ms/step - loss: 0.2371 - accuracy: 0.9023 - precision: 0.8114 - recall: 0.6868 - auc: 0.9410 - prc: 0.8393 - val_loss: 0.3351 - val_accuracy: 0.8739 - val_precision: 0.7250 - val_recall: 0.6090 - val_auc: 0.8949 - val_prc: 0.7392\n",
            "Epoch 113/150\n",
            "151/151 [==============================] - 41s 271ms/step - loss: 0.2382 - accuracy: 0.9005 - precision: 0.8056 - recall: 0.6831 - auc: 0.9411 - prc: 0.8361 - val_loss: 0.3227 - val_accuracy: 0.8775 - val_precision: 0.7337 - val_recall: 0.6213 - val_auc: 0.8984 - val_prc: 0.7420\n",
            "Epoch 114/150\n",
            "151/151 [==============================] - 41s 270ms/step - loss: 0.2281 - accuracy: 0.9069 - precision: 0.8184 - recall: 0.7064 - auc: 0.9460 - prc: 0.8496 - val_loss: 0.4098 - val_accuracy: 0.8648 - val_precision: 0.7062 - val_recall: 0.5701 - val_auc: 0.8777 - val_prc: 0.6712\n",
            "Epoch 115/150\n",
            "151/151 [==============================] - 41s 269ms/step - loss: 0.2381 - accuracy: 0.9013 - precision: 0.8049 - recall: 0.6894 - auc: 0.9407 - prc: 0.8376 - val_loss: 0.4020 - val_accuracy: 0.8513 - val_precision: 0.6298 - val_recall: 0.6466 - val_auc: 0.8739 - val_prc: 0.6989\n",
            "Epoch 116/150\n",
            "151/151 [==============================] - 43s 282ms/step - loss: 0.2316 - accuracy: 0.9018 - precision: 0.8042 - recall: 0.6934 - auc: 0.9447 - prc: 0.8441 - val_loss: 0.2984 - val_accuracy: 0.8843 - val_precision: 0.7617 - val_recall: 0.6247 - val_auc: 0.9098 - val_prc: 0.7670\n",
            "Epoch 117/150\n",
            "151/151 [==============================] - 42s 277ms/step - loss: 0.2300 - accuracy: 0.9048 - precision: 0.8105 - recall: 0.7038 - auc: 0.9452 - prc: 0.8469 - val_loss: 0.3994 - val_accuracy: 0.8620 - val_precision: 0.6843 - val_recall: 0.5926 - val_auc: 0.8681 - val_prc: 0.6908\n",
            "Epoch 118/150\n",
            "151/151 [==============================] - 41s 272ms/step - loss: 0.2405 - accuracy: 0.9023 - precision: 0.8095 - recall: 0.6894 - auc: 0.9397 - prc: 0.8351 - val_loss: 0.3008 - val_accuracy: 0.8824 - val_precision: 0.7369 - val_recall: 0.6528 - val_auc: 0.9036 - val_prc: 0.7675\n",
            "Epoch 119/150\n",
            "151/151 [==============================] - 42s 279ms/step - loss: 0.2302 - accuracy: 0.9031 - precision: 0.8075 - recall: 0.6974 - auc: 0.9457 - prc: 0.8457 - val_loss: 0.4557 - val_accuracy: 0.8389 - val_precision: 0.6147 - val_recall: 0.5496 - val_auc: 0.8357 - val_prc: 0.6010\n",
            "Epoch 120/150\n",
            "151/151 [==============================] - 41s 270ms/step - loss: 0.2323 - accuracy: 0.9024 - precision: 0.8053 - recall: 0.6960 - auc: 0.9443 - prc: 0.8438 - val_loss: 0.2731 - val_accuracy: 0.8965 - val_precision: 0.8135 - val_recall: 0.6350 - val_auc: 0.9223 - val_prc: 0.8013\n",
            "Epoch 121/150\n",
            "151/151 [==============================] - 41s 274ms/step - loss: 0.2290 - accuracy: 0.9050 - precision: 0.8061 - recall: 0.7115 - auc: 0.9463 - prc: 0.8464 - val_loss: 0.3761 - val_accuracy: 0.8580 - val_precision: 0.6778 - val_recall: 0.5707 - val_auc: 0.8606 - val_prc: 0.6784\n",
            "Epoch 122/150\n",
            "151/151 [==============================] - 41s 269ms/step - loss: 0.2261 - accuracy: 0.9063 - precision: 0.8126 - recall: 0.7107 - auc: 0.9475 - prc: 0.8515 - val_loss: 0.4219 - val_accuracy: 0.8391 - val_precision: 0.6174 - val_recall: 0.5427 - val_auc: 0.8508 - val_prc: 0.6372\n",
            "Epoch 123/150\n",
            "151/151 [==============================] - 41s 268ms/step - loss: 0.2198 - accuracy: 0.9104 - precision: 0.8230 - recall: 0.7219 - auc: 0.9502 - prc: 0.8594 - val_loss: 0.6407 - val_accuracy: 0.7959 - val_precision: 0.4958 - val_recall: 0.4074 - val_auc: 0.7707 - val_prc: 0.4825\n",
            "Epoch 124/150\n",
            "151/151 [==============================] - 42s 276ms/step - loss: 0.2253 - accuracy: 0.9060 - precision: 0.8118 - recall: 0.7098 - auc: 0.9483 - prc: 0.8513 - val_loss: 0.3512 - val_accuracy: 0.8677 - val_precision: 0.7264 - val_recall: 0.5571 - val_auc: 0.8816 - val_prc: 0.7098\n",
            "Epoch 125/150\n",
            "151/151 [==============================] - 40s 267ms/step - loss: 0.2267 - accuracy: 0.9047 - precision: 0.8059 - recall: 0.7095 - auc: 0.9468 - prc: 0.8518 - val_loss: 0.5813 - val_accuracy: 0.8375 - val_precision: 0.6171 - val_recall: 0.5222 - val_auc: 0.8072 - val_prc: 0.6118\n",
            "Epoch 126/150\n",
            "151/151 [==============================] - 41s 269ms/step - loss: 0.2218 - accuracy: 0.9097 - precision: 0.8207 - recall: 0.7202 - auc: 0.9488 - prc: 0.8565 - val_loss: 0.4572 - val_accuracy: 0.8499 - val_precision: 0.6453 - val_recall: 0.5769 - val_auc: 0.8544 - val_prc: 0.6419\n",
            "Epoch 127/150\n",
            "151/151 [==============================] - 41s 267ms/step - loss: 0.2190 - accuracy: 0.9092 - precision: 0.8194 - recall: 0.7190 - auc: 0.9508 - prc: 0.8602 - val_loss: 0.3251 - val_accuracy: 0.8800 - val_precision: 0.7598 - val_recall: 0.5967 - val_auc: 0.8960 - val_prc: 0.7442\n",
            "Epoch 128/150\n",
            "151/151 [==============================] - 41s 270ms/step - loss: 0.2193 - accuracy: 0.9092 - precision: 0.8194 - recall: 0.7190 - auc: 0.9511 - prc: 0.8580 - val_loss: 0.3760 - val_accuracy: 0.8628 - val_precision: 0.7156 - val_recall: 0.5366 - val_auc: 0.8812 - val_prc: 0.6936\n",
            "Epoch 129/150\n",
            "151/151 [==============================] - 41s 271ms/step - loss: 0.2196 - accuracy: 0.9095 - precision: 0.8182 - recall: 0.7225 - auc: 0.9498 - prc: 0.8613 - val_loss: 0.3136 - val_accuracy: 0.8847 - val_precision: 0.7451 - val_recall: 0.6555 - val_auc: 0.9086 - val_prc: 0.7617\n",
            "Epoch 130/150\n",
            "151/151 [==============================] - 41s 272ms/step - loss: 0.2209 - accuracy: 0.9095 - precision: 0.8197 - recall: 0.7204 - auc: 0.9500 - prc: 0.8571 - val_loss: 0.2924 - val_accuracy: 0.8850 - val_precision: 0.7433 - val_recall: 0.6610 - val_auc: 0.9102 - val_prc: 0.7689\n",
            "Epoch 131/150\n",
            "151/151 [==============================] - 42s 275ms/step - loss: 0.2170 - accuracy: 0.9096 - precision: 0.8167 - recall: 0.7253 - auc: 0.9517 - prc: 0.8628 - val_loss: 0.3380 - val_accuracy: 0.8788 - val_precision: 0.7492 - val_recall: 0.6042 - val_auc: 0.8913 - val_prc: 0.7388\n",
            "Epoch 132/150\n",
            "151/151 [==============================] - 44s 290ms/step - loss: 0.2166 - accuracy: 0.9102 - precision: 0.8173 - recall: 0.7282 - auc: 0.9514 - prc: 0.8636 - val_loss: 0.3217 - val_accuracy: 0.8761 - val_precision: 0.7515 - val_recall: 0.5810 - val_auc: 0.9036 - val_prc: 0.7513\n",
            "Epoch 133/150\n",
            "151/151 [==============================] - 42s 276ms/step - loss: 0.2226 - accuracy: 0.9059 - precision: 0.8065 - recall: 0.7167 - auc: 0.9486 - prc: 0.8573 - val_loss: 0.3751 - val_accuracy: 0.8628 - val_precision: 0.7051 - val_recall: 0.5557 - val_auc: 0.8733 - val_prc: 0.6742\n",
            "Epoch 134/150\n",
            "151/151 [==============================] - 43s 282ms/step - loss: 0.2192 - accuracy: 0.9089 - precision: 0.8189 - recall: 0.7179 - auc: 0.9502 - prc: 0.8613 - val_loss: 0.3242 - val_accuracy: 0.8814 - val_precision: 0.7214 - val_recall: 0.6760 - val_auc: 0.9084 - val_prc: 0.7591\n",
            "Epoch 135/150\n",
            "151/151 [==============================] - 43s 282ms/step - loss: 0.2159 - accuracy: 0.9094 - precision: 0.8167 - recall: 0.7242 - auc: 0.9527 - prc: 0.8627 - val_loss: 0.3473 - val_accuracy: 0.8642 - val_precision: 0.7255 - val_recall: 0.5311 - val_auc: 0.8835 - val_prc: 0.7122\n",
            "Epoch 136/150\n",
            "151/151 [==============================] - 43s 282ms/step - loss: 0.2059 - accuracy: 0.9163 - precision: 0.8338 - recall: 0.7432 - auc: 0.9564 - prc: 0.8758 - val_loss: 0.3003 - val_accuracy: 0.8832 - val_precision: 0.7399 - val_recall: 0.6535 - val_auc: 0.9129 - val_prc: 0.7707\n",
            "Epoch 137/150\n",
            "151/151 [==============================] - 43s 283ms/step - loss: 0.2103 - accuracy: 0.9129 - precision: 0.8204 - recall: 0.7409 - auc: 0.9551 - prc: 0.8693 - val_loss: 0.2746 - val_accuracy: 0.8916 - val_precision: 0.7671 - val_recall: 0.6685 - val_auc: 0.9225 - val_prc: 0.7906\n",
            "Epoch 138/150\n",
            "151/151 [==============================] - 43s 282ms/step - loss: 0.2046 - accuracy: 0.9176 - precision: 0.8373 - recall: 0.7460 - auc: 0.9577 - prc: 0.8749 - val_loss: 0.3799 - val_accuracy: 0.8758 - val_precision: 0.7133 - val_recall: 0.6480 - val_auc: 0.8960 - val_prc: 0.7367\n",
            "Epoch 139/150\n",
            "151/151 [==============================] - 43s 281ms/step - loss: 0.2097 - accuracy: 0.9116 - precision: 0.8219 - recall: 0.7302 - auc: 0.9556 - prc: 0.8711 - val_loss: 0.4150 - val_accuracy: 0.8591 - val_precision: 0.6798 - val_recall: 0.5762 - val_auc: 0.8582 - val_prc: 0.6800\n",
            "Epoch 140/150\n",
            "151/151 [==============================] - 44s 292ms/step - loss: 0.2089 - accuracy: 0.9148 - precision: 0.8223 - recall: 0.7495 - auc: 0.9552 - prc: 0.8719 - val_loss: 0.3521 - val_accuracy: 0.8670 - val_precision: 0.6945 - val_recall: 0.6138 - val_auc: 0.8909 - val_prc: 0.7198\n",
            "Epoch 141/150\n",
            "151/151 [==============================] - 43s 282ms/step - loss: 0.2045 - accuracy: 0.9156 - precision: 0.8302 - recall: 0.7437 - auc: 0.9574 - prc: 0.8774 - val_loss: 0.3077 - val_accuracy: 0.8876 - val_precision: 0.7512 - val_recall: 0.6664 - val_auc: 0.9121 - val_prc: 0.7720\n",
            "Epoch 142/150\n",
            "151/151 [==============================] - 43s 282ms/step - loss: 0.2036 - accuracy: 0.9145 - precision: 0.8293 - recall: 0.7380 - auc: 0.9574 - prc: 0.8795 - val_loss: 0.2686 - val_accuracy: 0.8970 - val_precision: 0.7736 - val_recall: 0.6958 - val_auc: 0.9274 - val_prc: 0.8083\n",
            "Epoch 143/150\n",
            "151/151 [==============================] - 43s 284ms/step - loss: 0.1981 - accuracy: 0.9173 - precision: 0.8296 - recall: 0.7550 - auc: 0.9602 - prc: 0.8839 - val_loss: 0.3336 - val_accuracy: 0.8778 - val_precision: 0.7653 - val_recall: 0.5728 - val_auc: 0.8988 - val_prc: 0.7437\n",
            "Epoch 144/150\n",
            "151/151 [==============================] - 43s 286ms/step - loss: 0.2015 - accuracy: 0.9154 - precision: 0.8241 - recall: 0.7506 - auc: 0.9586 - prc: 0.8798 - val_loss: 0.3488 - val_accuracy: 0.8788 - val_precision: 0.7398 - val_recall: 0.6200 - val_auc: 0.8959 - val_prc: 0.7445\n",
            "Epoch 145/150\n",
            "151/151 [==============================] - 43s 285ms/step - loss: 0.2023 - accuracy: 0.9163 - precision: 0.8327 - recall: 0.7443 - auc: 0.9582 - prc: 0.8791 - val_loss: 0.4004 - val_accuracy: 0.8509 - val_precision: 0.6552 - val_recall: 0.5584 - val_auc: 0.8755 - val_prc: 0.6641\n",
            "Epoch 146/150\n",
            "151/151 [==============================] - 43s 285ms/step - loss: 0.1966 - accuracy: 0.9199 - precision: 0.8387 - recall: 0.7581 - auc: 0.9601 - prc: 0.8883 - val_loss: 0.9950 - val_accuracy: 0.7923 - val_precision: 0.4842 - val_recall: 0.3780 - val_auc: 0.7217 - val_prc: 0.4015\n",
            "Epoch 147/150\n",
            "151/151 [==============================] - 43s 284ms/step - loss: 0.1994 - accuracy: 0.9177 - precision: 0.8319 - recall: 0.7541 - auc: 0.9595 - prc: 0.8828 - val_loss: 0.3896 - val_accuracy: 0.8614 - val_precision: 0.6918 - val_recall: 0.5707 - val_auc: 0.8789 - val_prc: 0.6929\n",
            "Epoch 148/150\n",
            "151/151 [==============================] - 44s 294ms/step - loss: 0.2073 - accuracy: 0.9165 - precision: 0.8338 - recall: 0.7443 - auc: 0.9561 - prc: 0.8731 - val_loss: 0.4812 - val_accuracy: 0.8415 - val_precision: 0.6168 - val_recall: 0.5755 - val_auc: 0.8456 - val_prc: 0.6143\n",
            "Epoch 149/150\n",
            "151/151 [==============================] - 43s 282ms/step - loss: 0.1999 - accuracy: 0.9197 - precision: 0.8366 - recall: 0.7599 - auc: 0.9596 - prc: 0.8809 - val_loss: 0.3610 - val_accuracy: 0.8664 - val_precision: 0.6724 - val_recall: 0.6651 - val_auc: 0.8941 - val_prc: 0.7368\n",
            "Epoch 150/150\n",
            "151/151 [==============================] - 43s 283ms/step - loss: 0.2058 - accuracy: 0.9163 - precision: 0.8306 - recall: 0.7475 - auc: 0.9573 - prc: 0.8742 - val_loss: 0.3503 - val_accuracy: 0.8706 - val_precision: 0.6786 - val_recall: 0.6869 - val_auc: 0.8948 - val_prc: 0.7469\n",
            "INFO:tensorflow:Assets written to: /content/drive/MyDrive/EyeDiseaseDetection/Model_One_B_expnum_7/assets\n",
            "Training time for Model Model_One_B for 150 epochs: 6597.823482014\n"
          ]
        }
      ]
    },
    {
      "cell_type": "code",
      "source": [
        "#Print the loss history & save the plot\n",
        "print_loss_history(m_history, modelname, expno)"
      ],
      "metadata": {
        "id": "lMyxykEMBFt1",
        "colab": {
          "base_uri": "https://localhost:8080/",
          "height": 295
        },
        "outputId": "629b38f4-239b-4296-a78a-15f097c757a9"
      },
      "execution_count": null,
      "outputs": [
        {
          "output_type": "display_data",
          "data": {
            "image/png": "[encoded data removed]",
            "text/plain": [
              "<Figure size 432x288 with 1 Axes>"
            ]
          },
          "metadata": {
            "needs_background": "light"
          }
        }
      ]
    },
    {
      "cell_type": "code",
      "source": [
        "#Print the macro-stats & save the plots\n",
        "mets = ['accuracy', 'precision', 'recall', 'auc', 'prc']\n",
        "print_training_history(m_history, mets, modelname, expno)"
      ],
      "metadata": {
        "id": "Rsck6d1YBMNf",
        "colab": {
          "base_uri": "https://localhost:8080/",
          "height": 1000
        },
        "outputId": "fe9654bc-6ed1-4aa4-a96a-d2c951deb88e"
      },
      "execution_count": null,
      "outputs": [
        {
          "output_type": "display_data",
          "data": {
            "image/png": "[encoded data removed]",
            "text/plain": [
              "<Figure size 432x288 with 1 Axes>"
            ]
          },
          "metadata": {
            "needs_background": "light"
          }
        },
        {
          "output_type": "display_data",
          "data": {
            "image/png": "[encoded data removed]",
            "text/plain": [
              "<Figure size 432x288 with 1 Axes>"
            ]
          },
          "metadata": {
            "needs_background": "light"
          }
        },
        {
          "output_type": "display_data",
          "data": {
            "image/png": "[encoded data removed]",
            "text/plain": [
              "<Figure size 432x288 with 1 Axes>"
            ]
          },
          "metadata": {
            "needs_background": "light"
          }
        },
        {
          "output_type": "display_data",
          "data": {
            "image/png": "[encoded data removed]",
            "text/plain": [
              "<Figure size 432x288 with 1 Axes>"
            ]
          },
          "metadata": {
            "needs_background": "light"
          }
        },
        {
          "output_type": "display_data",
          "data": {
            "image/png": "[encoded data removed]",
            "text/plain": [
              "<Figure size 432x288 with 1 Axes>"
            ]
          },
          "metadata": {
            "needs_background": "light"
          }
        }
      ]
    },
    {
      "cell_type": "markdown",
      "metadata": {
        "id": "dNpyB0-84mMx"
      },
      "source": [
        "#Metric Time!!\n",
        "For this project, there are seven labels which may be applied to any given image, with the only constraint being that the last one (index 6 indicating 'Normal') cannot be set to one if any others are also set to one. The standard metrics are Accuracy, Precision, Recall, and F1 Score, each of which has it's strengths and weaknesses.  \n",
        "TP: True Positive \n",
        "TN: True Negative\n",
        "FP: False Positive\n",
        "FN: False Negative\n",
        "#Accuracy = (TP + TN)/(TP + TN + FP + FN)\n",
        "#Precision = TP/(TP + FP)\n",
        "#Recall = TP/(TP + FN)\n",
        "#F1 = (2PR)/(P + R)\n",
        "Generally, for a medical test looking for a disease-state (indices 0 - 5 inclusive in this case), False Negatives are considered to be much worse than False Positives, because a person is being given a clean bill of health when in reality they have the disease condition, as such they are unlikely to get appropriate treatment as quickly.  Therefore *Recall* is generally more important than Accuracy or Precision for tests looking for a disease-state.  \n",
        "In contrast, index 6 corresponds to a test for a healthy-state, so the roles are reversed: a False Positive means \"clean bill of health when actually ill\" and False Negative means \"told one is ill when one is actually fine\", therefore Precision is the more important metric.\n",
        "Choosing an appropriate metric is complicated by the fact that there are six distinct disease states and only one healthy state, so a simple addition of the disease-state Recalls and the healthy-state Precision potentially ignores the case where a person has a disease but the algorithm isn't sure which.  This can be somewhat ameliorated by weighting Precision for healthy-state higher than the Recalls for the disease states, which is the approach taken here.  To really do this properly, one should consult with opthamologists to devise a single overall metric to judge by."
      ]
    },
    {
      "cell_type": "markdown",
      "source": [
        "## Macro Metrics\n",
        "We can get the macro-metrics directly from the Keras training history.  These are calculated using all seven states collectively, which means they aren't super useful beyond a simple \"bigger is better\" scheme."
      ],
      "metadata": {
        "id": "OYhvIEvsaDx8"
      }
    },
    {
      "cell_type": "code",
      "source": [
        "# Load in a trained model if not doing a specific training run\n",
        "modelname = 'Model_Three'\n",
        "expno = 6\n",
        "\n",
        "model = tf.keras.models.load_model(f'{modelname}_expnum_{expno}')"
      ],
      "metadata": {
        "id": "pGbS60KwNCq4"
      },
      "execution_count": null,
      "outputs": []
    },
    {
      "cell_type": "markdown",
      "source": [
        "## Micro Metrics\n",
        "This is what we are actually concerned with, the ability of the model to effectively classify each individual ailment or to declare the patient ailment-free."
      ],
      "metadata": {
        "id": "VOIUkWS0ad7p"
      }
    },
    {
      "cell_type": "code",
      "metadata": {
        "id": "84puemoO4HVf"
      },
      "source": [
        "#Create the multi-label confusion matrix\n",
        "M_predictions = model.predict(X_val)\n",
        "M_predictions_hard = np.round_(M_predictions)\n",
        "\n",
        "M_MLCM = MLCM(y_val, M_predictions_hard)"
      ],
      "execution_count": null,
      "outputs": []
    },
    {
      "cell_type": "code",
      "source": [
        "#Arguably the most important metric: how many inconsistencies?\n",
        "inconsistencies = [idx for idx,pred in enumerate(M_predictions_hard) if sum(pred) > 1 and pred[-1] == 1]\n",
        "print(f'Number of Inconsistencies: {len(inconsistencies)}')\n",
        "print(f'Fraction of Inconsistencies: {len(inconsistencies)/len(M_predictions_hard)}')"
      ],
      "metadata": {
        "colab": {
          "base_uri": "https://localhost:8080/"
        },
        "id": "cq5TF5s2-4EN",
        "outputId": "12db0a11-adc1-445f-b1a7-1746acac8d13"
      },
      "execution_count": null,
      "outputs": [
        {
          "output_type": "stream",
          "name": "stdout",
          "text": [
            "Number of Inconsistencies: 1\n",
            "Fraction of Inconsistencies: 0.0009699321047526673\n"
          ]
        }
      ]
    },
    {
      "cell_type": "markdown",
      "metadata": {
        "id": "kwybV0N09cqe"
      },
      "source": [
        "We will now compute all of the usual metrics for each disease-state and the healthy-state."
      ]
    },
    {
      "cell_type": "code",
      "source": [
        "overall_accuracies, overall_precisions, overall_recalls, overall_f1s = substats(index_map, M_MLCM)"
      ],
      "metadata": {
        "id": "kI8VlTvVJkX0",
        "colab": {
          "base_uri": "https://localhost:8080/"
        },
        "outputId": "6a2c1949-84c4-4711-95c2-c1feb290d85c"
      },
      "execution_count": null,
      "outputs": [
        {
          "output_type": "stream",
          "name": "stdout",
          "text": [
            "|--------------------Opacity----------------------|\n",
            "Accuracy: 0.7837051406401552\n",
            "Precision: 0.7240740740740741\n",
            "Recall: 0.8408602150537634\n",
            "F1 score: 0.7781094527363184\n",
            "|--------------------Diabetic Retinopathy----------------------|\n",
            "Accuracy: 0.8118331716779825\n",
            "Precision: 0.5620915032679739\n",
            "Recall: 0.7413793103448276\n",
            "F1 score: 0.6394052044609666\n",
            "|--------------------Glaucoma----------------------|\n",
            "Accuracy: 0.903976721629486\n",
            "Precision: 0.8225806451612904\n",
            "Recall: 0.5698324022346368\n",
            "F1 score: 0.6732673267326733\n",
            "|--------------------Macular Edema----------------------|\n",
            "Accuracy: 0.8525703200775946\n",
            "Precision: 0.4391891891891892\n",
            "Recall: 0.48507462686567165\n",
            "F1 score: 0.4609929078014185\n",
            "|--------------------Macular Degeneration----------------------|\n",
            "Accuracy: 0.8709990300678953\n",
            "Precision: 0.6176470588235294\n",
            "Recall: 0.6961325966850829\n",
            "F1 score: 0.6545454545454545\n",
            "|--------------------Retinal Vascular Occlusion----------------------|\n",
            "Accuracy: 0.9136760426770126\n",
            "Precision: 0.8648648648648649\n",
            "Recall: 0.27586206896551724\n",
            "F1 score: 0.4183006535947712\n",
            "|--------------------Normal----------------------|\n",
            "Accuracy: 0.9573229873908826\n",
            "Precision: 0.9590163934426229\n",
            "Recall: 0.75\n",
            "F1 score: 0.8417266187050358\n"
          ]
        }
      ]
    },
    {
      "cell_type": "code",
      "source": [
        "plot_stats(f'{modelname} Overall', overall_accuracies, overall_precisions, overall_recalls, overall_f1s)"
      ],
      "metadata": {
        "id": "8aP_Wx5cK1dN",
        "colab": {
          "base_uri": "https://localhost:8080/",
          "height": 297
        },
        "outputId": "5cc670f9-3a01-4cc4-d233-8183668a6d40"
      },
      "execution_count": null,
      "outputs": [
        {
          "output_type": "display_data",
          "data": {
            "image/png": "[encoded data removed]",
            "text/plain": [
              "<Figure size 432x288 with 1 Axes>"
            ]
          },
          "metadata": {
            "needs_background": "light"
          }
        }
      ]
    },
    {
      "cell_type": "code",
      "metadata": {
        "id": "WpKJz13t9qMd",
        "colab": {
          "base_uri": "https://localhost:8080/"
        },
        "outputId": "d76faf01-5282-41d9-cc52-3b7332065aca"
      },
      "source": [
        "#This cell is ALMOST redundant, need to figure out how we want to handle putting the metrics into the JSON file\n",
        "\n",
        "#Recall the index ordering: 0 - Opacity, 1 - Diabetic Retinopathy, 2 - Glaucoma, 3 - Macular Edema,\n",
        "# 4 - Macular Degeneration,  5 - Retinal Vascular Occlusion, 6 - Normal\n",
        "\n",
        "overall_score = 0 #A perfect score, indicating perfect Recall on all disease states and perfect Precision for the healthy state, would be 12\n",
        "metrics = {}\n",
        "\n",
        "for i, cm in enumerate(M_MLCM):\n",
        "    if i < 6:\n",
        "        overall_score += recall_from_CM(cm)\n",
        "    else:\n",
        "        overall_score += 6 * precision_from_CM(cm)\n",
        "    print('|---------------- %s -------------------|' % index_map[i])\n",
        "    acc = accuracy_from_CM(cm)\n",
        "    prec = precision_from_CM(cm)\n",
        "    recall = recall_from_CM(cm)\n",
        "    F1 = F1_from_CM(cm)\n",
        "    submet = {}\n",
        "    submet['Accuracy'] = acc\n",
        "    submet['Precision'] = prec\n",
        "    submet['Recall'] = recall\n",
        "    submet['F1_score'] = F1\n",
        "    metrics[index_map[i]] = submet\n",
        "    print(f'Accuracy: {acc}')\n",
        "    print(f'Precision: {prec}')\n",
        "    print(f'Recall: {recall}')\n",
        "    print(f'F1 Score: {F1}')\n",
        "\n",
        "print('+++++++++++++++++++++++++++++++++++++')\n",
        "print('Overall score: ', overall_score)"
      ],
      "execution_count": null,
      "outputs": [
        {
          "output_type": "stream",
          "name": "stdout",
          "text": [
            "|---------------- Opacity -------------------|\n",
            "Accuracy: 0.7837051406401552\n",
            "Precision: 0.7240740740740741\n",
            "Recall: 0.8408602150537634\n",
            "F1 Score: 0.7781094527363184\n",
            "|---------------- Diabetic Retinopathy -------------------|\n",
            "Accuracy: 0.8118331716779825\n",
            "Precision: 0.5620915032679739\n",
            "Recall: 0.7413793103448276\n",
            "F1 Score: 0.6394052044609666\n",
            "|---------------- Glaucoma -------------------|\n",
            "Accuracy: 0.903976721629486\n",
            "Precision: 0.8225806451612904\n",
            "Recall: 0.5698324022346368\n",
            "F1 Score: 0.6732673267326733\n",
            "|---------------- Macular Edema -------------------|\n",
            "Accuracy: 0.8525703200775946\n",
            "Precision: 0.4391891891891892\n",
            "Recall: 0.48507462686567165\n",
            "F1 Score: 0.4609929078014185\n",
            "|---------------- Macular Degeneration -------------------|\n",
            "Accuracy: 0.8709990300678953\n",
            "Precision: 0.6176470588235294\n",
            "Recall: 0.6961325966850829\n",
            "F1 Score: 0.6545454545454545\n",
            "|---------------- Retinal Vascular Occlusion -------------------|\n",
            "Accuracy: 0.9136760426770126\n",
            "Precision: 0.8648648648648649\n",
            "Recall: 0.27586206896551724\n",
            "F1 Score: 0.4183006535947712\n",
            "|---------------- Normal -------------------|\n",
            "Accuracy: 0.9573229873908826\n",
            "Precision: 0.9590163934426229\n",
            "Recall: 0.75\n",
            "F1 Score: 0.8417266187050358\n",
            "+++++++++++++++++++++++++++++++++++++\n",
            "Overall score:  9.363239580805237\n"
          ]
        }
      ]
    },
    {
      "cell_type": "code",
      "source": [
        "#Summary data, goes in JSON file for experiment tracking\n",
        "expdata = {'Exp. No. ': expno, 'Model Name': modelname, 'Model Location': savelocation,'Hyperparameters': hypers, \n",
        "           'Training Time': delta_time, 'Metrics': metrics}\n",
        "write_json(expdata)"
      ],
      "metadata": {
        "colab": {
          "base_uri": "https://localhost:8080/"
        },
        "id": "mZVbCjeFWCWv",
        "outputId": "5d4caad0-576b-4fb6-a454-5fc7fe8a2c3f"
      },
      "execution_count": null,
      "outputs": [
        {
          "output_type": "stream",
          "name": "stdout",
          "text": [
            "updating JSON file\n"
          ]
        }
      ]
    },
    {
      "cell_type": "code",
      "source": [
        "#EXPERIMENTAL CELL, NOT FULLY OPERATIONAL\n",
        "#Summary data, goes in JSON file for experiment tracking\n",
        "\n",
        "#In reality the continue_experiment line would be much earlier, this is just showing where things come from\n",
        "old_epochs, old_time, hypers, saveloc = continue_experiment(modelname, expno)\n",
        "#Run experiment here for EPOCHS training epochs, which will take delta_time wall-clock time\n",
        "total_time = old_time + delta_time\n",
        "total_epochs = old_epochs + EPOCHS\n",
        "expdata = {'Model Location': savelocation, 'Hyperparameters': hypers, 'Epochs': total_epochs, 'Training Time': total_time,\n",
        "           'loss_function': loss_name, 'Metrics': metrics}\n",
        "record_experiment(modelname, expno, expdata)"
      ],
      "metadata": {
        "id": "YRxuT0YkOu0k"
      },
      "execution_count": null,
      "outputs": []
    },
    {
      "cell_type": "code",
      "source": [
        "#Stratified Metrics: How well does the model work on specific subsets of the validation set?\n",
        "single_idxs = [idx for idx, p in enumerate(y_val) if sum(p) == 1] #Healthy or single ailment\n",
        "double_idxs = [idx for idx, p in enumerate(y_val) if sum(p) == 2] #Two ailments\n",
        "triple_idxs = [idx for idx, p in enumerate(y_val) if sum(p) == 3] #Three ailments\n",
        "quad_idxs   = [idx for idx, p in enumerate(y_val) if sum(p) == 4] #Four ailments\n",
        "\n",
        "print(f'Number of Singles in Val set: {len(single_idxs)}')\n",
        "print(f'Number of Doubles in Val set: {len(double_idxs)}')\n",
        "print(f'Number of Triples in Val set: {len(triple_idxs)}')\n",
        "print(f'Number of Quads in Val set: {len(quad_idxs)}')\n",
        "\n",
        "X_singles = np.array([X_val[idx] for idx in single_idxs])\n",
        "y_singles = np.array([y_val[idx] for idx in single_idxs])\n",
        "X_doubles = np.array([X_val[idx] for idx in double_idxs])\n",
        "y_doubles = np.array([y_val[idx] for idx in double_idxs])\n",
        "X_triples = np.array([X_val[idx] for idx in triple_idxs])\n",
        "y_triples = np.array([y_val[idx] for idx in triple_idxs])\n",
        "X_quads   = np.array([X_val[idx] for idx in quad_idxs])\n",
        "y_quads   = np.array([y_val[idx] for idx in quad_idxs])\n",
        "\n",
        "print(f'Shape of X_singles: {X_singles.shape}')"
      ],
      "metadata": {
        "colab": {
          "base_uri": "https://localhost:8080/"
        },
        "id": "437y2eDTKeC2",
        "outputId": "33e59003-e497-4771-b029-44bd32b7dc61"
      },
      "execution_count": null,
      "outputs": [
        {
          "output_type": "stream",
          "name": "stdout",
          "text": [
            "Number of Singles in Val set: 679\n",
            "Number of Doubles in Val set: 277\n",
            "Number of Triples in Val set: 70\n",
            "Number of Quads in Val set: 5\n",
            "Shape of X_singles: (679, 224, 224, 3)\n"
          ]
        }
      ]
    },
    {
      "cell_type": "code",
      "source": [
        "M_pred_singles = np.round_(model.predict(X_singles))\n",
        "M_MLCM_singles = MLCM(y_singles, M_pred_singles)"
      ],
      "metadata": {
        "id": "lskOuB6EPblE"
      },
      "execution_count": null,
      "outputs": []
    },
    {
      "cell_type": "code",
      "source": [
        "single_accuracies, single_precisions, single_recalls, single_f1s = substats(index_map, M_MLCM_singles)"
      ],
      "metadata": {
        "id": "4aGjDMNsbW39",
        "colab": {
          "base_uri": "https://localhost:8080/"
        },
        "outputId": "0f3baea8-6173-4221-c2cb-9edab6fbbe57"
      },
      "execution_count": null,
      "outputs": [
        {
          "output_type": "stream",
          "name": "stdout",
          "text": [
            "|--------------------Opacity----------------------|\n",
            "Accuracy: 0.8026509572901326\n",
            "Precision: 0.6166134185303515\n",
            "Recall: 0.9323671497584541\n",
            "F1 score: 0.7423076923076923\n",
            "|--------------------Diabetic Retinopathy----------------------|\n",
            "Accuracy: 0.8232695139911634\n",
            "Precision: 0.3178294573643411\n",
            "Recall: 0.5616438356164384\n",
            "F1 score: 0.4059405940594059\n",
            "|--------------------Glaucoma----------------------|\n",
            "Accuracy: 0.9189985272459499\n",
            "Precision: 0.782051282051282\n",
            "Recall: 0.6161616161616161\n",
            "F1 score: 0.6892655367231638\n",
            "|--------------------Macular Edema----------------------|\n",
            "Accuracy: 0.9263622974963182\n",
            "Precision: 0.06382978723404255\n",
            "Recall: 0.3333333333333333\n",
            "F1 score: 0.10714285714285714\n",
            "|--------------------Macular Degeneration----------------------|\n",
            "Accuracy: 0.8954344624447718\n",
            "Precision: 0.5748031496062992\n",
            "Recall: 0.8111111111111111\n",
            "F1 score: 0.6728110599078341\n",
            "|--------------------Retinal Vascular Occlusion----------------------|\n",
            "Accuracy: 0.9499263622974963\n",
            "Precision: 0.7894736842105263\n",
            "Recall: 0.3333333333333333\n",
            "F1 score: 0.46875\n",
            "|--------------------Normal----------------------|\n",
            "Accuracy: 0.9381443298969072\n",
            "Precision: 0.975\n",
            "Recall: 0.75\n",
            "F1 score: 0.8478260869565216\n"
          ]
        }
      ]
    },
    {
      "cell_type": "code",
      "source": [
        "plot_stats(f'{modelname} Single', single_accuracies, single_precisions, single_recalls, single_f1s)"
      ],
      "metadata": {
        "id": "-HrdJyBrp1ed",
        "colab": {
          "base_uri": "https://localhost:8080/",
          "height": 297
        },
        "outputId": "ae43bc93-f60b-4255-ef61-01eda46a49d2"
      },
      "execution_count": null,
      "outputs": [
        {
          "output_type": "display_data",
          "data": {
            "image/png": "[encoded data removed]",
            "text/plain": [
              "<Figure size 432x288 with 1 Axes>"
            ]
          },
          "metadata": {
            "needs_background": "light"
          }
        }
      ]
    },
    {
      "cell_type": "code",
      "source": [
        "M_pred_doubles = np.round_(model.predict(X_doubles))\n",
        "M_MLCM_doubles = MLCM(y_doubles, M_pred_doubles)"
      ],
      "metadata": {
        "id": "RsTmfvOsUqm2"
      },
      "execution_count": null,
      "outputs": []
    },
    {
      "cell_type": "code",
      "source": [
        "double_accuracies, double_precisions, double_recalls, double_f1s = substats(index_map, M_MLCM_doubles)"
      ],
      "metadata": {
        "id": "bex9bXPqVdS0",
        "colab": {
          "base_uri": "https://localhost:8080/"
        },
        "outputId": "128c9066-7233-4444-e0aa-5ed4977d3cde"
      },
      "execution_count": null,
      "outputs": [
        {
          "output_type": "stream",
          "name": "stdout",
          "text": [
            "|--------------------Opacity----------------------|\n",
            "Accuracy: 0.7545126353790613\n",
            "Precision: 0.8457142857142858\n",
            "Recall: 0.783068783068783\n",
            "F1 score: 0.8131868131868131\n",
            "|--------------------Diabetic Retinopathy----------------------|\n",
            "Accuracy: 0.779783393501805\n",
            "Precision: 0.7016129032258065\n",
            "Recall: 0.7837837837837838\n",
            "F1 score: 0.7404255319148936\n",
            "|--------------------Glaucoma----------------------|\n",
            "Accuracy: 0.8736462093862816\n",
            "Precision: 0.8717948717948718\n",
            "Recall: 0.53125\n",
            "F1 score: 0.6601941747572816\n",
            "|--------------------Macular Edema----------------------|\n",
            "Accuracy: 0.7509025270758123\n",
            "Precision: 0.463768115942029\n",
            "Recall: 0.5\n",
            "F1 score: 0.48120300751879697\n",
            "|--------------------Macular Degeneration----------------------|\n",
            "Accuracy: 0.8303249097472925\n",
            "Precision: 0.7846153846153846\n",
            "Recall: 0.6071428571428571\n",
            "F1 score: 0.6845637583892618\n",
            "|--------------------Retinal Vascular Occlusion----------------------|\n",
            "Accuracy: 0.8916967509025271\n",
            "Precision: 0.9285714285714286\n",
            "Recall: 0.30952380952380953\n",
            "F1 score: 0.46428571428571436\n",
            "|--------------------Normal----------------------|\n",
            "Accuracy: 0.9927797833935018\n",
            "Precision: 0\n",
            "Recall: 0\n",
            "F1 score: 0\n"
          ]
        }
      ]
    },
    {
      "cell_type": "code",
      "source": [
        "plot_stats(f'{modelname} Double', double_accuracies, double_precisions, double_recalls, double_f1s)"
      ],
      "metadata": {
        "id": "ylHjdqjYNr7c",
        "colab": {
          "base_uri": "https://localhost:8080/",
          "height": 297
        },
        "outputId": "2a229500-ca60-4d1c-da4d-24ec51f73b99"
      },
      "execution_count": null,
      "outputs": [
        {
          "output_type": "display_data",
          "data": {
            "image/png": "[encoded data removed]",
            "text/plain": [
              "<Figure size 432x288 with 1 Axes>"
            ]
          },
          "metadata": {
            "needs_background": "light"
          }
        }
      ]
    },
    {
      "cell_type": "code",
      "source": [
        "M_pred_triples = np.round_(model.predict(X_triples))\n",
        "M_MLCM_triples = MLCM(y_triples, M_pred_triples)"
      ],
      "metadata": {
        "id": "j5Cw2zxbWQle"
      },
      "execution_count": null,
      "outputs": []
    },
    {
      "cell_type": "code",
      "source": [
        "triple_accuracies, triple_precisions, triple_recalls, triple_f1s = substats(index_map, M_MLCM_triples)"
      ],
      "metadata": {
        "id": "LJwsRGdRWbyx",
        "colab": {
          "base_uri": "https://localhost:8080/"
        },
        "outputId": "e01db132-a839-4fcb-9cc4-5b619ecdd129"
      },
      "execution_count": null,
      "outputs": [
        {
          "output_type": "stream",
          "name": "stdout",
          "text": [
            "|--------------------Opacity----------------------|\n",
            "Accuracy: 0.7428571428571429\n",
            "Precision: 0.96\n",
            "Recall: 0.75\n",
            "F1 score: 0.8421052631578947\n",
            "|--------------------Diabetic Retinopathy----------------------|\n",
            "Accuracy: 0.8285714285714286\n",
            "Precision: 0.84\n",
            "Recall: 0.9130434782608695\n",
            "F1 score: 0.8749999999999999\n",
            "|--------------------Glaucoma----------------------|\n",
            "Accuracy: 0.9\n",
            "Precision: 1.0\n",
            "Recall: 0.46153846153846156\n",
            "F1 score: 0.631578947368421\n",
            "|--------------------Macular Edema----------------------|\n",
            "Accuracy: 0.5571428571428572\n",
            "Precision: 0.9310344827586207\n",
            "Recall: 0.48214285714285715\n",
            "F1 score: 0.6352941176470589\n",
            "|--------------------Macular Degeneration----------------------|\n",
            "Accuracy: 0.8\n",
            "Precision: 0.18181818181818182\n",
            "Recall: 0.2857142857142857\n",
            "F1 score: 0.2222222222222222\n",
            "|--------------------Retinal Vascular Occlusion----------------------|\n",
            "Accuracy: 0.7142857142857143\n",
            "Precision: 1.0\n",
            "Recall: 0.16666666666666666\n",
            "F1 score: 0.2857142857142857\n",
            "|--------------------Normal----------------------|\n",
            "Accuracy: 1.0\n",
            "Precision: 0\n",
            "Recall: 0\n",
            "F1 score: 0\n"
          ]
        }
      ]
    },
    {
      "cell_type": "code",
      "source": [
        "plot_stats(f'{modelname} Triple', triple_accuracies, triple_precisions, triple_recalls, triple_f1s)"
      ],
      "metadata": {
        "id": "QS4D1U6bN0U5",
        "colab": {
          "base_uri": "https://localhost:8080/",
          "height": 297
        },
        "outputId": "b033723e-ce88-41f0-c339-6552f05219cd"
      },
      "execution_count": null,
      "outputs": [
        {
          "output_type": "display_data",
          "data": {
            "image/png": "[encoded data removed]",
            "text/plain": [
              "<Figure size 432x288 with 1 Axes>"
            ]
          },
          "metadata": {
            "needs_background": "light"
          }
        }
      ]
    },
    {
      "cell_type": "code",
      "source": [
        "M_pred_quads = np.round_(model.predict(X_quads))\n",
        "M_MLCM_quads = MLCM(y_quads, M_pred_quads)"
      ],
      "metadata": {
        "id": "5PZBXf07WfzR"
      },
      "execution_count": null,
      "outputs": []
    },
    {
      "cell_type": "code",
      "source": [
        "quad_accuracies, quad_precisions, quad_recalls, quad_f1s = substats(index_map, M_MLCM_quads)"
      ],
      "metadata": {
        "id": "X6Qleu0LWoaj",
        "colab": {
          "base_uri": "https://localhost:8080/"
        },
        "outputId": "03503e5d-413b-48a5-8d32-ef803a9a20a7"
      },
      "execution_count": null,
      "outputs": [
        {
          "output_type": "stream",
          "name": "stdout",
          "text": [
            "|--------------------Opacity----------------------|\n",
            "Accuracy: 0.4\n",
            "Precision: 1.0\n",
            "Recall: 0.4\n",
            "F1 score: 0.5714285714285715\n",
            "|--------------------Diabetic Retinopathy----------------------|\n",
            "Accuracy: 0.8\n",
            "Precision: 0.6666666666666666\n",
            "Recall: 1.0\n",
            "F1 score: 0.8\n",
            "|--------------------Glaucoma----------------------|\n",
            "Accuracy: 0.6\n",
            "Precision: 1.0\n",
            "Recall: 0.3333333333333333\n",
            "F1 score: 0.5\n",
            "|--------------------Macular Edema----------------------|\n",
            "Accuracy: 0.6\n",
            "Precision: 1.0\n",
            "Recall: 0.6\n",
            "F1 score: 0.7499999999999999\n",
            "|--------------------Macular Degeneration----------------------|\n",
            "Accuracy: 0.8\n",
            "Precision: 0\n",
            "Recall: 0\n",
            "F1 score: 0\n",
            "|--------------------Retinal Vascular Occlusion----------------------|\n",
            "Accuracy: 0\n",
            "Precision: 0\n",
            "Recall: 0\n",
            "F1 score: 0\n",
            "|--------------------Normal----------------------|\n",
            "Accuracy: 1.0\n",
            "Precision: 0\n",
            "Recall: 0\n",
            "F1 score: 0\n"
          ]
        }
      ]
    },
    {
      "cell_type": "code",
      "source": [
        "plot_stats(f'{modelname} Quad', quad_accuracies, quad_precisions, quad_recalls, quad_f1s)"
      ],
      "metadata": {
        "id": "GEQNvqTUN9Hy",
        "colab": {
          "base_uri": "https://localhost:8080/",
          "height": 297
        },
        "outputId": "7ecc425e-96d2-4be4-8186-72abbfc08420"
      },
      "execution_count": null,
      "outputs": [
        {
          "output_type": "display_data",
          "data": {
            "image/png": "[encoded data removed]",
            "text/plain": [
              "<Figure size 432x288 with 1 Axes>"
            ]
          },
          "metadata": {
            "needs_background": "light"
          }
        }
      ]
    },
    {
      "cell_type": "markdown",
      "source": [
        "## Barrier Cell"
      ],
      "metadata": {
        "id": "2jnotEBeS_P3"
      }
    },
    {
      "cell_type": "code",
      "source": [
        "#Use this to get the name of the last residual layer for the heatmap step later\n",
        "model.summary()"
      ],
      "metadata": {
        "id": "gHSyl-YFh23B"
      },
      "execution_count": null,
      "outputs": []
    },
    {
      "cell_type": "markdown",
      "source": [
        "## Explainability\n",
        "A major criticism of deep learning systems is that they often act as a black box, churning out answers without any apparent rhyme or reason, which can be quite dangerous if the model is not perfect. \n",
        "\n",
        "One way to get under the hood of a visual DL model is to look at the  activations of each layer on known inputs."
      ],
      "metadata": {
        "id": "OPlsss_buQsU"
      }
    },
    {
      "cell_type": "code",
      "source": [
        "# Use a list comprehension to extract the output of each layer in the model\n",
        "layer_outputs = [layer.output for layer in model.layers]\n",
        "\n",
        "# Define a new model with the same input shape as the original model \n",
        "# and layer_outputs as its outputs\n",
        "activation_model = Model(inputs=model.inputs, outputs=layer_outputs)\n",
        "\n",
        "# Get all the activations by calling the predict() method on the target image \n",
        "# in X_train. Make sure to reshape the image so it has a new 0 axis of length 1."
      ],
      "metadata": {
        "id": "moVNaoMAw08G"
      },
      "execution_count": null,
      "outputs": []
    },
    {
      "cell_type": "markdown",
      "source": [
        "We must identify images in the training set for each category in isolation.  We know from before that all categories appear many times, but we only need the one example for each, no need to get carried away."
      ],
      "metadata": {
        "id": "5LdCYzgQzGuH"
      }
    },
    {
      "cell_type": "code",
      "source": [
        "M_predictions = model.predict(X_val)\n",
        "M_pred_hard = np.round_(M_predictions)"
      ],
      "metadata": {
        "id": "fLJqZGFBG2cp"
      },
      "execution_count": null,
      "outputs": []
    },
    {
      "cell_type": "code",
      "source": [
        "#Opacity only                    --> (1,0,0,0,0,0,0)\n",
        "#Diabetic Retinopathy only       --> (0,1,0,0,0,0,0)\n",
        "#Glaucoma only                   --> (0,0,1,0,0,0,0)\n",
        "#Macular Edema only              --> (0,0,0,1,0,0,0)\n",
        "#Macular Degeneration only       --> (0,0,0,0,1,0,0)\n",
        "#Retinal Vascular Occlusion only --> (0,0,0,0,0,1,0)\n",
        "#Normal                          --> (0,0,0,0,0,0,1)\n",
        "\n",
        "Opacity_indices  = [idx for idx,pred in enumerate(M_pred_hard) if np.all(pred == y_val[idx]) and np.all(pred == (1,0,0,0,0,0,0))]\n",
        "DR_indices       = [idx for idx,pred in enumerate(M_pred_hard) if np.all(pred == y_val[idx]) and np.all(pred == (0,1,0,0,0,0,0))]\n",
        "Glaucoma_indices = [idx for idx,pred in enumerate(M_pred_hard) if np.all(pred == y_val[idx]) and np.all(pred == (0,0,1,0,0,0,0))]\n",
        "MacEd_indices    = [idx for idx,pred in enumerate(M_pred_hard) if np.all(pred == y_val[idx]) and np.all(pred == (0,0,0,1,0,0,0))]\n",
        "MacDeg_indices   = [idx for idx,pred in enumerate(M_pred_hard) if np.all(pred == y_val[idx]) and np.all(pred == (0,0,0,0,1,0,0))]\n",
        "RVO_indices      = [idx for idx,pred in enumerate(M_pred_hard) if np.all(pred == y_val[idx]) and np.all(pred == (0,0,0,0,0,1,0))]\n",
        "Normal_indices   = [idx for idx,pred in enumerate(M_pred_hard) if np.all(pred == y_val[idx]) and np.all(pred == (0,0,0,0,0,0,1))]\n",
        "\n",
        "\n",
        "print(f'Number of correct Opacity predictions: {len(Opacity_indices)}')\n",
        "print(f'Number of correct DR predictions: {len(DR_indices)}')\n",
        "print(f'Number of correct Glaucoma predictions: {len(Glaucoma_indices)}')\n",
        "print(f'Number of correct MacEd predictions: {len(MacEd_indices)}')\n",
        "print(f'Number of correct MacDeg predictions: {len(MacDeg_indices)}')\n",
        "print(f'Number of correct RVO predictions: {len(RVO_indices)}')\n",
        "print(f'Number of correct Normal predictions: {len(Normal_indices)}')"
      ],
      "metadata": {
        "colab": {
          "base_uri": "https://localhost:8080/"
        },
        "id": "epTMd8zr5uoZ",
        "outputId": "f74bf3c9-d950-41ed-93c9-902110cbf32e"
      },
      "execution_count": null,
      "outputs": [
        {
          "output_type": "stream",
          "name": "stdout",
          "text": [
            "Number of correct Opacity predictions: 132\n",
            "Number of correct DR predictions: 18\n",
            "Number of correct Glaucoma predictions: 54\n",
            "Number of correct MacEd predictions: 0\n",
            "Number of correct MacDeg predictions: 65\n",
            "Number of correct RVO predictions: 22\n",
            "Number of correct Normal predictions: 124\n"
          ]
        }
      ]
    },
    {
      "cell_type": "code",
      "source": [
        "#Run this for Model One only, hard-code the indices for the other two later\n",
        "#Deal with MacEd separately\n",
        "Opacity_idx = Opacity_indices[0]\n",
        "DR_idx = DR_indices[0]\n",
        "Glauc_idx = Glaucoma_indices[0]\n",
        "MacDeg_idx = MacDeg_indices[0]\n",
        "RVO_idx = RVO_indices[0]\n",
        "Normal_idx = Normal_indices[0]\n",
        "\n",
        "print(f'Opacity index: {Opacity_idx}')\n",
        "print(f'DR index: {DR_idx}')\n",
        "print(f'Glaucoma index: {Glauc_idx}')\n",
        "print(f'MacDeg index: {MacDeg_idx}')\n",
        "print(f'RVO index: {RVO_idx}')\n",
        "print(f'Normal index: {Normal_idx}')"
      ],
      "metadata": {
        "colab": {
          "base_uri": "https://localhost:8080/"
        },
        "id": "epinMz4W9pN1",
        "outputId": "3ce59244-345f-4783-a492-8f57d52c6923"
      },
      "execution_count": null,
      "outputs": [
        {
          "output_type": "stream",
          "name": "stdout",
          "text": [
            "Opacity index: 0\n",
            "DR index: 24\n",
            "Glaucoma index: 23\n",
            "MacDeg index: 18\n",
            "RVO index: 12\n",
            "Normal index: 15\n"
          ]
        }
      ]
    },
    {
      "cell_type": "code",
      "source": [
        "Opacity_idx = 0\n",
        "DR_idx = 24\n",
        "Glauc_idx = 23\n",
        "MacDeg_idx = 18\n",
        "RVO_idx = 12\n",
        "Normal_idx = 15\n",
        "\n",
        "print(f'|---------------{modelname}----------------|')\n",
        "print(f'Opacity probability: {M_predictions[Opacity_idx][0]}')\n",
        "print(f'DR probability: {M_predictions[DR_idx][1]}')\n",
        "print(f'Glaucoma probability: {M_predictions[Glauc_idx][2]}')\n",
        "print(f'MacDeg probability: {M_predictions[MacDeg_idx][4]}')\n",
        "print(f'RVO probability: {M_predictions[RVO_idx][5]}')\n",
        "print(f'Normal probability: {M_predictions[Normal_idx][6]}')"
      ],
      "metadata": {
        "colab": {
          "base_uri": "https://localhost:8080/"
        },
        "id": "7omf5Ebx-3I1",
        "outputId": "2947b879-1c3f-4edf-ce71-345e745fe75a"
      },
      "execution_count": null,
      "outputs": [
        {
          "output_type": "stream",
          "name": "stdout",
          "text": [
            "|---------------Model_Three----------------|\n",
            "Opacity probability: 0.9129446148872375\n",
            "DR probability: 0.9263263940811157\n",
            "Glaucoma probability: 0.7817981839179993\n",
            "MacDeg probability: 0.9933271408081055\n",
            "RVO probability: 0.06906282156705856\n",
            "Normal probability: 0.999974250793457\n"
          ]
        }
      ]
    },
    {
      "cell_type": "markdown",
      "source": [
        "Let's make use of the grad-CAM functions found here: https://keras.io/examples/vision/grad_cam/\n",
        "\n",
        "These will allow us to visualize the output of the last convolutional layer of the model & possibly overlay it on the original image."
      ],
      "metadata": {
        "id": "W2JfUuPmxi6e"
      }
    },
    {
      "cell_type": "code",
      "source": [
        "def get_img_array(img_path, size):\n",
        "    # `img` is a PIL image of size 224x224\n",
        "    img = tf.keras.preprocessing.image.load_img(img_path, target_size=size)\n",
        "    # `array` is a float32 Numpy array of shape (224, 224, 3)\n",
        "    array = tf.keras.preprocessing.image.img_to_array(img)\n",
        "    # We add a dimension to transform our array into a \"batch\"\n",
        "    # of size (1, 224, 224, 3)\n",
        "    array = np.expand_dims(array, axis=0)\n",
        "    return array\n",
        "\n",
        "def make_gradcam_heatmap(img_array, model, last_conv_layer_name, pred_index=None):\n",
        "    # First, we create a model that maps the input image to the activations\n",
        "    # of the last conv layer as well as the output predictions\n",
        "    grad_model = tf.keras.models.Model(\n",
        "        [model.inputs], [model.get_layer(last_conv_layer_name).output, model.output]\n",
        "    )\n",
        "\n",
        "    # Then, we compute the gradient of the top predicted class for our input image\n",
        "    # with respect to the activations of the last conv layer\n",
        "    with tf.GradientTape() as tape:\n",
        "        last_conv_layer_output, preds = grad_model(img_array)\n",
        "        if pred_index is None:\n",
        "            pred_index = tf.argmax(preds[0])\n",
        "        class_channel = preds[:, pred_index]\n",
        "\n",
        "    # This is the gradient of the output neuron (top predicted or chosen)\n",
        "    # with regard to the output feature map of the last conv layer\n",
        "    grads = tape.gradient(class_channel, last_conv_layer_output)\n",
        "\n",
        "    # This is a vector where each entry is the mean intensity of the gradient\n",
        "    # over a specific feature map channel\n",
        "    pooled_grads = tf.reduce_mean(grads, axis=(0, 1, 2))\n",
        "\n",
        "    # We multiply each channel in the feature map array\n",
        "    # by \"how important this channel is\" with regard to the top predicted class\n",
        "    # then sum all the channels to obtain the heatmap class activation\n",
        "    last_conv_layer_output = last_conv_layer_output[0]\n",
        "    heatmap = last_conv_layer_output @ pooled_grads[..., tf.newaxis]\n",
        "    heatmap = tf.squeeze(heatmap)\n",
        "\n",
        "    # For visualization purpose, we will also normalize the heatmap between 0 & 1\n",
        "    heatmap = tf.maximum(heatmap, 0) / tf.math.reduce_max(heatmap)\n",
        "    return heatmap.numpy()"
      ],
      "metadata": {
        "id": "7GPaKVl2xovZ"
      },
      "execution_count": null,
      "outputs": []
    },
    {
      "cell_type": "code",
      "metadata": {
        "id": "RdRBHHbOVYMZ"
      },
      "source": [
        "def save_and_display_gradcam(img, heatmap, org_path: str='original.jpg', cam_path: str=\"cam.jpg\", alpha: float=0.4):\n",
        "    # Load the original image\n",
        "    #img = keras.preprocessing.image.load_img(img_path)\n",
        "    #img = keras.preprocessing.image.img_to_array(img)\n",
        "    # Rescale image to a range 0 - 255\n",
        "    img = np.uint(255 * img)\n",
        "\n",
        "    # Rescale heatmap to a range 0-255\n",
        "    heatmap = np.uint8(255 * heatmap)\n",
        "\n",
        "    # Use jet colormap to colorize heatmap\n",
        "    jet = colormap.get_cmap(\"jet\")\n",
        "\n",
        "    # Use RGB values of the colormap\n",
        "    jet_colors = jet(np.arange(256))[:, :3]\n",
        "    jet_heatmap = jet_colors[heatmap]\n",
        "\n",
        "    # Create an image with RGB colorized heatmap\n",
        "    jet_heatmap = tf.keras.preprocessing.image.array_to_img(jet_heatmap)\n",
        "    jet_heatmap = jet_heatmap.resize((img.shape[1], img.shape[0]))\n",
        "    jet_heatmap = tf.keras.preprocessing.image.img_to_array(jet_heatmap)\n",
        "\n",
        "    # Superimpose the heatmap on original image\n",
        "    superimposed_img = jet_heatmap * alpha + img\n",
        "    superimposed_img = tf.keras.preprocessing.image.array_to_img(superimposed_img)\n",
        "\n",
        "    # Save original image with recognizable name\n",
        "    original_img = tf.keras.preprocessing.image.array_to_img(img) #Not sure if necessary...\n",
        "    #original_img.save(org_path)\n",
        "\n",
        "    # Save the superimposed image\n",
        "    superimposed_img.save(cam_path)\n",
        "\n",
        "    # Display Grad CAM\n",
        "    #display(Image(cam_path))\n"
      ],
      "execution_count": null,
      "outputs": []
    },
    {
      "cell_type": "code",
      "source": [
        "model.summary()"
      ],
      "metadata": {
        "colab": {
          "base_uri": "https://localhost:8080/"
        },
        "id": "kpN14TpDAaNA",
        "outputId": "174d73a7-7ecb-47d8-e92e-3ecfbcc9c4e6"
      },
      "execution_count": null,
      "outputs": [
        {
          "output_type": "stream",
          "name": "stdout",
          "text": [
            "Model: \"sequential_1\"\n",
            "_________________________________________________________________\n",
            " Layer (type)                Output Shape              Param #   \n",
            "=================================================================\n",
            " conv2d_45 (Conv2D)          (None, None, None, 64)    9472      \n",
            "                                                                 \n",
            " batch_normalization_41 (Bat  (None, None, None, 64)   256       \n",
            " chNormalization)                                                \n",
            "                                                                 \n",
            " activation_1 (Activation)   (None, None, None, 64)    0         \n",
            "                                                                 \n",
            " max_pooling2d_1 (MaxPooling  (None, None, None, 64)   0         \n",
            " 2D)                                                             \n",
            "                                                                 \n",
            " general_resnet_block_5 (Gen  (None, 56, 56, 64)       297472    \n",
            " eralResnetBlock)                                                \n",
            "                                                                 \n",
            " general_resnet_block_6 (Gen  (None, 28, 28, 128)      1119360   \n",
            " eralResnetBlock)                                                \n",
            "                                                                 \n",
            " general_resnet_block_7 (Gen  (None, 14, 14, 256)      4466944   \n",
            " eralResnetBlock)                                                \n",
            "                                                                 \n",
            " general_resnet_block_8 (Gen  (None, 7, 7, 512)        17846784  \n",
            " eralResnetBlock)                                                \n",
            "                                                                 \n",
            " general_resnet_block_9 (Gen  (None, 4, 4, 1024)       71345152  \n",
            " eralResnetBlock)                                                \n",
            "                                                                 \n",
            " global_average_pooling2d_1   (None, 1024)             0         \n",
            " (GlobalAveragePooling2D)                                        \n",
            "                                                                 \n",
            " dense_1 (Dense)             (None, 7)                 7175      \n",
            "                                                                 \n",
            "=================================================================\n",
            "Total params: 95,092,615\n",
            "Trainable params: 95,060,743\n",
            "Non-trainable params: 31,872\n",
            "_________________________________________________________________\n"
          ]
        }
      ]
    },
    {
      "cell_type": "code",
      "source": [
        "##Test cell, checking whether the tf.keras.preprocessing line is needed for the original image\n",
        "last_conv_name = 'general_resnet_block_3'\n",
        "idx = 0\n",
        "image = X_val[idx]\n",
        "img_array = np.expand_dims(image, axis=0)\n",
        "heatmap = make_gradcam_heatmap(img_array, model, last_conv_name)\n",
        "save_and_display_gradcam(image, heatmap, f'{MAIN_DIR}/TEST_original_img.jpg', f'{MAIN_DIR}/TEST_overlay_img.jpg')"
      ],
      "metadata": {
        "id": "I8eKlFs5klB6"
      },
      "execution_count": null,
      "outputs": []
    },
    {
      "cell_type": "code",
      "source": [
        "#Generify the content of the next few cells\n",
        "last_conv_name = 'general_resnet_block_9' #Must find a better way to grab this...\n",
        "\n",
        "#names = ['Opacity', 'DiabeticRetinopathy', 'Glaucoma', 'MacularEdema', 'MacularDegeneration', 'RetinalVascularOcclusion', 'Normal']\n",
        "#indices = [Opacity_idx, DR_idx, Glauc_idx, MacEd_idx, MacDeg_idx, RVO_idx, Normal_idx]\n",
        "names = ['Opacity', 'DiabeticRetinopathy', 'Glaucoma', 'MacularDegeneration', 'RetinalVascularOcclusion', 'Normal']\n",
        "indices = [Opacity_idx, DR_idx, Glauc_idx, MacDeg_idx, RVO_idx, Normal_idx]\n",
        "images = [X_val[idx] for idx in indices]\n",
        "img_arrays = [np.expand_dims(image, axis=0) for image in images]\n",
        "heatmaps = [make_gradcam_heatmap(img_array, model, last_conv_name) for img_array in img_arrays]"
      ],
      "metadata": {
        "id": "Z9XnEHVHSGu-"
      },
      "execution_count": null,
      "outputs": []
    },
    {
      "cell_type": "code",
      "source": [
        "for image,heatmap,name in zip(images, heatmaps, names):\n",
        "    orgname = f'{MAIN_DIR}/{modelname}_expnum_{expno}_{name}_original.jpg'\n",
        "    save_and_display_gradcam(image, heatmap, orgname,f'{MAIN_DIR}/{modelname}_expnum_{expno}_{name}_overlay.jpg')"
      ],
      "metadata": {
        "id": "o6zforn9Tl50"
      },
      "execution_count": null,
      "outputs": []
    },
    {
      "cell_type": "markdown",
      "source": [
        "## Barrier Cell\n",
        "Several of these are probably superfluous & will be deleted soon"
      ],
      "metadata": {
        "id": "DaZdO4fd8eQG"
      }
    },
    {
      "cell_type": "code",
      "source": [
        "#IDK if we actually need these for anything...\n",
        "#indices = [Opacity_idx, DR_idx, Glauc_idx, MacEd_idx, MacDeg_idx, RVO_idx, Normal_idx]\n",
        "#for idx, x in enumerate(indices):\n",
        "#    activations = activation_model.predict(X_val[x].reshape(1,224,224,3))\n",
        "#    display_activation(activations=activations, condition=index_map[idx], col_size=8, row_size=8, act_index=1)"
      ],
      "metadata": {
        "id": "IcgDmd4WvYSY"
      },
      "execution_count": null,
      "outputs": []
    },
    {
      "cell_type": "markdown",
      "source": [
        "## Barrier cell\n",
        "Probably don't need the next few, I believe the two above completely cover them."
      ],
      "metadata": {
        "id": "uEODDzuUUlvG"
      }
    }
  ]
}